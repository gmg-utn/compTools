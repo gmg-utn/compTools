{
 "cells": [
  {
   "cell_type": "markdown",
   "metadata": {},
   "source": [
    "# Variables y tipos de datos\n",
    "\n",
    "Ejecutar este documento en forma dinámica: [![Open In Colab](https://colab.research.google.com/assets/colab-badge.svg)](https://colab.research.google.com/github/gmg-utn/compTools/blob/master/variables_tipos/variablesTipos.ipynb)"
   ]
  },
  {
   "cell_type": "markdown",
   "metadata": {},
   "source": [
    "En los lenguajes de programación, las variables son espacios abstractos de almacenamiento de información asociados a un **nombre** simbólico, que contiene alguna cantidad de información denominada **valor**. En otras palabras, una variable es un contenedor con nombre para un conjunto particular de **bits** o tipo de dato (entero, flotante, carácter, etc.). Eventualmente, una variable puede asociarse con una dirección de memoria."
   ]
  },
  {
   "cell_type": "markdown",
   "metadata": {},
   "source": [
    "## Nombres de variables\n",
    "\n",
    "Los nombres de las variables en Python pueden contener caracteres alfanuméricos `a-z`, `A-Z`, `0-9` y algunos caracteres especiales como `_`. Normalmente los nombres de variables comienzan con una letra.\n",
    "\n",
    "Por convención, los nombres de las variables comienzan con minúsculas, reservándose el comienzo con mayúsculas para los nombres de las clases (veremos algo de orientación a objetos más adelante).\n",
    "\n",
    "Por otra parte, hay un número de palabras clave, o *keywords*, que no pueden utilizarse como nombres de variables. Estas keywords son:\n",
    "\n",
    "> and, as, assert, break, class, continue, def, del, elif, else, except, \n",
    "> exec, finally, for, from, global, if, import, in, is, lambda, not, or,\n",
    "> pass, print, raise, return, try, while, with, yield\n",
    "\n",
    "**Nota**: tener cuidado con la keyword `lambda`, que puede ser un nombre de variable natural en un programa científico, pero al ser una keyword no puede utilizarse de ese modo.\n"
   ]
  },
  {
   "cell_type": "markdown",
   "metadata": {},
   "source": [
    "## Asignación de variables\n",
    "\n",
    "Para vincular el valor de una variable con un nombre, se utiliza el operador de asignación que en Python es `=`. No debe confundirse el operador asignación `=` con el símbolo matemático que denota igualdad. Para hacer una compración de igualdad en Python se utiliza `==` (doble igualdad) como veremos más abajo.  \n",
    "\n",
    "Dado que Python es un lenguaje dinámicamente tipado, no es necesario especificar el tipo de la variable al crear una.Asignar un valor a una nueva variable **crea** dicha variable:"
   ]
  },
  {
   "cell_type": "code",
   "execution_count": 5,
   "metadata": {},
   "outputs": [],
   "source": [
    "# Asignación de variables\n",
    "x = 1.0\n",
    "mi_variable = 13.31"
   ]
  },
  {
   "cell_type": "markdown",
   "metadata": {},
   "source": [
    "Aunque no lo especifiquemos explícitamente, una variable tiene un tipo asociado con ella. El tipo se deriva del valor que se le asigna:"
   ]
  },
  {
   "cell_type": "code",
   "execution_count": 6,
   "metadata": {},
   "outputs": [
    {
     "data": {
      "text/plain": [
       "float"
      ]
     },
     "execution_count": 6,
     "metadata": {},
     "output_type": "execute_result"
    }
   ],
   "source": [
    "type(x)"
   ]
  },
  {
   "cell_type": "markdown",
   "metadata": {},
   "source": [
    "Si asignamos un nuevo valor a una variable, su tipo puede cambiar:"
   ]
  },
  {
   "cell_type": "code",
   "execution_count": 7,
   "metadata": {},
   "outputs": [
    {
     "data": {
      "text/plain": [
       "int"
      ]
     },
     "execution_count": 7,
     "metadata": {},
     "output_type": "execute_result"
    }
   ],
   "source": [
    "x = 1\n",
    "type(x)"
   ]
  },
  {
   "cell_type": "markdown",
   "metadata": {},
   "source": [
    "Si queremos utilizar una variable que aún no ha sido definida, obtendremos un error de nombre (`NameError`):"
   ]
  },
  {
   "cell_type": "code",
   "execution_count": 8,
   "metadata": {},
   "outputs": [
    {
     "ename": "NameError",
     "evalue": "name 'y' is not defined",
     "output_type": "error",
     "traceback": [
      "\u001b[0;31m---------------------------------------------------------------------------\u001b[0m",
      "\u001b[0;31mNameError\u001b[0m                                 Traceback (most recent call last)",
      "Cell \u001b[0;32mIn [8], line 1\u001b[0m\n\u001b[0;32m----> 1\u001b[0m \u001b[38;5;28mprint\u001b[39m(\u001b[43my\u001b[49m)\n",
      "\u001b[0;31mNameError\u001b[0m: name 'y' is not defined"
     ]
    }
   ],
   "source": [
    "print(y)"
   ]
  },
  {
   "cell_type": "markdown",
   "metadata": {},
   "source": [
    "## Tipos fundamentales\n"
   ]
  },
  {
   "cell_type": "markdown",
   "metadata": {},
   "source": [
    "En Python, un tipo consiste en dos cosas:\n",
    "\n",
    "- Un conjunto de valores.\n",
    "- Un conjunto de operaciones que pueden aplicarse a esos valores."
   ]
  },
  {
   "cell_type": "markdown",
   "metadata": {},
   "source": [
    "### Evaluación de verdadero o falso\n",
    "\n",
    "Cualquier objeto puede ser evaluado verdadero o falso, para ser utilizado como condición para un bloque de repetición de intrucciones `if` o `while`, o como operando de las operaciones booleanas (ver más abajo).\n",
    "\n",
    "Por defecto, un objeto es considerado verdadero (`True`) a menos que su clase defina un método `__bool__()` que devuelva falso (`False`) o un método `__len__()` que devuelva cero, cuando se invoquen sobre el objeto. Una lista de la mayoría de los objetos *built-in* considerados falso es la siguiente:\n",
    "\n",
    "- Constantes definidas como falsas: `None` y `False`\n",
    "- Cero de cualquier tipo numérico: `0`, `0.0`, `0j`, `Decimal(0)`, `Fraction(0,1)`\n",
    "- Secuencias y colecciones vacías: `''`, `()`, `[]`, `{}`, `set()`, `range(0)`\n",
    "\n",
    "Las operaciones y funciones *built-in* que tienen un resultado booleano siempre devuelven `0` o `False` para falso y `1` o `True`, a menos que se establezca de otra forma. Una excepción importante: las operaciones booleanas `or` y `and` siempre devuelven uno de sus operandos. Ejemplo:"
   ]
  },
  {
   "cell_type": "code",
   "execution_count": 9,
   "metadata": {},
   "outputs": [
    {
     "data": {
      "text/plain": [
       "[1, 2, 3]"
      ]
     },
     "execution_count": 9,
     "metadata": {},
     "output_type": "execute_result"
    }
   ],
   "source": [
    "a = [1,2,3]\n",
    "b = False\n",
    "a or b"
   ]
  },
  {
   "cell_type": "markdown",
   "metadata": {},
   "source": [
    "Las operaciones booleanas, ordenadas por prioridad ascendente, son:\n",
    "\n",
    "Operación | Resultado | Nota\n",
    "---: | ---: | :---:\n",
    "`x or y` | Si `x` es falso devuelve `y`, si no `x` | (1)\n",
    "`x and y` | Si `x` es falso devuelve `x`, si no `y` | (2)\n",
    "`not x` | Si `x` es falso devuelve `True`, si no `False` | (3)\n",
    "\n",
    "Notas:\n",
    "\n",
    "1. Solo se evalúa el segundo argumento si el primero es falso\n",
    "2. Solo se evalúa el segundo argumento si el primero es verdadero\n",
    "3. `not` tiene menor prioridad que cualquier otro operador booleano, por lo tanto `not a == b` se interpreta como `not (a == b)`, y `a == not b` es un error de sintaxis.\n",
    "\n",
    "Existen ocho operaciones de comparación en Python, y todas tienen la misma prioridad (mayor a las de las operaciones booleanas). Las comparaciones pueden encadenarse abritrariamente, por ejemplo `x < y <= z` es equivalente a `x < y and y <= z`, excepto que `y` se evalúa una sola vez (pero en ambos casos `z` no se evalúa si `x < y` es falso). Las operaciones de comparación son:\n",
    "\n",
    "Operación | Significado\n",
    "---- | :----\n",
    "`<` | estrictamente menor que\n",
    "`<=` | menor o igual que \n",
    "`>` | estrictamente mayor\n",
    "`>=` | mayor o igual que\n",
    "`==` | igual\n",
    "`!=` | no igual\n",
    "`is` | identidad\n",
    "`is not` | identidad negada\n"
   ]
  },
  {
   "cell_type": "markdown",
   "metadata": {},
   "source": [
    "### Tipos numéricos\n",
    "\n",
    "Python provee tres tipos numéricos distintos: **enteros** (`int`), de **punto flotante** (`float`) y **números complejos** (`complex`). Además, los valores lógicos booleanos (`bool`) son un subtipo de los enteros. Los enteros tienen precisión ilimitada, mientras que los `float` son usualmente representados usando el tipo `double` del lenguaje C. La información sobre la precisión y representación interna de los números `float` en cada máquina puede obtenerse en `sys.float_info`:"
   ]
  },
  {
   "cell_type": "code",
   "execution_count": 10,
   "metadata": {},
   "outputs": [
    {
     "name": "stdout",
     "output_type": "stream",
     "text": [
      "sys.float_info(max=1.7976931348623157e+308, max_exp=1024, max_10_exp=308, min=2.2250738585072014e-308, min_exp=-1021, min_10_exp=-307, dig=15, mant_dig=53, epsilon=2.220446049250313e-16, radix=2, rounds=1)\n"
     ]
    }
   ],
   "source": [
    "import sys\n",
    "print(sys.float_info)"
   ]
  },
  {
   "cell_type": "markdown",
   "metadata": {},
   "source": [
    "Los números son creados mediante literales numéricos o como resultado de funciones *built-in* y operadores. Literales enteros sin \"adornos\" producen enteros, los que contienen un punto decimal o un signo de exponente producen `float`s, y agregando una `j` o `J` a un literal numérico obtenemos un número imaginario (complejo con parte real nula)."
   ]
  },
  {
   "cell_type": "code",
   "execution_count": 11,
   "metadata": {},
   "outputs": [
    {
     "data": {
      "text/plain": [
       "int"
      ]
     },
     "execution_count": 11,
     "metadata": {},
     "output_type": "execute_result"
    }
   ],
   "source": [
    "x = 1\n",
    "type(x)"
   ]
  },
  {
   "cell_type": "code",
   "execution_count": 12,
   "metadata": {},
   "outputs": [
    {
     "data": {
      "text/plain": [
       "float"
      ]
     },
     "execution_count": 12,
     "metadata": {},
     "output_type": "execute_result"
    }
   ],
   "source": [
    "x = 1.0\n",
    "type(x)"
   ]
  },
  {
   "cell_type": "code",
   "execution_count": 13,
   "metadata": {},
   "outputs": [
    {
     "data": {
      "text/plain": [
       "complex"
      ]
     },
     "execution_count": 13,
     "metadata": {},
     "output_type": "execute_result"
    }
   ],
   "source": [
    "x = 1j\n",
    "type(x)"
   ]
  },
  {
   "cell_type": "markdown",
   "metadata": {},
   "source": [
    "Python soporta aritmética mixta: cuando un operador aritmético binario tiene operandos de tipos numéricos diferentes, el operando con el tipo más \"restringido\" se expande al tipo del otro operando. El `int` es más restringido que el `float`, que a su vez es más restringido que el `complex`.\n",
    "\n",
    "Todos los tipos numéricos (excepto los complejos) permiten las siguientes operaciones, ordenadas por prioridad ascendente:\n",
    "\n",
    "Operación | Resultado | Notas\n",
    ":--- | :---: | :---\n",
    "`x + y` | $x + y$ |\n",
    "`x - y` | $x - y$ |\n",
    "`x * y` | $x y $ |\n",
    "`x / y` | $x/y$ |\n",
    "`x // y` | división entera de $x$ y $y$ | (1)\n",
    "`x % y` | resto de $x$ y $y$ | (2)\n",
    "`-x` | $-x$ |\n",
    "`abs(x)` | $|x|$ |\n",
    "`int(x)` | $x$ convertido a `int`| (3)(6)\n",
    "`float(x)` | $x$ convertido a `float` | (4)(6)\n",
    "`complex(x, y)` | $x + y i$ | (6)\n",
    "`c.conjugate()` | conjugado de $c$ |\n",
    "`divmod(x, y)` | el par `(x // y), (x % y)` | (2)\n",
    "`pow(x, y)` | $x^y$ | (5)\n",
    "`x ** y` | $x^y$ | (5)\n",
    "\n",
    "**Notas**:\n",
    "\n",
    "1. El resultado se redondea siempre hacia $- \\infty$.\n",
    "2. No es válido para números complejos. Es posible convertir a `float` usando `abs()` cuando es apropiado.\n",
    "3. Las conversiones desde punto flotante a entero puede redondear o truncar como en C. Para obtener conversiones bien definidas se pueden ver las funciones `math.floor()` y `math.ceil()`.\n",
    "4. `float` acepta también las cadenas (*strings*) `nan` e `inf` con el prefijo opcional `+` o `-` para un \"Not a Number\" (NaN) y para infinito positivo o negativo.\n",
    "5. Python define `pow(0, 0)` y `0 ** 0` como `1` como es usual en los lenguajes de programación.\n",
    "6. Los literales numéricos aceptados incluyen los dígitos `0` a `9` o cualquier Unicode equivalente.\n",
    "\n",
    "Algunos ejemplos de las operaciones mencionadas:"
   ]
  },
  {
   "cell_type": "code",
   "execution_count": 14,
   "metadata": {},
   "outputs": [
    {
     "data": {
      "text/plain": [
       "int"
      ]
     },
     "execution_count": 14,
     "metadata": {},
     "output_type": "execute_result"
    }
   ],
   "source": [
    "x, y = 1, 3\n",
    "type(y)"
   ]
  },
  {
   "cell_type": "code",
   "execution_count": 15,
   "metadata": {},
   "outputs": [
    {
     "data": {
      "text/plain": [
       "4"
      ]
     },
     "execution_count": 15,
     "metadata": {},
     "output_type": "execute_result"
    }
   ],
   "source": [
    "x + y"
   ]
  },
  {
   "cell_type": "code",
   "execution_count": 16,
   "metadata": {},
   "outputs": [
    {
     "data": {
      "text/plain": [
       "-2"
      ]
     },
     "execution_count": 16,
     "metadata": {},
     "output_type": "execute_result"
    }
   ],
   "source": [
    "x - y"
   ]
  },
  {
   "cell_type": "code",
   "execution_count": 17,
   "metadata": {},
   "outputs": [
    {
     "data": {
      "text/plain": [
       "3"
      ]
     },
     "execution_count": 17,
     "metadata": {},
     "output_type": "execute_result"
    }
   ],
   "source": [
    "x * y"
   ]
  },
  {
   "cell_type": "markdown",
   "metadata": {},
   "source": [
    "La división de dos enteros produce como resultado un valor `float`:"
   ]
  },
  {
   "cell_type": "code",
   "execution_count": 18,
   "metadata": {},
   "outputs": [
    {
     "name": "stdout",
     "output_type": "stream",
     "text": [
      "0.3333333333333333\n"
     ]
    },
    {
     "data": {
      "text/plain": [
       "float"
      ]
     },
     "execution_count": 18,
     "metadata": {},
     "output_type": "execute_result"
    }
   ],
   "source": [
    "z = x / y\n",
    "print(z)\n",
    "type(z)"
   ]
  },
  {
   "cell_type": "markdown",
   "metadata": {},
   "source": [
    "La división entera `//` devuelve un entero, que siempre se redondea hacia $-\\infty$:"
   ]
  },
  {
   "cell_type": "code",
   "execution_count": 19,
   "metadata": {},
   "outputs": [
    {
     "name": "stdout",
     "output_type": "stream",
     "text": [
      "0\n"
     ]
    },
    {
     "data": {
      "text/plain": [
       "int"
      ]
     },
     "execution_count": 19,
     "metadata": {},
     "output_type": "execute_result"
    }
   ],
   "source": [
    "z = x // y\n",
    "print(z)\n",
    "type(z)"
   ]
  },
  {
   "cell_type": "code",
   "execution_count": 20,
   "metadata": {},
   "outputs": [
    {
     "data": {
      "text/plain": [
       "-1"
      ]
     },
     "execution_count": 20,
     "metadata": {},
     "output_type": "execute_result"
    }
   ],
   "source": [
    "(-1) // 2"
   ]
  },
  {
   "cell_type": "code",
   "execution_count": 21,
   "metadata": {},
   "outputs": [
    {
     "data": {
      "text/plain": [
       "-1"
      ]
     },
     "execution_count": 21,
     "metadata": {},
     "output_type": "execute_result"
    }
   ],
   "source": [
    "1 // (-2)"
   ]
  },
  {
   "cell_type": "code",
   "execution_count": 22,
   "metadata": {},
   "outputs": [
    {
     "data": {
      "text/plain": [
       "0"
      ]
     },
     "execution_count": 22,
     "metadata": {},
     "output_type": "execute_result"
    }
   ],
   "source": [
    "(-1) // (-2)"
   ]
  },
  {
   "cell_type": "markdown",
   "metadata": {},
   "source": [
    "El resto de una división se obtiene con `%`, y devuelve un entero:"
   ]
  },
  {
   "cell_type": "code",
   "execution_count": 23,
   "metadata": {},
   "outputs": [
    {
     "name": "stdout",
     "output_type": "stream",
     "text": [
      "0\n"
     ]
    },
    {
     "data": {
      "text/plain": [
       "int"
      ]
     },
     "execution_count": 23,
     "metadata": {},
     "output_type": "execute_result"
    }
   ],
   "source": [
    "z = y % x\n",
    "print(z)\n",
    "type(z)"
   ]
  },
  {
   "cell_type": "markdown",
   "metadata": {},
   "source": [
    "Los números complejos tienen una parte real y una imaginaria y cada una de ellas es `float`. Para extraer cada componente de un número complejo `z`, se usa `z.real` y `z.imag`. "
   ]
  },
  {
   "cell_type": "code",
   "execution_count": 24,
   "metadata": {},
   "outputs": [
    {
     "data": {
      "text/plain": [
       "complex"
      ]
     },
     "execution_count": 24,
     "metadata": {},
     "output_type": "execute_result"
    }
   ],
   "source": [
    "z = 1.0 - 2.0j\n",
    "type(z)"
   ]
  },
  {
   "cell_type": "code",
   "execution_count": 25,
   "metadata": {},
   "outputs": [
    {
     "name": "stdout",
     "output_type": "stream",
     "text": [
      "(1-2j)\n"
     ]
    }
   ],
   "source": [
    "print(z)"
   ]
  },
  {
   "cell_type": "code",
   "execution_count": 26,
   "metadata": {},
   "outputs": [
    {
     "name": "stdout",
     "output_type": "stream",
     "text": [
      "1.0 -2.0\n"
     ]
    }
   ],
   "source": [
    "print(z.real, z.imag)"
   ]
  },
  {
   "cell_type": "markdown",
   "metadata": {},
   "source": [
    "Conversión de tipos (*casting*):"
   ]
  },
  {
   "cell_type": "code",
   "execution_count": 27,
   "metadata": {},
   "outputs": [
    {
     "name": "stdout",
     "output_type": "stream",
     "text": [
      "1.5 <class 'float'>\n"
     ]
    }
   ],
   "source": [
    "x = 1.5\n",
    "print(x, type(x))"
   ]
  },
  {
   "cell_type": "code",
   "execution_count": 28,
   "metadata": {},
   "outputs": [
    {
     "name": "stdout",
     "output_type": "stream",
     "text": [
      "1 <class 'int'>\n"
     ]
    }
   ],
   "source": [
    "x = int(x)\n",
    "print(x, type(x))"
   ]
  },
  {
   "cell_type": "code",
   "execution_count": 29,
   "metadata": {},
   "outputs": [
    {
     "name": "stdout",
     "output_type": "stream",
     "text": [
      "(1+0j) <class 'complex'>\n"
     ]
    }
   ],
   "source": [
    "z = complex(x)\n",
    "print(z, type(z))"
   ]
  },
  {
   "cell_type": "code",
   "execution_count": 30,
   "metadata": {},
   "outputs": [
    {
     "ename": "TypeError",
     "evalue": "can't convert complex to float",
     "output_type": "error",
     "traceback": [
      "\u001b[0;31m---------------------------------------------------------------------------\u001b[0m",
      "\u001b[0;31mTypeError\u001b[0m                                 Traceback (most recent call last)",
      "Cell \u001b[0;32mIn [30], line 1\u001b[0m\n\u001b[0;32m----> 1\u001b[0m x \u001b[38;5;241m=\u001b[39m \u001b[38;5;28;43mfloat\u001b[39;49m\u001b[43m(\u001b[49m\u001b[43mz\u001b[49m\u001b[43m)\u001b[49m\n",
      "\u001b[0;31mTypeError\u001b[0m: can't convert complex to float"
     ]
    }
   ],
   "source": [
    "x = float(z)"
   ]
  },
  {
   "cell_type": "markdown",
   "metadata": {},
   "source": [
    "Las variables complejas no pueden convertirse en `float` o `int`. Es necesario hacer uso de `z.real` o `z.imag` para obtener la parte del número complejo que queremos."
   ]
  },
  {
   "cell_type": "markdown",
   "metadata": {},
   "source": [
    "### Tipos compuestos: listas, tuplas, strings, diccionarios y conjuntos\n",
    "\n",
    "Python provee varios tipos eficientes de contenedores, en donde pueden almacenarse colecciones de objetos."
   ]
  },
  {
   "cell_type": "markdown",
   "metadata": {},
   "source": [
    "Las **listas** son colecciones ordenadas de objetos que pueden ser de tipos diferentes. Por ejemplo:"
   ]
  },
  {
   "cell_type": "code",
   "execution_count": 31,
   "metadata": {},
   "outputs": [
    {
     "data": {
      "text/plain": [
       "list"
      ]
     },
     "execution_count": 31,
     "metadata": {},
     "output_type": "execute_result"
    }
   ],
   "source": [
    "colores = ['rojo', 'azul', 'verde', 'blanco', 'negro']\n",
    "type(colores)"
   ]
  },
  {
   "cell_type": "markdown",
   "metadata": {},
   "source": [
    "Para acceder a los elementos individuales de la lista se utiliza su **índice**, teniendo en cuenta que el primer elemento es el 0 (cero) como en C/C++, no el 1 como en FORTRAN o Matlab):"
   ]
  },
  {
   "cell_type": "code",
   "execution_count": 32,
   "metadata": {},
   "outputs": [
    {
     "data": {
      "text/plain": [
       "'verde'"
      ]
     },
     "execution_count": 32,
     "metadata": {},
     "output_type": "execute_result"
    }
   ],
   "source": [
    "colores[2]"
   ]
  },
  {
   "cell_type": "markdown",
   "metadata": {},
   "source": [
    "Para contar desde el final de la lista se utilizan índices negativos:"
   ]
  },
  {
   "cell_type": "code",
   "execution_count": 33,
   "metadata": {},
   "outputs": [
    {
     "name": "stdout",
     "output_type": "stream",
     "text": [
      "negro verde\n"
     ]
    }
   ],
   "source": [
    "print(colores[-1],colores[-3])"
   ]
  },
  {
   "cell_type": "markdown",
   "metadata": {},
   "source": [
    "Para obtener una sublista de elementos igualmente espaciados se utiliza el **rebanado** (*slicing*):"
   ]
  },
  {
   "cell_type": "code",
   "execution_count": 34,
   "metadata": {},
   "outputs": [
    {
     "data": {
      "text/plain": [
       "['rojo', 'azul', 'verde', 'blanco', 'negro']"
      ]
     },
     "execution_count": 34,
     "metadata": {},
     "output_type": "execute_result"
    }
   ],
   "source": [
    "colores"
   ]
  },
  {
   "cell_type": "code",
   "execution_count": 35,
   "metadata": {},
   "outputs": [
    {
     "data": {
      "text/plain": [
       "['verde', 'blanco']"
      ]
     },
     "execution_count": 35,
     "metadata": {},
     "output_type": "execute_result"
    }
   ],
   "source": [
    "colores[2:4]"
   ]
  },
  {
   "cell_type": "markdown",
   "metadata": {},
   "source": [
    "**Nota**: el rebanado `colores[inicio:fin]` contiene los elementos con índices `i` tales que `inicio <= i < fin`, es decir, `i` está en el rango desde `inicio` hasta `fin - 1`, por lo tanto `colores[inicio:fin]` tiene (`fin - inicio`) elementos.\n",
    "\n",
    "La sintaxis del rebanado es `colores[inicio:fin:paso]`, siendo todos los parámetros opcionales:"
   ]
  },
  {
   "cell_type": "code",
   "execution_count": 36,
   "metadata": {},
   "outputs": [
    {
     "data": {
      "text/plain": [
       "['rojo', 'azul', 'verde', 'blanco', 'negro']"
      ]
     },
     "execution_count": 36,
     "metadata": {},
     "output_type": "execute_result"
    }
   ],
   "source": [
    "colores"
   ]
  },
  {
   "cell_type": "code",
   "execution_count": 37,
   "metadata": {},
   "outputs": [
    {
     "data": {
      "text/plain": [
       "['blanco', 'negro']"
      ]
     },
     "execution_count": 37,
     "metadata": {},
     "output_type": "execute_result"
    }
   ],
   "source": [
    "colores[3:]"
   ]
  },
  {
   "cell_type": "code",
   "execution_count": 38,
   "metadata": {},
   "outputs": [
    {
     "data": {
      "text/plain": [
       "['rojo', 'azul', 'verde']"
      ]
     },
     "execution_count": 38,
     "metadata": {},
     "output_type": "execute_result"
    }
   ],
   "source": [
    "colores[:3]"
   ]
  },
  {
   "cell_type": "code",
   "execution_count": 39,
   "metadata": {},
   "outputs": [
    {
     "data": {
      "text/plain": [
       "['rojo', 'verde', 'negro']"
      ]
     },
     "execution_count": 39,
     "metadata": {},
     "output_type": "execute_result"
    }
   ],
   "source": [
    "colores[::2]"
   ]
  },
  {
   "cell_type": "markdown",
   "metadata": {},
   "source": [
    "Las listas son **objetos mutables**, por lo que pueden ser modificadas:"
   ]
  },
  {
   "cell_type": "code",
   "execution_count": 40,
   "metadata": {},
   "outputs": [
    {
     "data": {
      "text/plain": [
       "['rojo', 'amarillo', 'verde', 'blanco', 'negro']"
      ]
     },
     "execution_count": 40,
     "metadata": {},
     "output_type": "execute_result"
    }
   ],
   "source": [
    "colores[1] = 'amarillo'\n",
    "colores"
   ]
  },
  {
   "cell_type": "code",
   "execution_count": 41,
   "metadata": {},
   "outputs": [
    {
     "data": {
      "text/plain": [
       "['rojo', 'amarillo', 'gris', 'cyan', 'negro']"
      ]
     },
     "execution_count": 41,
     "metadata": {},
     "output_type": "execute_result"
    }
   ],
   "source": [
    "colores[2:4] = ['gris', 'cyan']\n",
    "colores"
   ]
  },
  {
   "cell_type": "markdown",
   "metadata": {},
   "source": [
    "Los elementos de una lista pueden ser de cualquier tipo (¡incluso otra lista!):"
   ]
  },
  {
   "cell_type": "code",
   "execution_count": 42,
   "metadata": {},
   "outputs": [
    {
     "data": {
      "text/plain": [
       "(3.14, 'hola', 'verde')"
      ]
     },
     "execution_count": 42,
     "metadata": {},
     "output_type": "execute_result"
    }
   ],
   "source": [
    "colores=[1, 3.14, 'hola',['rojo', 'verde']]\n",
    "colores[1], colores[2], colores[3][1]"
   ]
  },
  {
   "cell_type": "markdown",
   "metadata": {},
   "source": [
    "Para colecciones de datos numéricos, todos del mismo tipo, es **mucho más eficiente** utilizar el tipo `array` provisto por el módulo `numpy` (que veremos más adelante). Un array de NumPy es un bloque de memoria que contiene ítems de tamaño fijo, por lo que las operaciones sobre los elementos de un array son muy rápidas ya que están distribuidos en forma regular en la memoria, y tales operaciones pueden realizarse a través de funciones especializadas de C en vez de bucles de Python.\n",
    "\n",
    "Python ofrece una extensa lista de funciones para modificar o interrogar listas. Mostraremos algunos ejemplos a continuación (para más detalle ver la documentación en el [Tutorial de Python](http://docs.python.org.ar/tutorial/3/datastructures.html#mas-sobre-listas))."
   ]
  },
  {
   "cell_type": "markdown",
   "metadata": {},
   "source": [
    "Agregar o eliminar elementos:"
   ]
  },
  {
   "cell_type": "code",
   "execution_count": 43,
   "metadata": {},
   "outputs": [
    {
     "data": {
      "text/plain": [
       "['rojo', 'azul', 'verde', 'blanco', 'negro', 'cyan']"
      ]
     },
     "execution_count": 43,
     "metadata": {},
     "output_type": "execute_result"
    }
   ],
   "source": [
    "colores = ['rojo', 'azul', 'verde', 'blanco', 'negro']\n",
    "colores.append('cyan')\n",
    "colores"
   ]
  },
  {
   "cell_type": "code",
   "execution_count": 44,
   "metadata": {},
   "outputs": [
    {
     "data": {
      "text/plain": [
       "'cyan'"
      ]
     },
     "execution_count": 44,
     "metadata": {},
     "output_type": "execute_result"
    }
   ],
   "source": [
    "colores.pop() # elimina y devuelve el último ítem"
   ]
  },
  {
   "cell_type": "code",
   "execution_count": 45,
   "metadata": {},
   "outputs": [
    {
     "data": {
      "text/plain": [
       "['rojo', 'azul', 'verde', 'blanco', 'negro']"
      ]
     },
     "execution_count": 45,
     "metadata": {},
     "output_type": "execute_result"
    }
   ],
   "source": [
    "colores"
   ]
  },
  {
   "cell_type": "code",
   "execution_count": 46,
   "metadata": {},
   "outputs": [
    {
     "data": {
      "text/plain": [
       "['rojo', 'azul', 'verde', 'blanco', 'negro', 'rosado', 'púrpura']"
      ]
     },
     "execution_count": 46,
     "metadata": {},
     "output_type": "execute_result"
    }
   ],
   "source": [
    "colores.extend(['rosado', 'púrpura']) # extiende colores \"in-place\"\n",
    "colores"
   ]
  },
  {
   "cell_type": "code",
   "execution_count": 47,
   "metadata": {},
   "outputs": [
    {
     "data": {
      "text/plain": [
       "['rojo', 'azul', 'verde', 'blanco', 'negro']"
      ]
     },
     "execution_count": 47,
     "metadata": {},
     "output_type": "execute_result"
    }
   ],
   "source": [
    "colores = colores[:-2]\n",
    "colores"
   ]
  },
  {
   "cell_type": "markdown",
   "metadata": {},
   "source": [
    "Inversión de orden:"
   ]
  },
  {
   "cell_type": "code",
   "execution_count": 48,
   "metadata": {},
   "outputs": [
    {
     "data": {
      "text/plain": [
       "['negro', 'blanco', 'verde', 'azul', 'rojo']"
      ]
     },
     "execution_count": 48,
     "metadata": {},
     "output_type": "execute_result"
    }
   ],
   "source": [
    "icolores = colores[::-1]\n",
    "icolores"
   ]
  },
  {
   "cell_type": "code",
   "execution_count": 49,
   "metadata": {},
   "outputs": [
    {
     "data": {
      "text/plain": [
       "['rojo', 'azul', 'verde', 'blanco', 'negro']"
      ]
     },
     "execution_count": 49,
     "metadata": {},
     "output_type": "execute_result"
    }
   ],
   "source": [
    "icolores2 = list(colores) # icolores2 es una copia de colores\n",
    "icolores2"
   ]
  },
  {
   "cell_type": "code",
   "execution_count": 50,
   "metadata": {},
   "outputs": [
    {
     "name": "stdout",
     "output_type": "stream",
     "text": [
      "['negro', 'blanco', 'verde', 'azul', 'rojo']\n",
      "['rojo', 'azul', 'verde', 'blanco', 'negro']\n"
     ]
    }
   ],
   "source": [
    "icolores2.reverse() # inversión in-place\n",
    "print(icolores2)\n",
    "print(colores)"
   ]
  },
  {
   "cell_type": "markdown",
   "metadata": {},
   "source": [
    "Concatenación y repetición de listas. Python **sobrecarga** el operador `+` y `*` para operar sobre listas y obtener el resultado intuitivamente esperado:"
   ]
  },
  {
   "cell_type": "code",
   "execution_count": 51,
   "metadata": {},
   "outputs": [
    {
     "data": {
      "text/plain": [
       "['negro',\n",
       " 'blanco',\n",
       " 'verde',\n",
       " 'azul',\n",
       " 'rojo',\n",
       " 'rojo',\n",
       " 'azul',\n",
       " 'verde',\n",
       " 'blanco',\n",
       " 'negro']"
      ]
     },
     "execution_count": 51,
     "metadata": {},
     "output_type": "execute_result"
    }
   ],
   "source": [
    "icolores + colores"
   ]
  },
  {
   "cell_type": "code",
   "execution_count": 52,
   "metadata": {},
   "outputs": [
    {
     "data": {
      "text/plain": [
       "['rojo',\n",
       " 'azul',\n",
       " 'verde',\n",
       " 'blanco',\n",
       " 'negro',\n",
       " 'rojo',\n",
       " 'azul',\n",
       " 'verde',\n",
       " 'blanco',\n",
       " 'negro']"
      ]
     },
     "execution_count": 52,
     "metadata": {},
     "output_type": "execute_result"
    }
   ],
   "source": [
    "colores * 2"
   ]
  },
  {
   "cell_type": "markdown",
   "metadata": {},
   "source": [
    "Python permite ordenar listas generando un nuevo objeto u ordenando la lista *in-place*:"
   ]
  },
  {
   "cell_type": "code",
   "execution_count": 53,
   "metadata": {},
   "outputs": [
    {
     "data": {
      "text/plain": [
       "['azul', 'blanco', 'negro', 'rojo', 'verde']"
      ]
     },
     "execution_count": 53,
     "metadata": {},
     "output_type": "execute_result"
    }
   ],
   "source": [
    "sorted(icolores) # Nuevo objeto"
   ]
  },
  {
   "cell_type": "code",
   "execution_count": 54,
   "metadata": {},
   "outputs": [
    {
     "data": {
      "text/plain": [
       "['azul', 'blanco', 'negro', 'rojo', 'verde']"
      ]
     },
     "execution_count": 54,
     "metadata": {},
     "output_type": "execute_result"
    }
   ],
   "source": [
    "icolores.sort() # in place\n",
    "icolores"
   ]
  },
  {
   "cell_type": "markdown",
   "metadata": {},
   "source": [
    "La notación `colores.metodo()` (por ejemplo `colores.append(2)` o `colores.pop()`) es un ejemplo de la sintaxis típica de la programación orientada a objetos (*OOP*). Por ser una `list`, el objeto `colores` posee **métodos** (funciones) que se invocan usando la notación `.`. Para este curso solo es importante conocer la notación `.` y no profundizaremos en la OOP.\n",
    "\n",
    "En este notebook de Jupyter se puede usar la tecla TAB como auxiliar para descubrir los métodos que posee un determinado objeto:"
   ]
  },
  {
   "cell_type": "code",
   "execution_count": 55,
   "metadata": {},
   "outputs": [
    {
     "ename": "SyntaxError",
     "evalue": "invalid syntax (46001360.py, line 1)",
     "output_type": "error",
     "traceback": [
      "\u001b[0;36m  Cell \u001b[0;32mIn [55], line 1\u001b[0;36m\u001b[0m\n\u001b[0;31m    colores.\u001b[0m\n\u001b[0m            ^\u001b[0m\n\u001b[0;31mSyntaxError\u001b[0m\u001b[0;31m:\u001b[0m invalid syntax\n"
     ]
    }
   ],
   "source": [
    "colores."
   ]
  },
  {
   "cell_type": "markdown",
   "metadata": {},
   "source": [
    "Las **tuplas** son como las listas, excepto que no se pueden modificar una vez creadas (son **inmutables**). En Python las tuplas se crean usando la sintaxis `(..., ..., ...)` o incluso `..., ...`:"
   ]
  },
  {
   "cell_type": "code",
   "execution_count": 56,
   "metadata": {},
   "outputs": [
    {
     "name": "stdout",
     "output_type": "stream",
     "text": [
      "(10, 20) <class 'tuple'>\n"
     ]
    }
   ],
   "source": [
    "point = (10, 20)\n",
    "print (point, type(point))"
   ]
  },
  {
   "cell_type": "code",
   "execution_count": 57,
   "metadata": {},
   "outputs": [
    {
     "name": "stdout",
     "output_type": "stream",
     "text": [
      "(10, 20) <class 'tuple'>\n"
     ]
    }
   ],
   "source": [
    "point = 10, 20\n",
    "print (point, type(point))"
   ]
  },
  {
   "cell_type": "markdown",
   "metadata": {},
   "source": [
    "Podemos \"desempaquetar\" una tupla asignándole una lista de variables separadas por comas:"
   ]
  },
  {
   "cell_type": "code",
   "execution_count": 58,
   "metadata": {},
   "outputs": [
    {
     "name": "stdout",
     "output_type": "stream",
     "text": [
      "x =  10\n",
      "y =  20\n"
     ]
    }
   ],
   "source": [
    "x, y = point\n",
    "print('x = ', x)\n",
    "print('y = ', y)"
   ]
  },
  {
   "cell_type": "markdown",
   "metadata": {},
   "source": [
    "Si intentamos asignar un nuevo valor a un elemento en una tupla, obtendremos un error:"
   ]
  },
  {
   "cell_type": "code",
   "execution_count": 59,
   "metadata": {},
   "outputs": [
    {
     "ename": "TypeError",
     "evalue": "'tuple' object does not support item assignment",
     "output_type": "error",
     "traceback": [
      "\u001b[0;31m---------------------------------------------------------------------------\u001b[0m",
      "\u001b[0;31mTypeError\u001b[0m                                 Traceback (most recent call last)",
      "Cell \u001b[0;32mIn [59], line 1\u001b[0m\n\u001b[0;32m----> 1\u001b[0m \u001b[43mpoint\u001b[49m\u001b[43m[\u001b[49m\u001b[38;5;241;43m0\u001b[39;49m\u001b[43m]\u001b[49m \u001b[38;5;241m=\u001b[39m \u001b[38;5;241m5\u001b[39m\n",
      "\u001b[0;31mTypeError\u001b[0m: 'tuple' object does not support item assignment"
     ]
    }
   ],
   "source": [
    "point[0] = 5"
   ]
  },
  {
   "cell_type": "markdown",
   "metadata": {},
   "source": [
    "**_Strings_**, o cadenas de caracteres, constituyen el tipo de variable utilizada para almacenar texto:"
   ]
  },
  {
   "cell_type": "code",
   "execution_count": 60,
   "metadata": {},
   "outputs": [
    {
     "data": {
      "text/plain": [
       "str"
      ]
     },
     "execution_count": 60,
     "metadata": {},
     "output_type": "execute_result"
    }
   ],
   "source": [
    "s = \"Hola mundo\"\n",
    "type(s)"
   ]
  },
  {
   "cell_type": "code",
   "execution_count": 61,
   "metadata": {},
   "outputs": [
    {
     "data": {
      "text/plain": [
       "10"
      ]
     },
     "execution_count": 61,
     "metadata": {},
     "output_type": "execute_result"
    }
   ],
   "source": [
    "# Longitud del string: el número de caracteres\n",
    "len(s)"
   ]
  },
  {
   "cell_type": "markdown",
   "metadata": {},
   "source": [
    "Existen diferentes sintaxis para delimitar strings (apóstrofos simples, dobles o triples):"
   ]
  },
  {
   "cell_type": "code",
   "execution_count": 62,
   "metadata": {},
   "outputs": [
    {
     "name": "stdout",
     "output_type": "stream",
     "text": [
      "Hola,\n",
      "       ¿cómo estás?\n"
     ]
    }
   ],
   "source": [
    "s = 'Hola, ¿qué tal?'\n",
    "s = \"Hi, what's up?\"\n",
    "s = '''Hola,             # triple apóstrofo permite strings de más de una línea\n",
    "       ¿cómo estás?'''\n",
    "s = \"\"\"Hola,\n",
    "       ¿cómo estás?\"\"\"\n",
    "print(s)"
   ]
  },
  {
   "cell_type": "markdown",
   "metadata": {},
   "source": [
    "Las strings son colecciones como las listas, por lo que pueden accederse mediante índices y rebanado utilizando la misma sintaxis y reglas:"
   ]
  },
  {
   "cell_type": "code",
   "execution_count": 63,
   "metadata": {},
   "outputs": [
    {
     "data": {
      "text/plain": [
       "'H'"
      ]
     },
     "execution_count": 63,
     "metadata": {},
     "output_type": "execute_result"
    }
   ],
   "source": [
    "a = 'Hola'\n",
    "a[0]"
   ]
  },
  {
   "cell_type": "code",
   "execution_count": 64,
   "metadata": {},
   "outputs": [
    {
     "data": {
      "text/plain": [
       "'o'"
      ]
     },
     "execution_count": 64,
     "metadata": {},
     "output_type": "execute_result"
    }
   ],
   "source": [
    "a[1]"
   ]
  },
  {
   "cell_type": "code",
   "execution_count": 65,
   "metadata": {},
   "outputs": [
    {
     "data": {
      "text/plain": [
       "'a'"
      ]
     },
     "execution_count": 65,
     "metadata": {},
     "output_type": "execute_result"
    }
   ],
   "source": [
    "a[-1]"
   ]
  },
  {
   "cell_type": "code",
   "execution_count": 66,
   "metadata": {},
   "outputs": [
    {
     "data": {
      "text/plain": [
       "'la '"
      ]
     },
     "execution_count": 66,
     "metadata": {},
     "output_type": "execute_result"
    }
   ],
   "source": [
    "a = '¡Hola mundo!'\n",
    "a[3:6]"
   ]
  },
  {
   "cell_type": "code",
   "execution_count": 67,
   "metadata": {},
   "outputs": [
    {
     "data": {
      "text/plain": [
       "'oamn'"
      ]
     },
     "execution_count": 67,
     "metadata": {},
     "output_type": "execute_result"
    }
   ],
   "source": [
    "a[2:10:2]"
   ]
  },
  {
   "cell_type": "code",
   "execution_count": 68,
   "metadata": {},
   "outputs": [
    {
     "data": {
      "text/plain": [
       "'¡lmd'"
      ]
     },
     "execution_count": 68,
     "metadata": {},
     "output_type": "execute_result"
    }
   ],
   "source": [
    "a[::3]"
   ]
  },
  {
   "cell_type": "markdown",
   "metadata": {},
   "source": [
    "Las strings constituyen **objetos inmutables** por lo que no es posible modificar sus contenidos. Sin embargo es posible crear nuevas strings a partir de una dada:"
   ]
  },
  {
   "cell_type": "code",
   "execution_count": 69,
   "metadata": {},
   "outputs": [
    {
     "ename": "TypeError",
     "evalue": "'str' object does not support item assignment",
     "output_type": "error",
     "traceback": [
      "\u001b[0;31m---------------------------------------------------------------------------\u001b[0m",
      "\u001b[0;31mTypeError\u001b[0m                                 Traceback (most recent call last)",
      "Cell \u001b[0;32mIn [69], line 1\u001b[0m\n\u001b[0;32m----> 1\u001b[0m \u001b[43ma\u001b[49m\u001b[43m[\u001b[49m\u001b[38;5;241;43m2\u001b[39;49m\u001b[43m]\u001b[49m \u001b[38;5;241m=\u001b[39m \u001b[38;5;124m'\u001b[39m\u001b[38;5;124mz\u001b[39m\u001b[38;5;124m'\u001b[39m\n",
      "\u001b[0;31mTypeError\u001b[0m: 'str' object does not support item assignment"
     ]
    }
   ],
   "source": [
    "a[2] = 'z'"
   ]
  },
  {
   "cell_type": "code",
   "execution_count": 70,
   "metadata": {},
   "outputs": [
    {
     "data": {
      "text/plain": [
       "'¡Hela mundo!'"
      ]
     },
     "execution_count": 70,
     "metadata": {},
     "output_type": "execute_result"
    }
   ],
   "source": [
    "a.replace('o', 'e', 1)"
   ]
  },
  {
   "cell_type": "code",
   "execution_count": 71,
   "metadata": {},
   "outputs": [
    {
     "data": {
      "text/plain": [
       "'¡Hela munde!'"
      ]
     },
     "execution_count": 71,
     "metadata": {},
     "output_type": "execute_result"
    }
   ],
   "source": [
    "a.replace('o', 'e')"
   ]
  },
  {
   "cell_type": "markdown",
   "metadata": {},
   "source": [
    "Las strings tienen muchos métodos útiles, que pueden explorarse usando TAB o `help(str)`. Uno de los métodos más poderosos es el que sirve para formatear strings con números (ver la [documentación](https://docs.python.org/3/library/string.html#new-string-formatting)):"
   ]
  },
  {
   "cell_type": "code",
   "execution_count": 72,
   "metadata": {},
   "outputs": [
    {
     "data": {
      "text/plain": [
       "'Valor entero: 4, valor float: 3.142, y exponencial: 1.23E+07.'"
      ]
     },
     "execution_count": 72,
     "metadata": {},
     "output_type": "execute_result"
    }
   ],
   "source": [
    "'Valor entero: {:d}, valor float: {:.3f}, y exponencial: {:.2E}.'.format(4, 3.1415926, 12345679)"
   ]
  },
  {
   "cell_type": "markdown",
   "metadata": {},
   "source": [
    "Al igual que con las listas, los operadores `+` y `*` realizan la misma función:"
   ]
  },
  {
   "cell_type": "code",
   "execution_count": 73,
   "metadata": {},
   "outputs": [
    {
     "data": {
      "text/plain": [
       "'Hola mundo.'"
      ]
     },
     "execution_count": 73,
     "metadata": {},
     "output_type": "execute_result"
    }
   ],
   "source": [
    "a = 'Hola'\n",
    "b = 'mundo.'\n",
    "a + ' ' + b"
   ]
  },
  {
   "cell_type": "code",
   "execution_count": 74,
   "metadata": {},
   "outputs": [
    {
     "data": {
      "text/plain": [
       "'Hola Hola Hola Hola Hola !'"
      ]
     },
     "execution_count": 74,
     "metadata": {},
     "output_type": "execute_result"
    }
   ],
   "source": [
    "5 * (a + ' ') + '!'"
   ]
  },
  {
   "cell_type": "markdown",
   "metadata": {},
   "source": [
    "Los **diccionarios** son contenedores no ordenados que mapean eficientemente **claves** a **valores**:"
   ]
  },
  {
   "cell_type": "code",
   "execution_count": 75,
   "metadata": {},
   "outputs": [
    {
     "data": {
      "text/plain": [
       "{'manu': 4723, 'marcos': 4981, 'mati': 4112, 'ariel': 4431}"
      ]
     },
     "execution_count": 75,
     "metadata": {},
     "output_type": "execute_result"
    }
   ],
   "source": [
    "tel = {'manu': 4723, 'marcos': 4981, 'mati': 4112}\n",
    "tel['ariel'] = 4431\n",
    "tel"
   ]
  },
  {
   "cell_type": "code",
   "execution_count": 76,
   "metadata": {},
   "outputs": [
    {
     "data": {
      "text/plain": [
       "4112"
      ]
     },
     "execution_count": 76,
     "metadata": {},
     "output_type": "execute_result"
    }
   ],
   "source": [
    "tel['mati']"
   ]
  },
  {
   "cell_type": "code",
   "execution_count": 77,
   "metadata": {},
   "outputs": [
    {
     "data": {
      "text/plain": [
       "dict_keys(['manu', 'marcos', 'mati', 'ariel'])"
      ]
     },
     "execution_count": 77,
     "metadata": {},
     "output_type": "execute_result"
    }
   ],
   "source": [
    "tel.keys()"
   ]
  },
  {
   "cell_type": "code",
   "execution_count": 78,
   "metadata": {},
   "outputs": [
    {
     "data": {
      "text/plain": [
       "dict_values([4723, 4981, 4112, 4431])"
      ]
     },
     "execution_count": 78,
     "metadata": {},
     "output_type": "execute_result"
    }
   ],
   "source": [
    "tel.values()"
   ]
  },
  {
   "cell_type": "code",
   "execution_count": 79,
   "metadata": {},
   "outputs": [
    {
     "data": {
      "text/plain": [
       "True"
      ]
     },
     "execution_count": 79,
     "metadata": {},
     "output_type": "execute_result"
    }
   ],
   "source": [
    "'manu' in tel"
   ]
  },
  {
   "cell_type": "markdown",
   "metadata": {},
   "source": [
    "Los diccionarios pueden tener cualquier tipo en la clave (aunque no un `float`) o en el valor:"
   ]
  },
  {
   "cell_type": "code",
   "execution_count": 80,
   "metadata": {},
   "outputs": [
    {
     "data": {
      "text/plain": [
       "[1, 2, 'hola']"
      ]
     },
     "execution_count": 80,
     "metadata": {},
     "output_type": "execute_result"
    }
   ],
   "source": [
    "d = {1:'a', 'b':3.12, 4:[1,2,'hola']}\n",
    "d[4]"
   ]
  },
  {
   "cell_type": "markdown",
   "metadata": {},
   "source": [
    "Los diccionarios y las listas tienen en común las siguientes características:\n",
    "\n",
    "+ Ambos son mutables.\n",
    "+ Ambos son dinámicas, pueden crecer o disminuir según se necesite.\n",
    "+ Ambos pueden anidarse (una lista puede contener otra lista, un diccionario puede contener otro diccionario, un diccionario puede contener una lista y viceversa.\n",
    "\n",
    "En lo que difieren es que los elementos de la lista se acceden por índice, mientras que los del diccionario por clave."
   ]
  },
  {
   "cell_type": "markdown",
   "metadata": {},
   "source": [
    "El último tipo compuesto que veremos son los **conjuntos** (`set`), que consisten en contenedores no ordenados con elementos únicos. Pueden crearse con la *keyword* `set` con un iterable como argumento, o con llaves y elementos separados por comas:"
   ]
  },
  {
   "cell_type": "code",
   "execution_count": 81,
   "metadata": {},
   "outputs": [
    {
     "name": "stdout",
     "output_type": "stream",
     "text": [
      "{'Joaquín', 'Mario', 'María', 'Alberto'}\n",
      "{'María', 'Marta', 'Ana'}\n"
     ]
    }
   ],
   "source": [
    "s = set(('Mario', 'Alberto', 'Joaquín', 'María', 'Alberto'))\n",
    "o = {'Ana', 'Marta', 'María'}\n",
    "print(s)\n",
    "print(o)"
   ]
  },
  {
   "cell_type": "markdown",
   "metadata": {},
   "source": [
    "Los conjuntos soportan las operaciones típicas de conjuntos algebraicos:"
   ]
  },
  {
   "cell_type": "code",
   "execution_count": 82,
   "metadata": {},
   "outputs": [
    {
     "data": {
      "text/plain": [
       "{'Alberto', 'Ana', 'Joaquín', 'Mario', 'Marta', 'María'}"
      ]
     },
     "execution_count": 82,
     "metadata": {},
     "output_type": "execute_result"
    }
   ],
   "source": [
    "s.union(o)"
   ]
  },
  {
   "cell_type": "code",
   "execution_count": 83,
   "metadata": {},
   "outputs": [
    {
     "data": {
      "text/plain": [
       "{'María'}"
      ]
     },
     "execution_count": 83,
     "metadata": {},
     "output_type": "execute_result"
    }
   ],
   "source": [
    "s.intersection(o)"
   ]
  },
  {
   "cell_type": "code",
   "execution_count": 84,
   "metadata": {},
   "outputs": [
    {
     "data": {
      "text/plain": [
       "4"
      ]
     },
     "execution_count": 84,
     "metadata": {},
     "output_type": "execute_result"
    }
   ],
   "source": [
    "len(s) # Indica la cantidad de elementos en el conjunto"
   ]
  },
  {
   "cell_type": "code",
   "execution_count": 85,
   "metadata": {},
   "outputs": [
    {
     "data": {
      "text/plain": [
       "{'Joaquín', 'María'}"
      ]
     },
     "execution_count": 85,
     "metadata": {},
     "output_type": "execute_result"
    }
   ],
   "source": [
    "s.difference(('Alberto', 'Mario'))"
   ]
  },
  {
   "cell_type": "markdown",
   "metadata": {},
   "source": [
    "El operador `-` está sobrecargado para operar entre conjuntos devolviendo la diferencia:"
   ]
  },
  {
   "cell_type": "code",
   "execution_count": 86,
   "metadata": {},
   "outputs": [
    {
     "name": "stdout",
     "output_type": "stream",
     "text": [
      "{'Joaquín', 'Mario', 'Alberto'}\n",
      "{'Joaquín', 'Mario', 'Alberto'}\n"
     ]
    }
   ],
   "source": [
    "print(s.difference(o))\n",
    "print(s - o)"
   ]
  }
 ],
 "metadata": {
  "kernelspec": {
   "display_name": "Python 3",
   "language": "python",
   "name": "python3"
  },
  "language_info": {
   "codemirror_mode": {
    "name": "ipython",
    "version": 3
   },
   "file_extension": ".py",
   "mimetype": "text/x-python",
   "name": "python",
   "nbconvert_exporter": "python",
   "pygments_lexer": "ipython3",
   "version": "3.8.13"
  }
 },
 "nbformat": 4,
 "nbformat_minor": 4
}
