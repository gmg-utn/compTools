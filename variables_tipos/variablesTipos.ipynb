{
 "cells": [
  {
   "cell_type": "markdown",
   "metadata": {},
   "source": [
    "# Variables y tipos de datos\n",
    "\n",
    "Ejecutar este documento en forma dinámica: [![Binder](https://mybinder.org/badge_logo.svg)](https://mybinder.org/v2/gh/gmg-utn/compTools/master?filepath=variables_tipos/variablesTipos.ipynb)"
   ]
  },
  {
   "cell_type": "markdown",
   "metadata": {},
   "source": [
    "## Nombres de variables\n",
    "\n",
    "Los nombres de las variables en Python pueden contener caracteres alfanuméricos `a-z`, `A-Z`, `0-9` y algunos caracteres especiales como `_`. Normalmente los nombres de variables comienzan con una letra.\n",
    "\n",
    "Por convención, los nombres de las variables comienzan con minúsculas, reservándose el comienzo con mayúsculas para los nombres de las clases (veremos algo de orientación a objetos más adelante).\n",
    "\n",
    "Por otra parte, hay un número de palabras clave, o *keywords*, que no pueden utilizarse como nombres de variables. Estas keywords son:\n",
    "\n",
    "> and, as, assert, break, class, continue, def, del, elif, else, except, \n",
    "> exec, finally, for, from, global, if, import, in, is, lambda, not, or,\n",
    "> pass, print, raise, return, try, while, with, yield\n",
    "\n",
    "**Nota**: tener cuidado con la keyword `lambda`, que puede ser un nombre de variable natural en un programa científico, pero al ser una keyword no puede utilizarse de ese modo.\n"
   ]
  },
  {
   "cell_type": "markdown",
   "metadata": {},
   "source": [
    "## Asignación de variables\n",
    "\n",
    "El operador de asignación en Python es `=`. Dado que Python es un lenguaje dinámicamente tipado, no es necesario especificar el tipo de la variable al crear una. \n",
    "\n",
    "Asignar un valor a una nueva variable **crea** dicha variable:"
   ]
  },
  {
   "cell_type": "code",
   "execution_count": null,
   "metadata": {},
   "outputs": [],
   "source": [
    "# Asignación de variables\n",
    "x = 1.0\n",
    "mi_variable = 13.31"
   ]
  },
  {
   "cell_type": "markdown",
   "metadata": {},
   "source": [
    "Aunque no lo especifiquemos explícitamente, una variable tiene un tipo asociado con ella. El tipo se deriva del valor que se le asigna:"
   ]
  },
  {
   "cell_type": "code",
   "execution_count": null,
   "metadata": {},
   "outputs": [],
   "source": [
    "type(x)"
   ]
  },
  {
   "cell_type": "markdown",
   "metadata": {},
   "source": [
    "Si asignamos un nuevo valor a una variable, su tipo puede cambiar:"
   ]
  },
  {
   "cell_type": "code",
   "execution_count": null,
   "metadata": {},
   "outputs": [],
   "source": [
    "x = 1\n",
    "type(x)"
   ]
  },
  {
   "cell_type": "markdown",
   "metadata": {},
   "source": [
    "Si queremos utilizar una variable que aún no ha sido definida, obtendremos un error de nombre (`NameError`):"
   ]
  },
  {
   "cell_type": "code",
   "execution_count": null,
   "metadata": {},
   "outputs": [],
   "source": [
    "print(y)"
   ]
  },
  {
   "cell_type": "markdown",
   "metadata": {},
   "source": [
    "## Tipos fundamentales\n"
   ]
  },
  {
   "cell_type": "markdown",
   "metadata": {},
   "source": [
    "En Python, un tipo consiste en dos cosas:\n",
    "\n",
    "- Un conjunto de valores.\n",
    "- Un conjunto de operaciones que pueden aplicarse a esos valores."
   ]
  },
  {
   "cell_type": "markdown",
   "metadata": {},
   "source": [
    "### Evaluación de verdadero o falso\n",
    "\n",
    "Cualquier objeto puede ser evaluado verdadero o falso, para ser utilizado como condición para un bloque de repetición de intrucciones `if` o `while`, o como operando de las operaciones booleanas (ver más abajo).\n",
    "\n",
    "Por defecto, un objeto es considerado verdadero (`True`) a menos que su clase defina un método `__bool__()` que devuelva falso (`False`) o un método `__len__()` que devuelva cero, cuando se invoquen sobre el objeto. Una lista de la mayoría de los objetos *built-in* considerados falso es la siguiente:\n",
    "\n",
    "- Constantes definidas como falsas: `None` y `False`\n",
    "- Cero de cualquier tipo numérico: `0`, `0.0`, `0j`, `Decimal(0)`, `Fraction(0,1)`\n",
    "- Secuencias y colecciones vacías: `''`, `()`, `[]`, `{}`, `set()`, `range(0)`\n",
    "\n",
    "Las operaciones y funciones *built-in* que tienen un resultado booleano siempre devuelven `0` o `False` para falso y `1` o `True`, a menos que se establezca de otra forma. Una excepción importante: las operaciones booleanas `or` y `and` siempre devuelven uno de sus operandos. Ejemplo:"
   ]
  },
  {
   "cell_type": "code",
   "execution_count": null,
   "metadata": {},
   "outputs": [],
   "source": [
    "a = [1,2,3]\n",
    "b = False\n",
    "a or b"
   ]
  },
  {
   "cell_type": "markdown",
   "metadata": {},
   "source": [
    "Las operaciones booleanas, ordenadas por prioridad ascendente, son:\n",
    "\n",
    "Operación | Resultado | Nota\n",
    "---: | ---: | :---:\n",
    "`x or y` | Si `x` es falso devuelve `y`, si no `x` | (1)\n",
    "`x and y` | Si `x` es falso devuelve `x`, si no `y` | (2)\n",
    "`not x` | Si `x` es falso devuelve `True`, si no `False` | (3)\n",
    "\n",
    "Notas:\n",
    "\n",
    "1. Solo se evalúa el segundo argumento si el primero es falso\n",
    "2. Solo se evalúa el segundo argumento si el primero es verdadero\n",
    "3. `not` tiene menor prioridad que cualquier otro operador booleano, por lo tanto `not a == b` se interpreta como `not (a == b)`, y `a == not b` es un error de sintaxis.\n",
    "\n",
    "Existen ocho operaciones de comparación en Python, y todas tienen la misma prioridad (mayor a las de las operaciones booleanas). Las comparaciones pueden encadenarse abritrariamente, por ejemplo `x < y <= z` es equivalente a `x < y and y <= z`, excepto que `y` se evalúa una sola vez (pero en ambos casos `z` no se evalúa si `x < y` es falso). Las operaciones de comparación son:\n",
    "\n",
    "Operación | Significado\n",
    "---- | :----\n",
    "`<` | estrictamente menor que\n",
    "`<=` | menor o igual que \n",
    "`>` | estrictamente mayor\n",
    "`>=` | mayor o igual que\n",
    "`==` | igual\n",
    "`!=` | no igual\n",
    "`is` | identidad\n",
    "`is not` | identidad negada\n"
   ]
  },
  {
   "cell_type": "markdown",
   "metadata": {},
   "source": [
    "### Tipos numéricos\n",
    "\n",
    "Python provee tres tipos numéricos distintos: **enteros** (`int`), de **punto flotante** (`float`) y **números complejos** (`complex`). Además, los valores lógicos booleanos (`bool`) son un subtipo de los enteros. Los enteros tienen precisión ilimitada, mientras que los `float` son usualmente representados usando el tipo `double` en C, la información sobre la precisión y representación interna de los números `float` en cada máquina puede obtenerse en `sys.float_info`:"
   ]
  },
  {
   "cell_type": "code",
   "execution_count": null,
   "metadata": {},
   "outputs": [],
   "source": [
    "import sys\n",
    "print(sys.float_info)"
   ]
  },
  {
   "cell_type": "markdown",
   "metadata": {},
   "source": [
    "Los números son creados mediante literales numéricos o como resultado de funciones *built-in* y operadores. Literales enteros sin \"adornos\" producen enteros, los que contienen un punto decimal o un signo de exponente producen `float`s, y agregando una `j` o `J` a un literal numérico obtenemos un número imaginario (complejo con parte real nula).\n",
    "\n",
    "Python soporta aritmética mixta: cuando un operador aritmético binario tiene operandos de tipos numéricos diferentes, el operando con el tipo más \"restringido\" se expande al tipo del otro operando. El `int` es más restringido que el `float`, que a su vez es más restringido que el `complex`.\n",
    "\n",
    "Todos los tipos numéricos (excepto los complejos) suportan las siguientes operaciones, ordenadas por prioridad ascendente:\n",
    "\n",
    "Operación | Resultado | Notas\n",
    ":--- | :---: | :---\n",
    "`x + y` | $x + y$ |\n",
    "`x - y` | $x - y$ |\n",
    "`x * y` | $x y $ |\n",
    "`x / y` | $x/y$ |\n",
    "`x // y` | división entera de $x$ y $y$ | (1)\n",
    "`x % y` | resto de $x$ y $y$ | (2)\n",
    "`-x` | $-x$ |\n",
    "`abs(x)` | $|x|$ |\n",
    "`int(x)` | $x$ convertido a `int`| (3)(6)\n",
    "`float(x)` | $x$ convertido a `float` | (4)(6)\n",
    "`complex(x, y)` | $x + y i$ | (6)\n",
    "`c.conjugate()` | conjugado de $c$ |\n",
    "`divmod(x, y)` | el par `(x // y), (x % y)` | (2)\n",
    "`pow(x, y)` | $x^y$ | (5)\n",
    "`x ** y` | $x^y$ | (5)\n",
    "\n",
    "**Notas**:\n",
    "\n",
    "1. El resultado se redondea siempre hacia $- \\infty$.\n",
    "2. No es válido para números complejos. Es posible convertir a `float` usando `abs()` cuando es apropiado.\n",
    "3. Las conversiones desde punto flotante a entero puede redondear o truncar como en C. Para obtener conversiones bien definidas se pueden ver las funciones `math.floor()` y `math.ceil()`.\n",
    "4. `float` acepta también las cadenas (*strings*) `nan` e `inf` con el prefijo opcional `+` o `-` para un \"Not a Number\" (NaN) y para infinito positivo o negativo.\n",
    "5. Python define `pow(0, 0)` y `0 ** 0` como `1` como es usual en los lenguajes de programación.\n",
    "6. Los literales numéricos aceptados incluyen los dígitos `0` a `9` o cualquier Unicode equivalente.\n",
    "\n",
    "Algunos ejemplos de las operaciones mencionadas:"
   ]
  },
  {
   "cell_type": "code",
   "execution_count": null,
   "metadata": {},
   "outputs": [],
   "source": [
    "x, y = 1, 3\n",
    "type(y)"
   ]
  },
  {
   "cell_type": "code",
   "execution_count": null,
   "metadata": {},
   "outputs": [],
   "source": [
    "x + y"
   ]
  },
  {
   "cell_type": "code",
   "execution_count": null,
   "metadata": {},
   "outputs": [],
   "source": [
    "x - y"
   ]
  },
  {
   "cell_type": "code",
   "execution_count": null,
   "metadata": {},
   "outputs": [],
   "source": [
    "x * y"
   ]
  },
  {
   "cell_type": "markdown",
   "metadata": {},
   "source": [
    "La división de dos enteros produce como resultado un valor `float`:"
   ]
  },
  {
   "cell_type": "code",
   "execution_count": null,
   "metadata": {},
   "outputs": [],
   "source": [
    "z = x / y\n",
    "print(z)\n",
    "type(z)"
   ]
  },
  {
   "cell_type": "markdown",
   "metadata": {},
   "source": [
    "La división entera `//` devuelve un entero, que siempre se redondea hacia $-\\infty$:"
   ]
  },
  {
   "cell_type": "code",
   "execution_count": null,
   "metadata": {},
   "outputs": [],
   "source": [
    "z = x // y\n",
    "print(z)\n",
    "type(z)"
   ]
  },
  {
   "cell_type": "code",
   "execution_count": null,
   "metadata": {},
   "outputs": [],
   "source": [
    "(-1) // 2"
   ]
  },
  {
   "cell_type": "code",
   "execution_count": null,
   "metadata": {},
   "outputs": [],
   "source": [
    "1 // (-2)"
   ]
  },
  {
   "cell_type": "code",
   "execution_count": null,
   "metadata": {},
   "outputs": [],
   "source": [
    "(-1) // (-2)"
   ]
  },
  {
   "cell_type": "markdown",
   "metadata": {},
   "source": [
    "El resto de una división se obtiene con `%`, y devuelve un entero:"
   ]
  },
  {
   "cell_type": "code",
   "execution_count": null,
   "metadata": {},
   "outputs": [],
   "source": [
    "z = y % x\n",
    "print(z)\n",
    "type(z)"
   ]
  },
  {
   "cell_type": "markdown",
   "metadata": {},
   "source": [
    "Los números complejos tienen una parte real y una imaginaria y cada una de ellas es `float`. Para extraer cada componente de un número complejo `z`, se usa `z.real` y `z.imag`. "
   ]
  },
  {
   "cell_type": "code",
   "execution_count": null,
   "metadata": {},
   "outputs": [],
   "source": [
    "z = 1.0 - 2.0j\n",
    "type(z)"
   ]
  },
  {
   "cell_type": "code",
   "execution_count": null,
   "metadata": {},
   "outputs": [],
   "source": [
    "print(z)"
   ]
  },
  {
   "cell_type": "code",
   "execution_count": null,
   "metadata": {},
   "outputs": [],
   "source": [
    "print(z.real, z.imag)"
   ]
  },
  {
   "cell_type": "markdown",
   "metadata": {},
   "source": [
    "Conversión de tipos (*casting*):"
   ]
  },
  {
   "cell_type": "code",
   "execution_count": null,
   "metadata": {},
   "outputs": [],
   "source": [
    "x = 1.5\n",
    "print(x, type(x))"
   ]
  },
  {
   "cell_type": "code",
   "execution_count": null,
   "metadata": {},
   "outputs": [],
   "source": [
    "x = int(x)\n",
    "print(x, type(x))"
   ]
  },
  {
   "cell_type": "code",
   "execution_count": null,
   "metadata": {},
   "outputs": [],
   "source": [
    "z = complex(x)\n",
    "print(z, type(z))"
   ]
  },
  {
   "cell_type": "code",
   "execution_count": null,
   "metadata": {},
   "outputs": [],
   "source": [
    "x = float(z)"
   ]
  },
  {
   "cell_type": "markdown",
   "metadata": {},
   "source": [
    "Las variables complejas no pueden convertirse en `float` o `int`. Es necesario hacer uso de `z.real` o `z.imag` para obtener la parte del número complejo que queremos."
   ]
  },
  {
   "cell_type": "markdown",
   "metadata": {},
   "source": [
    "### Tipos compuestos: listas, tuplas, strings, diccionarios y conjuntos\n",
    "\n",
    "Python provee varios tipos eficientes de contenedores, en donde pueden almacenarse colecciones de objetos."
   ]
  },
  {
   "cell_type": "markdown",
   "metadata": {},
   "source": [
    "Las **listas** son colecciones ordenadas de objetos que pueden ser de tipos diferentes. Por ejemplo:"
   ]
  },
  {
   "cell_type": "code",
   "execution_count": null,
   "metadata": {},
   "outputs": [],
   "source": [
    "colores = ['rojo', 'azul', 'verde', 'blanco', 'negro']\n",
    "type(colores)"
   ]
  },
  {
   "cell_type": "markdown",
   "metadata": {},
   "source": [
    "Para acceder a los elementos individuales de la lista se utiliza su **índice**, teniendo en cuenta que el primer elemento es el 0 (cero) como en C/C++, no el 1 como en FORTRAN o Matlab):"
   ]
  },
  {
   "cell_type": "code",
   "execution_count": null,
   "metadata": {},
   "outputs": [],
   "source": [
    "colores[2]"
   ]
  },
  {
   "cell_type": "markdown",
   "metadata": {},
   "source": [
    "Para contar desde el final de la lista se utilizan índices negativos:"
   ]
  },
  {
   "cell_type": "code",
   "execution_count": null,
   "metadata": {},
   "outputs": [],
   "source": [
    "print(colores[-1],colores[-3])"
   ]
  },
  {
   "cell_type": "markdown",
   "metadata": {},
   "source": [
    "Para obtener una sublista de elementos igualmente espaciados se utiliza el **rebanado** (*slicing*):"
   ]
  },
  {
   "cell_type": "code",
   "execution_count": null,
   "metadata": {},
   "outputs": [],
   "source": [
    "colores"
   ]
  },
  {
   "cell_type": "code",
   "execution_count": null,
   "metadata": {},
   "outputs": [],
   "source": [
    "colores[2:4]"
   ]
  },
  {
   "cell_type": "markdown",
   "metadata": {},
   "source": [
    "**Nota**: el rebanado `colores[inicio:fin]` contiene los elementos con índices `i` tales que `inicio <= i < fin`, es decir, `i` está en el rango desde `inicio` hasta `fin - 1`, por lo tanto `colores[inicio:fin]` tiene (`fin - inicio`) elementos.\n",
    "\n",
    "La sintaxis del rebanado es `colores[inicio:fin:paso]`, siendo todos los parámetros opcionales:"
   ]
  },
  {
   "cell_type": "code",
   "execution_count": null,
   "metadata": {},
   "outputs": [],
   "source": [
    "colores"
   ]
  },
  {
   "cell_type": "code",
   "execution_count": null,
   "metadata": {},
   "outputs": [],
   "source": [
    "colores[3:]"
   ]
  },
  {
   "cell_type": "code",
   "execution_count": null,
   "metadata": {},
   "outputs": [],
   "source": [
    "colores[:3]"
   ]
  },
  {
   "cell_type": "code",
   "execution_count": null,
   "metadata": {},
   "outputs": [],
   "source": [
    "colores[::2]"
   ]
  },
  {
   "cell_type": "markdown",
   "metadata": {},
   "source": [
    "Las listas son **objetos mutables**, por lo que pueden ser modificadas:"
   ]
  },
  {
   "cell_type": "code",
   "execution_count": null,
   "metadata": {},
   "outputs": [],
   "source": [
    "colores[1] = 'amarillo'\n",
    "colores"
   ]
  },
  {
   "cell_type": "code",
   "execution_count": null,
   "metadata": {},
   "outputs": [],
   "source": [
    "colores[2:4] = ['gris', 'cyan']\n",
    "colores"
   ]
  },
  {
   "cell_type": "markdown",
   "metadata": {},
   "source": [
    "Los elementos de una lista pueden ser de cualquier tipo (¡incluso otra lista!):"
   ]
  },
  {
   "cell_type": "code",
   "execution_count": null,
   "metadata": {},
   "outputs": [],
   "source": [
    "colores=[1, 3.14, 'hola',['rojo', 'verde']]\n",
    "colores[1], colores[2], colores[3][1]"
   ]
  },
  {
   "cell_type": "markdown",
   "metadata": {},
   "source": [
    "Para colecciones de datos numéricos, todos del mismo tipo, es **mucho más eficiente** utilizar el tipo `array` provisto por el módulo `numpy` (que veremos más adelante). Un array de NumPy es un bloque de memoria que contiene ítems de tamaño fijo, por lo que las operaciones sobre los elementos de un array son muy rápidas ya que están distribuidos en forma regular en la memoria y tales operaciones pueden realizarse a través de funciones especializadas de C en vez de bucles de Python.\n",
    "\n",
    "Python ofrece una extensa lista de funciones para modificar o interrogar listas. Mostraremos algunos ejemplos a continuación (para más detalle ver la documentación en el [Tutorial de Python](http://docs.python.org.ar/tutorial/3/datastructures.html#mas-sobre-listas))."
   ]
  },
  {
   "cell_type": "markdown",
   "metadata": {},
   "source": [
    "Agregar o eliminar elementos:"
   ]
  },
  {
   "cell_type": "code",
   "execution_count": null,
   "metadata": {},
   "outputs": [],
   "source": [
    "colores = ['rojo', 'azul', 'verde', 'blanco', 'negro']\n",
    "colores.append('cyan')\n",
    "colores"
   ]
  },
  {
   "cell_type": "code",
   "execution_count": null,
   "metadata": {},
   "outputs": [],
   "source": [
    "colores.pop() # elimina y devuelve el último ítem"
   ]
  },
  {
   "cell_type": "code",
   "execution_count": null,
   "metadata": {},
   "outputs": [],
   "source": [
    "colores"
   ]
  },
  {
   "cell_type": "code",
   "execution_count": null,
   "metadata": {},
   "outputs": [],
   "source": [
    "colores.extend(['rosado', 'púrpura']) # extiende colores \"in-place\"\n",
    "colores"
   ]
  },
  {
   "cell_type": "code",
   "execution_count": null,
   "metadata": {},
   "outputs": [],
   "source": [
    "colores = colores[:-2]\n",
    "colores"
   ]
  },
  {
   "cell_type": "markdown",
   "metadata": {},
   "source": [
    "Inversión de orden:"
   ]
  },
  {
   "cell_type": "code",
   "execution_count": null,
   "metadata": {},
   "outputs": [],
   "source": [
    "icolores = colores[::-1]\n",
    "icolores"
   ]
  },
  {
   "cell_type": "code",
   "execution_count": null,
   "metadata": {},
   "outputs": [],
   "source": [
    "icolores2 = list(colores) # icolores2 es una copia de colores\n",
    "icolores2"
   ]
  },
  {
   "cell_type": "code",
   "execution_count": null,
   "metadata": {},
   "outputs": [],
   "source": [
    "icolores2.reverse() # inversión in-place\n",
    "print(icolores2)\n",
    "print(colores)"
   ]
  },
  {
   "cell_type": "markdown",
   "metadata": {},
   "source": [
    "Concatenación y repetición de listas. Python **sobrecarga** el operador `+` y `*` para operar sobre listas y obtener el resultado intuitivamente esperado:"
   ]
  },
  {
   "cell_type": "code",
   "execution_count": null,
   "metadata": {},
   "outputs": [],
   "source": [
    "icolores + colores"
   ]
  },
  {
   "cell_type": "code",
   "execution_count": null,
   "metadata": {},
   "outputs": [],
   "source": [
    "colores * 2"
   ]
  },
  {
   "cell_type": "markdown",
   "metadata": {},
   "source": [
    "Python permite ordenar listas generando un nuevo objeto u ordenando la lista *in-place*:"
   ]
  },
  {
   "cell_type": "code",
   "execution_count": null,
   "metadata": {},
   "outputs": [],
   "source": [
    "sorted(icolores) # Nuevo objeto"
   ]
  },
  {
   "cell_type": "code",
   "execution_count": null,
   "metadata": {},
   "outputs": [],
   "source": [
    "icolores.sort() # in place\n",
    "icolores"
   ]
  },
  {
   "cell_type": "markdown",
   "metadata": {},
   "source": [
    "La notación `colores.metodo()` (por ejemplo `colores.append(2)` o `colores.pop()`) es un ejemplo de la sintaxis típica de la programación orientada a objetos (*OOP*). Por ser una `list`, el objeto `colores` posee **métodos** (funciones) que se invocan usando la notación `.`. Para este curso solo es importante conocer la notación `.` y no profundizaremos en la OOP.\n",
    "\n",
    "En este notebook de Jupyter se puede usar la tecla TAB como auxiliar para descubrir los métodos que posee un determinado objeto:"
   ]
  },
  {
   "cell_type": "code",
   "execution_count": null,
   "metadata": {},
   "outputs": [],
   "source": [
    "colores."
   ]
  },
  {
   "cell_type": "markdown",
   "metadata": {},
   "source": [
    "Las **tuplas** son como las listas, excepto que no se pueden modificar una vez creadas (son **inmutables**). En Python las tuplas se crean usando la sintaxis `(..., ..., ...)` o incluso `..., ...`:"
   ]
  },
  {
   "cell_type": "code",
   "execution_count": null,
   "metadata": {},
   "outputs": [],
   "source": [
    "point = (10, 20)\n",
    "print (point, type(point))"
   ]
  },
  {
   "cell_type": "code",
   "execution_count": null,
   "metadata": {},
   "outputs": [],
   "source": [
    "point = 10, 20\n",
    "print (point, type(point))"
   ]
  },
  {
   "cell_type": "markdown",
   "metadata": {},
   "source": [
    "Podemos \"desempaquetar\" una tupla asignándole una lista de variables separadas por comas:"
   ]
  },
  {
   "cell_type": "code",
   "execution_count": null,
   "metadata": {},
   "outputs": [],
   "source": [
    "x, y = point\n",
    "print('x = ', x)\n",
    "print('y = ', y)"
   ]
  },
  {
   "cell_type": "markdown",
   "metadata": {},
   "source": [
    "Si intentamos asignar un nuevo valor a un elemento en una tupla, obtendremos un error:"
   ]
  },
  {
   "cell_type": "code",
   "execution_count": null,
   "metadata": {},
   "outputs": [],
   "source": [
    "point[0] = 5"
   ]
  },
  {
   "cell_type": "markdown",
   "metadata": {},
   "source": [
    "**_Strings_**, o cadenas de caracteres, constituyen el tipo de variable utilizada para almacenar texto:"
   ]
  },
  {
   "cell_type": "code",
   "execution_count": null,
   "metadata": {},
   "outputs": [],
   "source": [
    "s = \"Hola mundo\"\n",
    "type(s)"
   ]
  },
  {
   "cell_type": "code",
   "execution_count": null,
   "metadata": {},
   "outputs": [],
   "source": [
    "# Longitud del string: el número de caracteres\n",
    "len(s)"
   ]
  },
  {
   "cell_type": "markdown",
   "metadata": {},
   "source": [
    "Existen diferentes sintaxis para delimitar strings (apóstrofos simples, dobles o triples):"
   ]
  },
  {
   "cell_type": "code",
   "execution_count": null,
   "metadata": {},
   "outputs": [],
   "source": [
    "s = 'Hola, ¿qué tal?'\n",
    "s = \"Hi, what's up?\"\n",
    "s = '''Hola,             # triple apóstrofo permite strings de más de una línea\n",
    "       ¿cómo estás?'''\n",
    "s = \"\"\"Hola,\n",
    "       ¿cómo estás?\"\"\"\n",
    "print(s)"
   ]
  },
  {
   "cell_type": "markdown",
   "metadata": {},
   "source": [
    "Las strings son colecciones como las listas, por lo que pueden accederse mediante índices y rebanado utilizando la misma sintaxis y reglas:"
   ]
  },
  {
   "cell_type": "code",
   "execution_count": null,
   "metadata": {},
   "outputs": [],
   "source": [
    "a = 'Hola'\n",
    "a[0]"
   ]
  },
  {
   "cell_type": "code",
   "execution_count": null,
   "metadata": {},
   "outputs": [],
   "source": [
    "a[1]"
   ]
  },
  {
   "cell_type": "code",
   "execution_count": null,
   "metadata": {},
   "outputs": [],
   "source": [
    "a[-1]"
   ]
  },
  {
   "cell_type": "code",
   "execution_count": null,
   "metadata": {},
   "outputs": [],
   "source": [
    "a = '¡Hola mundo!'\n",
    "a[3:6]"
   ]
  },
  {
   "cell_type": "code",
   "execution_count": null,
   "metadata": {},
   "outputs": [],
   "source": [
    "a[2:10:2]"
   ]
  },
  {
   "cell_type": "code",
   "execution_count": null,
   "metadata": {},
   "outputs": [],
   "source": [
    "a[::3]"
   ]
  },
  {
   "cell_type": "markdown",
   "metadata": {},
   "source": [
    "Las strings constituyen **objetos inmutables** por lo que no es posible modificar sus contenidos. Sin embargo es posible crear nuevas strings a partir de una dada:"
   ]
  },
  {
   "cell_type": "code",
   "execution_count": null,
   "metadata": {},
   "outputs": [],
   "source": [
    "a[2] = 'z'"
   ]
  },
  {
   "cell_type": "code",
   "execution_count": null,
   "metadata": {},
   "outputs": [],
   "source": [
    "a.replace('o', 'e', 1)"
   ]
  },
  {
   "cell_type": "code",
   "execution_count": null,
   "metadata": {},
   "outputs": [],
   "source": [
    "a.replace('o', 'e')"
   ]
  },
  {
   "cell_type": "markdown",
   "metadata": {},
   "source": [
    "Las strings tienen muchos métodos útiles, que pueden explorarse usando TAB o `help(str)`. Uno de los métodos más poderosos es el que sirve para formatear strings con números (ver la [documentación](https://docs.python.org/3/library/string.html#new-string-formatting)):"
   ]
  },
  {
   "cell_type": "code",
   "execution_count": null,
   "metadata": {},
   "outputs": [],
   "source": [
    "'Valor entero: {:d}, valor float: {:.3f}, y exponencial: {:.2E}.'.format(4, 3.1415926, 12345679)"
   ]
  },
  {
   "cell_type": "markdown",
   "metadata": {},
   "source": [
    "Al igual que con las listas, los operadores `+` y `*` realizan la misma función:"
   ]
  },
  {
   "cell_type": "code",
   "execution_count": null,
   "metadata": {},
   "outputs": [],
   "source": [
    "a = 'Hola'\n",
    "b = 'mundo.'\n",
    "a + ' ' + b"
   ]
  },
  {
   "cell_type": "code",
   "execution_count": null,
   "metadata": {},
   "outputs": [],
   "source": [
    "5 * (a + ' ') + '!'"
   ]
  },
  {
   "cell_type": "markdown",
   "metadata": {},
   "source": [
    "Los **diccionarios** son contenedores no ordenados que mapean eficientemente **claves** a **valores**:"
   ]
  },
  {
   "cell_type": "code",
   "execution_count": null,
   "metadata": {},
   "outputs": [],
   "source": [
    "tel = {'manu': 4723, 'marcos': 4981, 'mati': 4112}\n",
    "tel['ariel'] = 4431\n",
    "tel"
   ]
  },
  {
   "cell_type": "code",
   "execution_count": null,
   "metadata": {},
   "outputs": [],
   "source": [
    "tel['mati']"
   ]
  },
  {
   "cell_type": "code",
   "execution_count": null,
   "metadata": {},
   "outputs": [],
   "source": [
    "tel.keys()"
   ]
  },
  {
   "cell_type": "code",
   "execution_count": null,
   "metadata": {},
   "outputs": [],
   "source": [
    "tel.values()"
   ]
  },
  {
   "cell_type": "code",
   "execution_count": null,
   "metadata": {},
   "outputs": [],
   "source": [
    "'manu' in tel"
   ]
  },
  {
   "cell_type": "markdown",
   "metadata": {},
   "source": [
    "Los diccionarios pueden tener cualquier tipo en la clave (aunque no un `float`) o en el valor:"
   ]
  },
  {
   "cell_type": "code",
   "execution_count": null,
   "metadata": {},
   "outputs": [],
   "source": [
    "d = {1:'a', 'b':3.12, 4:[1,2,'hola']}\n",
    "d[4]"
   ]
  },
  {
   "cell_type": "markdown",
   "metadata": {},
   "source": [
    "Los diccionarios y las listas tienen en común las siguientes características:\n",
    "\n",
    "+ Ambos son mutables.\n",
    "+ Ambos son dinámicas, pueden crecer o disminuir según se necesite.\n",
    "+ Ambos pueden anidarse (una lista puede contener otra lista, un diccionario puede contener otro diccionario, un diccionario puede contener una lista y viceversa.\n",
    "\n",
    "En lo que difieren es que los elementos de la lista se acceden por índice, mientras que los del diccionario por clave."
   ]
  },
  {
   "cell_type": "markdown",
   "metadata": {},
   "source": [
    "El último tipo compuesto que veremos son los **conjuntos** (`set`), que consisten en contenedores no ordenados con elementos únicos. Pueden crearse con la *keyword* `set` con un iterable como argumento, o con llaves y elementos separados por comas:"
   ]
  },
  {
   "cell_type": "code",
   "execution_count": null,
   "metadata": {},
   "outputs": [],
   "source": [
    "s = set(('Mario', 'Alberto', 'Joaquín', 'María', 'Alberto'))\n",
    "o = {'Ana', 'Marta', 'María'}\n",
    "print(s)\n",
    "print(o)"
   ]
  },
  {
   "cell_type": "markdown",
   "metadata": {},
   "source": [
    "Los conjuntos soportan las operaciones típicas de conjuntos algebraicos:"
   ]
  },
  {
   "cell_type": "code",
   "execution_count": null,
   "metadata": {},
   "outputs": [],
   "source": [
    "s.union(o)"
   ]
  },
  {
   "cell_type": "code",
   "execution_count": null,
   "metadata": {},
   "outputs": [],
   "source": [
    "s.intersection(o)"
   ]
  },
  {
   "cell_type": "code",
   "execution_count": null,
   "metadata": {},
   "outputs": [],
   "source": [
    "len(s) # Indica la cantidad de elementos en el conjunto"
   ]
  },
  {
   "cell_type": "code",
   "execution_count": null,
   "metadata": {},
   "outputs": [],
   "source": [
    "s.difference(('Alberto', 'Mario'))"
   ]
  },
  {
   "cell_type": "markdown",
   "metadata": {},
   "source": [
    "El operador `-` está sobrecargado para operar entre conjuntos devolviendo la diferencia:"
   ]
  },
  {
   "cell_type": "code",
   "execution_count": null,
   "metadata": {},
   "outputs": [],
   "source": [
    "print(s.difference(o))\n",
    "print(s - o)"
   ]
  },
  {
   "cell_type": "code",
   "execution_count": null,
   "metadata": {},
   "outputs": [],
   "source": []
  }
 ],
 "metadata": {
  "kernelspec": {
   "display_name": "Python 3",
   "language": "python",
   "name": "python3"
  },
  "language_info": {
   "codemirror_mode": {
    "name": "ipython",
    "version": 3
   },
   "file_extension": ".py",
   "mimetype": "text/x-python",
   "name": "python",
   "nbconvert_exporter": "python",
   "pygments_lexer": "ipython3",
   "version": "3.7.5rc1"
  }
 },
 "nbformat": 4,
 "nbformat_minor": 2
}
