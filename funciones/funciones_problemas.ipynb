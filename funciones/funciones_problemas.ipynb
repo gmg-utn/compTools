{
 "cells": [
  {
   "cell_type": "markdown",
   "metadata": {},
   "source": [
    "# Problemas\n",
    "\n",
    "Ejecutar este documento en forma dinámica: [![Open In Colab](https://colab.research.google.com/assets/colab-badge.svg)](https://colab.research.google.com/github/gmg-utn/compTools/blob/master/funciones/funciones_problemas.ipynb)"
   ]
  },
  {
   "cell_type": "markdown",
   "metadata": {},
   "source": [
    "## Problema 1\n",
    "\n",
    "Completar las `____` en la función `contar_numeros_pares` de modo de pasar las verificaciones con `assert`. Se asume que el argumento `numeros` es una lista de números enteros."
   ]
  },
  {
   "cell_type": "code",
   "execution_count": null,
   "metadata": {},
   "outputs": [],
   "source": [
    "____ contar_numeros_pares(numeros):\n",
    "    count = 0\n",
    "    for num in ____:\n",
    "        if ____ % 2 == ____:\n",
    "            count += ____\n",
    "    _____ _____"
   ]
  },
  {
   "cell_type": "code",
   "execution_count": null,
   "metadata": {},
   "outputs": [],
   "source": [
    "assert count_even_numbers([1, 2, 3, 4, 5, 6]) == 3\n",
    "assert count_even_numbers([1, 3, 5, 7]) == 0\n",
    "assert count_even_numbers([-2, 2, -10, 8]) == 4"
   ]
  },
  {
   "cell_type": "markdown",
   "metadata": {},
   "source": [
    "## Problema 2\n",
    "\n",
    "Implementar la función `encontrar_personas` que toma una lista de nombres (strings). La función debe devolver una lista de los nombres que se encuentran en `personas_buscadas` y en la lista de nombres pasadas como argumentos de la función."
   ]
  },
  {
   "cell_type": "code",
   "execution_count": null,
   "metadata": {},
   "outputs": [],
   "source": [
    "personas_buscadas = ['Santiago Medrano', 'Agustín Creevy', 'Mayco Vivas']"
   ]
  },
  {
   "cell_type": "code",
   "execution_count": null,
   "metadata": {},
   "outputs": [],
   "source": [
    "# Tu código va aquí"
   ]
  },
  {
   "cell_type": "code",
   "execution_count": null,
   "metadata": {},
   "outputs": [],
   "source": [
    "personas_a_encontrar_1 = ['Marcos Kremer', 'Agustín Creevy', 'Tomas Lavanini', 'Mayco Vivas']\n",
    "buscados_1 = encontrar_personas(personas_a_encontrar_1)\n",
    "assert len(buscados_1) == 2\n",
    "assert 'Agustín Creevy' in buscados_1\n",
    "assert 'Mayco Vivas' in buscados_1\n",
    "\n",
    "personas_a_encontrar_2 = ['Blas Giunta', 'Agustín Canapino', 'Manu Ginóbili']\n",
    "buscados_2 = encontrar_personas(personas_a_encontrar_2)\n",
    "assert len(buscados_2) == 0"
   ]
  },
  {
   "cell_type": "markdown",
   "metadata": {},
   "source": [
    "## Problema 3\n",
    "\n",
    "Encontrar el valor medio de enteros implementando la función `valor_medio`. El valor medio debe redondearse a dos decimales (ver la función `round`). "
   ]
  },
  {
   "cell_type": "code",
   "execution_count": null,
   "metadata": {},
   "outputs": [],
   "source": [
    "# Aquí va tu código"
   ]
  },
  {
   "cell_type": "code",
   "execution_count": null,
   "metadata": {},
   "outputs": [],
   "source": [
    "assert valor_medio(1,1,1) == 1.0\n",
    "assert valor_medio(13,3,12,7) == 8.75\n",
    "assert valor_medio() == 0"
   ]
  },
  {
   "cell_type": "markdown",
   "metadata": {},
   "source": [
    "## Problema 4\n",
    "\n",
    "Implementar una función `longitud_media_de_palabras` que tome una string como argumento y devuelva la longitud promedio de las palabras en la string. Asumir que hay un espacio de separación entre cada palabra y que la entrada no tiene puntuación. El resultado debe ser redondeado a un dígito decimal."
   ]
  },
  {
   "cell_type": "code",
   "execution_count": null,
   "metadata": {},
   "outputs": [],
   "source": [
    "# Implementación de la función"
   ]
  },
  {
   "cell_type": "code",
   "execution_count": null,
   "metadata": {},
   "outputs": [],
   "source": [
    "assert longitud_media_de_palabras('solo cuat role tras') == 4\n",
    "assert longitud_media_de_palabras('uno dos tres') == 3.3\n",
    "assert longitud_media_de_palabras('') == 0"
   ]
  }
 ],
 "metadata": {
  "kernelspec": {
   "display_name": "Python 3 (ipykernel)",
   "language": "python",
   "name": "python3"
  },
  "language_info": {
   "codemirror_mode": {
    "name": "ipython",
    "version": 3
   },
   "file_extension": ".py",
   "mimetype": "text/x-python",
   "name": "python",
   "nbconvert_exporter": "python",
   "pygments_lexer": "ipython3",
   "version": "3.8.16"
  }
 },
 "nbformat": 4,
 "nbformat_minor": 4
}
