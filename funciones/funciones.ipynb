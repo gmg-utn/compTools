{
 "cells": [
  {
   "cell_type": "markdown",
   "metadata": {},
   "source": [
    "# Funciones\n",
    "\n",
    "Ejecutar este documento en forma dinámica: [![Open In Colab](https://colab.research.google.com/assets/colab-badge.svg)](https://colab.research.google.com/github/gmg-utn/compTools/blob/master/funciones/funciones.ipynb)"
   ]
  },
  {
   "cell_type": "markdown",
   "metadata": {},
   "source": [
    "En el contexto de la programación, las funciones son secuencias de instrucciones agrupadas, que tienen un nombre y pueden invocarse a través de él.\n",
    "\n",
    "Las partes que componen una función son:\n",
    "\n",
    "1. Un nombre, por el cual puede invocarse la función.\n",
    "2. Una lista de argumentos, que la función recibe como entrada para el cómputo que realizará.\n",
    "3. Documentación que informa lo que la función hace.\n",
    "4. Una secuencia de instrucciones que realizan un cómputo específico.\n",
    "5. Un resultado\n",
    "\n",
    "Veamos la sintaxis de una función en Python con un ejemplo:"
   ]
  },
  {
   "cell_type": "code",
   "execution_count": 2,
   "metadata": {
    "tags": []
   },
   "outputs": [],
   "source": [
    "def cuadrado(x):\n",
    "    \"\"\"Esta es mi primera función\n",
    "    Recibe un número y devuelve el cuadrado del mismo.\n",
    "    \n",
    "    Parameters:\n",
    "    x (float): Valor al que se le calculará el cuadrado\n",
    "    \n",
    "    Returns:\n",
    "    float: Cuadrado del argumento x\n",
    "    \"\"\"\n",
    "    print(f\"Argumento: {x:.4f}\")\n",
    "    return x * x"
   ]
  },
  {
   "cell_type": "markdown",
   "metadata": {},
   "source": [
    "Aquí, usamos la palabra reservada (*keyword*) `def` para definir una función denominada `cuadrado`, que recibe un argumento delimitado por paréntesis.\n",
    "\n",
    "Luego sigue una *string* que **documenta** la función, explicando qué hace, qué argumentos recibe y que resultados devuelve. Este sistema de documentación de Python se denomina **_Docstrings_**, y provee una forma conveniente de asociar documentación con módulos, funciones, clases y métodos. \n",
    "\n",
    "Una *docstring* es una string literal que aparece en la primera línea en un módulo, función, clase o definición de método, y debe describir lo que la función hace, pero no cómo. \n",
    "\n",
    "Las *docstrings* son accesibles a través del atributo `doc` de cualquier objeto de Python, o de la función `help()`:"
   ]
  },
  {
   "cell_type": "code",
   "execution_count": 3,
   "metadata": {
    "tags": []
   },
   "outputs": [
    {
     "name": "stdout",
     "output_type": "stream",
     "text": [
      "Esta es mi primera función\n",
      "    Recibe un número y devuelve el cuadrado del mismo.\n",
      "    \n",
      "    Parameters:\n",
      "    x (float): Valor al que se le calculará el cuadrado\n",
      "    \n",
      "    Returns:\n",
      "    float: Cuadrado del argumento x\n",
      "    \n"
     ]
    }
   ],
   "source": [
    "print(cuadrado.__doc__)"
   ]
  },
  {
   "cell_type": "code",
   "execution_count": 4,
   "metadata": {
    "tags": []
   },
   "outputs": [
    {
     "name": "stdout",
     "output_type": "stream",
     "text": [
      "Help on function cuadrado in module __main__:\n",
      "\n",
      "cuadrado(x)\n",
      "    Esta es mi primera función\n",
      "    Recibe un número y devuelve el cuadrado del mismo.\n",
      "    \n",
      "    Parameters:\n",
      "    x (float): Valor al que se le calculará el cuadrado\n",
      "    \n",
      "    Returns:\n",
      "    float: Cuadrado del argumento x\n",
      "\n"
     ]
    }
   ],
   "source": [
    "help(cuadrado)"
   ]
  },
  {
   "cell_type": "markdown",
   "metadata": {},
   "source": [
    "Luego de la *docstring* sigue el cuerpo de la función, que como todo bloque de código en Python debe estar indentado. Finalmente, la sentencia `return` devuelve el resultado del cómputo realizado en la función. En nuestro caso de ejemplo, al invocar la función con un argumento, se muestra una string que informa el valor del argumento (con un formato específico), y luego el resultado devuelto con `return`:"
   ]
  },
  {
   "cell_type": "code",
   "execution_count": 5,
   "metadata": {
    "tags": []
   },
   "outputs": [
    {
     "name": "stdout",
     "output_type": "stream",
     "text": [
      "Argumento: 3.0000\n"
     ]
    },
    {
     "data": {
      "text/plain": [
       "9"
      ]
     },
     "execution_count": 5,
     "metadata": {},
     "output_type": "execute_result"
    }
   ],
   "source": [
    "cuadrado(3)"
   ]
  },
  {
   "cell_type": "markdown",
   "metadata": {},
   "source": [
    "La devolución de un valor por parte de una función es opcional. Podemos escribir funciones que no devuelvan ningún valor, sino que solo realicen un cómputo (lo que en algunos lenguajes se denomina **procedimiento**). Estrictamente, cuando no se incluye explícitamente un resultado utilizando `return`, la función devuelve `None`, lo que normalmente es ignorado por el intérprete (si realmente queremos ver el resultado podemos hacerlo con `print()`). Por ejemplo:"
   ]
  },
  {
   "cell_type": "code",
   "execution_count": 7,
   "metadata": {
    "tags": []
   },
   "outputs": [
    {
     "name": "stdout",
     "output_type": "stream",
     "text": [
      "0 1 1 2 3 5 8 13 21 34 55 89 144 233 377 610 987 1597 \n"
     ]
    }
   ],
   "source": [
    "def fib(n):\n",
    "    \"\"\"Imprime una sucesión de Fibonacci hasta n.\n",
    "    \n",
    "    Parameters:\n",
    "    n (int): Valor límite en la secuencia de Fibonacci.\n",
    "    \n",
    "    Returns:\n",
    "    None\n",
    "    \"\"\"\n",
    "    a, b = 0, 1\n",
    "    while a < n:\n",
    "        print(a, end=' ')\n",
    "        a, b = b, a + b\n",
    "    print()\n",
    "\n",
    "fib(2019)"
   ]
  },
  {
   "cell_type": "code",
   "execution_count": 8,
   "metadata": {
    "tags": []
   },
   "outputs": [
    {
     "name": "stdout",
     "output_type": "stream",
     "text": [
      "0 \n",
      "None\n"
     ]
    }
   ],
   "source": [
    "print(fib(1))"
   ]
  },
  {
   "cell_type": "markdown",
   "metadata": {},
   "source": [
    "Si queremos tener un resultado con una lista conteniendo la sucesión, podemos obtenerla con `return`:"
   ]
  },
  {
   "cell_type": "code",
   "execution_count": 9,
   "metadata": {
    "tags": []
   },
   "outputs": [
    {
     "name": "stdout",
     "output_type": "stream",
     "text": [
      "[0, 1, 1, 2, 3, 5, 8, 13, 21, 34, 55, 89]\n"
     ]
    }
   ],
   "source": [
    "def fib2(n):\n",
    "    \"\"\"Devuelve una lista con la sucesión de Fibonacci hasta n.\n",
    "        \n",
    "    Parameters:\n",
    "    n (int): Valor límite en la secuencia de Fibonacci.\n",
    "    \n",
    "    Returns:\n",
    "    list(int): Lista con los valores de la secuencia.\n",
    "    \"\"\"\n",
    "    resultado = []\n",
    "    a, b = 0, 1\n",
    "    while a < n:\n",
    "        resultado.append(a)\n",
    "        a, b = b, a + b\n",
    "    return resultado\n",
    "\n",
    "f101 = fib2(101)\n",
    "print(f101)"
   ]
  },
  {
   "cell_type": "markdown",
   "metadata": {},
   "source": [
    "Una cuestión muy común en los lenguajes de programación es cuándo pueden modificarse o no los argumentos de una función en el código de la misma (por ejemplo, argumentos por valor o por referencia en C/C++). En Python la regla es clara y muy simple: pueden modificarse dentro de la función los argumentos que son **mutables** (variables, listas, etc), mientras que no pueden cambiarse los que son **inmutables** (strings y tuplas):"
   ]
  },
  {
   "cell_type": "code",
   "execution_count": 10,
   "metadata": {
    "tags": []
   },
   "outputs": [
    {
     "data": {
      "text/plain": [
       "[1, 4, 3]"
      ]
     },
     "execution_count": 10,
     "metadata": {},
     "output_type": "execute_result"
    }
   ],
   "source": [
    "def funcion(a):\n",
    "    a[0] = 1\n",
    "    return a\n",
    "\n",
    "funcion([5,4,3])"
   ]
  },
  {
   "cell_type": "code",
   "execution_count": 11,
   "metadata": {
    "tags": []
   },
   "outputs": [
    {
     "ename": "TypeError",
     "evalue": "'tuple' object does not support item assignment",
     "output_type": "error",
     "traceback": [
      "\u001b[0;31m---------------------------------------------------------------------------\u001b[0m",
      "\u001b[0;31mTypeError\u001b[0m                                 Traceback (most recent call last)",
      "Cell \u001b[0;32mIn[11], line 1\u001b[0m\n\u001b[0;32m----> 1\u001b[0m \u001b[43mfuncion\u001b[49m\u001b[43m(\u001b[49m\u001b[43m(\u001b[49m\u001b[38;5;241;43m5\u001b[39;49m\u001b[43m,\u001b[49m\u001b[38;5;241;43m4\u001b[39;49m\u001b[43m,\u001b[49m\u001b[38;5;241;43m3\u001b[39;49m\u001b[43m)\u001b[49m\u001b[43m)\u001b[49m\n",
      "Cell \u001b[0;32mIn[10], line 2\u001b[0m, in \u001b[0;36mfuncion\u001b[0;34m(a)\u001b[0m\n\u001b[1;32m      1\u001b[0m \u001b[38;5;28;01mdef\u001b[39;00m \u001b[38;5;21mfuncion\u001b[39m(a):\n\u001b[0;32m----> 2\u001b[0m     \u001b[43ma\u001b[49m\u001b[43m[\u001b[49m\u001b[38;5;241;43m0\u001b[39;49m\u001b[43m]\u001b[49m \u001b[38;5;241m=\u001b[39m \u001b[38;5;241m1\u001b[39m\n\u001b[1;32m      3\u001b[0m     \u001b[38;5;28;01mreturn\u001b[39;00m a\n",
      "\u001b[0;31mTypeError\u001b[0m: 'tuple' object does not support item assignment"
     ]
    }
   ],
   "source": [
    "funcion((5,4,3))"
   ]
  },
  {
   "cell_type": "markdown",
   "metadata": {},
   "source": [
    "## Argumentos posicionales y argumentos con nombre"
   ]
  },
  {
   "cell_type": "markdown",
   "metadata": {},
   "source": [
    "La forma más simple en que las funciones toman argumento es cuando los mismos son posicionales:"
   ]
  },
  {
   "cell_type": "code",
   "execution_count": 12,
   "metadata": {
    "tags": []
   },
   "outputs": [],
   "source": [
    "def fun_posicional(x, y):\n",
    "    print(f'x = {x:.2f}, y = {y:.2f}')"
   ]
  },
  {
   "cell_type": "code",
   "execution_count": 13,
   "metadata": {
    "tags": []
   },
   "outputs": [
    {
     "name": "stdout",
     "output_type": "stream",
     "text": [
      "x = 3.00, y = 4.00\n"
     ]
    }
   ],
   "source": [
    "fun_posicional(3,4)"
   ]
  },
  {
   "cell_type": "code",
   "execution_count": 14,
   "metadata": {
    "tags": []
   },
   "outputs": [
    {
     "name": "stdout",
     "output_type": "stream",
     "text": [
      "x = 4.00, y = 3.00\n"
     ]
    }
   ],
   "source": [
    "fun_posicional(4,3)"
   ]
  },
  {
   "cell_type": "markdown",
   "metadata": {},
   "source": [
    "Los argumentos posicionales son los más simples y por defecto en Python. Python también permite definir valores por defecto en los argumentos con nombre (*keywords*):"
   ]
  },
  {
   "cell_type": "code",
   "execution_count": 15,
   "metadata": {
    "tags": []
   },
   "outputs": [],
   "source": [
    "def fun_keyword(x=3, y=4):\n",
    "    print(f'x = {x:.2f}, y = {y:.2f}')"
   ]
  },
  {
   "cell_type": "markdown",
   "metadata": {},
   "source": [
    "Es posible especificar los valores de los argumentos posicionales en dos formas. Las siguientes expresiones son válidas todas:"
   ]
  },
  {
   "cell_type": "code",
   "execution_count": 16,
   "metadata": {
    "tags": []
   },
   "outputs": [
    {
     "name": "stdout",
     "output_type": "stream",
     "text": [
      "x = 3.00, y = 4.00\n",
      "x = 3.00, y = 4.00\n",
      "x = 3.00, y = 4.00\n"
     ]
    }
   ],
   "source": [
    "fun_posicional(3,4)\n",
    "fun_posicional(3, y=4)\n",
    "fun_posicional(x=3, y=4)"
   ]
  },
  {
   "cell_type": "markdown",
   "metadata": {},
   "source": [
    "Pero la siguiente no lo es:"
   ]
  },
  {
   "cell_type": "code",
   "execution_count": 17,
   "metadata": {
    "tags": []
   },
   "outputs": [
    {
     "ename": "TypeError",
     "evalue": "fun_posicional() got multiple values for argument 'x'",
     "output_type": "error",
     "traceback": [
      "\u001b[0;31m---------------------------------------------------------------------------\u001b[0m",
      "\u001b[0;31mTypeError\u001b[0m                                 Traceback (most recent call last)",
      "Cell \u001b[0;32mIn[17], line 1\u001b[0m\n\u001b[0;32m----> 1\u001b[0m \u001b[43mfun_posicional\u001b[49m\u001b[43m(\u001b[49m\u001b[38;5;241;43m3\u001b[39;49m\u001b[43m,\u001b[49m\u001b[43m \u001b[49m\u001b[43mx\u001b[49m\u001b[38;5;241;43m=\u001b[39;49m\u001b[38;5;241;43m4\u001b[39;49m\u001b[43m)\u001b[49m\n",
      "\u001b[0;31mTypeError\u001b[0m: fun_posicional() got multiple values for argument 'x'"
     ]
    }
   ],
   "source": [
    "fun_posicional(3, x=4)"
   ]
  },
  {
   "cell_type": "markdown",
   "metadata": {},
   "source": [
    "Como la descripción del error indica, Python interpreta que en la llamada a la función `fun_posicional` se definen dos valores para `x`. Para argumentos posicionales, el **orden** de los valores es importante.\n",
    "\n",
    "Por otra parte, los argumentos con nombre pueden especificarse por su orden, como en los posicionales, pero también especificando sus nombres. Todas las expresiones siguientes son válidas:"
   ]
  },
  {
   "cell_type": "code",
   "execution_count": 18,
   "metadata": {
    "tags": []
   },
   "outputs": [
    {
     "name": "stdout",
     "output_type": "stream",
     "text": [
      "x = 3.00, y = 4.00\n",
      "x = 3.00, y = 4.00\n",
      "x = 3.00, y = 4.00\n",
      "x = 4.00, y = 3.00\n"
     ]
    }
   ],
   "source": [
    "fun_keyword(3, 4)\n",
    "fun_keyword(3, y=4)\n",
    "fun_keyword(x=3, y=4)\n",
    "fun_keyword(y=3, x=4)"
   ]
  },
  {
   "cell_type": "markdown",
   "metadata": {},
   "source": [
    "Dado que las keywords tienen en su definición valores por defecto, esto permite invocar a la función con menos argumentos que los que aparecen en la definición, ya que se utilizarán los valores por defecto:"
   ]
  },
  {
   "cell_type": "code",
   "execution_count": 19,
   "metadata": {
    "tags": []
   },
   "outputs": [
    {
     "name": "stdout",
     "output_type": "stream",
     "text": [
      "x = 3.00, y = 4.00\n",
      "x = 7.00, y = 4.00\n",
      "x = 3.00, y = 7.00\n"
     ]
    }
   ],
   "source": [
    "fun_keyword()\n",
    "fun_keyword(7)\n",
    "fun_keyword(y=7)"
   ]
  },
  {
   "cell_type": "markdown",
   "metadata": {},
   "source": [
    "Debe notarse que al omitir valores de argumentos, se asume que los que se pasan sin nombre van ocupando los valores en el orden en que se definen en la función. Por ejemplo, en `fun_keyword(7)`, el 7 se asigna al primer argumento (`x`), mientras que el segundo toma su valor por defecto. Si queremos solo pasar un valor, y asignarlo al segundo, debemos necesariamente utilizar el nombre del segundo (`y=7`), y en ese caso `x` tomará su valor por defecto."
   ]
  },
  {
   "cell_type": "markdown",
   "metadata": {},
   "source": [
    "Es posible mezclar argumentos posicionales con argumentos con valores por defecto, siendo de este modo obligatorio invocar la función con el argumento posicional. Es importante destacar que los argumentos con nombre van **después** de los posicionales en la definición de la función. Por ejemplo, la función siguiente toma un argumento posicional y dos keywords:"
   ]
  },
  {
   "cell_type": "code",
   "execution_count": 20,
   "metadata": {
    "tags": []
   },
   "outputs": [],
   "source": [
    "def fun_mix(x, opcion1='True', opcion2=''):\n",
    "    print(x, opcion1, opcion2)\n",
    "    pass"
   ]
  },
  {
   "cell_type": "markdown",
   "metadata": {},
   "source": [
    "Las llamadas a la función siguientes son válidas:"
   ]
  },
  {
   "cell_type": "code",
   "execution_count": 21,
   "metadata": {
    "tags": []
   },
   "outputs": [
    {
     "name": "stdout",
     "output_type": "stream",
     "text": [
      "4 True \n",
      "4 True La Plata\n",
      "4 False La Plata\n"
     ]
    }
   ],
   "source": [
    "fun_mix(4)\n",
    "fun_mix(4, opcion2='La Plata')\n",
    "fun_mix(4, opcion1=False, opcion2='La Plata')"
   ]
  },
  {
   "cell_type": "markdown",
   "metadata": {},
   "source": [
    "Pero las siguientes no:"
   ]
  },
  {
   "cell_type": "code",
   "execution_count": 22,
   "metadata": {
    "tags": []
   },
   "outputs": [
    {
     "ename": "TypeError",
     "evalue": "fun_mix() missing 1 required positional argument: 'x'",
     "output_type": "error",
     "traceback": [
      "\u001b[0;31m---------------------------------------------------------------------------\u001b[0m",
      "\u001b[0;31mTypeError\u001b[0m                                 Traceback (most recent call last)",
      "Cell \u001b[0;32mIn[22], line 1\u001b[0m\n\u001b[0;32m----> 1\u001b[0m \u001b[43mfun_mix\u001b[49m\u001b[43m(\u001b[49m\u001b[43m)\u001b[49m\n",
      "\u001b[0;31mTypeError\u001b[0m: fun_mix() missing 1 required positional argument: 'x'"
     ]
    }
   ],
   "source": [
    "fun_mix()"
   ]
  },
  {
   "cell_type": "code",
   "execution_count": 23,
   "metadata": {
    "tags": []
   },
   "outputs": [
    {
     "ename": "SyntaxError",
     "evalue": "positional argument follows keyword argument (989586118.py, line 1)",
     "output_type": "error",
     "traceback": [
      "\u001b[0;36m  Cell \u001b[0;32mIn[23], line 1\u001b[0;36m\u001b[0m\n\u001b[0;31m    fun_mix(x=4, False)\u001b[0m\n\u001b[0m                 ^\u001b[0m\n\u001b[0;31mSyntaxError\u001b[0m\u001b[0;31m:\u001b[0m positional argument follows keyword argument\n"
     ]
    }
   ],
   "source": [
    "fun_mix(x=4, False)"
   ]
  },
  {
   "cell_type": "code",
   "execution_count": 24,
   "metadata": {
    "tags": []
   },
   "outputs": [
    {
     "ename": "TypeError",
     "evalue": "fun_mix() got multiple values for argument 'x'",
     "output_type": "error",
     "traceback": [
      "\u001b[0;31m---------------------------------------------------------------------------\u001b[0m",
      "\u001b[0;31mTypeError\u001b[0m                                 Traceback (most recent call last)",
      "Cell \u001b[0;32mIn[24], line 1\u001b[0m\n\u001b[0;32m----> 1\u001b[0m \u001b[43mfun_mix\u001b[49m\u001b[43m(\u001b[49m\u001b[38;5;241;43m4\u001b[39;49m\u001b[43m,\u001b[49m\u001b[43m \u001b[49m\u001b[43mx\u001b[49m\u001b[38;5;241;43m=\u001b[39;49m\u001b[38;5;241;43m4\u001b[39;49m\u001b[43m)\u001b[49m\n",
      "\u001b[0;31mTypeError\u001b[0m: fun_mix() got multiple values for argument 'x'"
     ]
    }
   ],
   "source": [
    "fun_mix(4, x=4)"
   ]
  },
  {
   "cell_type": "code",
   "execution_count": 25,
   "metadata": {
    "tags": []
   },
   "outputs": [
    {
     "ename": "TypeError",
     "evalue": "fun_mix() got an unexpected keyword argument 'e'",
     "output_type": "error",
     "traceback": [
      "\u001b[0;31m---------------------------------------------------------------------------\u001b[0m",
      "\u001b[0;31mTypeError\u001b[0m                                 Traceback (most recent call last)",
      "Cell \u001b[0;32mIn[25], line 1\u001b[0m\n\u001b[0;32m----> 1\u001b[0m \u001b[43mfun_mix\u001b[49m\u001b[43m(\u001b[49m\u001b[38;5;241;43m4\u001b[39;49m\u001b[43m,\u001b[49m\u001b[43m \u001b[49m\u001b[43me\u001b[49m\u001b[38;5;241;43m=\u001b[39;49m\u001b[38;5;241;43m2.4142\u001b[39;49m\u001b[43m)\u001b[49m\n",
      "\u001b[0;31mTypeError\u001b[0m: fun_mix() got an unexpected keyword argument 'e'"
     ]
    }
   ],
   "source": [
    "fun_mix(4, e=2.4142)"
   ]
  },
  {
   "cell_type": "markdown",
   "metadata": {},
   "source": [
    "## Número arbitrario de argumentos\n",
    "\n",
    "Python permite llamar a una función con un número arbitrario de argumentos, que pueden ser posicionales o con nombre. Los primeros se organizan en forma de tupla, y llevan un `*` antes del nombre (en las documentaciones suelen referirse como `*args`). Antes del número variable de argumentos pueden incluirse argumentos posicionales y con nombre, mientras que los segundos llevan `**` antes del nombre, y se agrupan como diccionario (suelen nombrarse como `**kwargs` en la documentación).\n",
    "\n",
    "Es usual que estos argumentos de cantidad arbitraria de variables sean los últimos en la lista de parámetros formales, porque toman todo el remanente de argumentos que se pasan a la función. Cualquier parámetro que suceda luego de esta tupla solo puede ser con nombre, o sea que sólo se pueden usar como nombrados y no posicionales:"
   ]
  },
  {
   "cell_type": "code",
   "execution_count": 26,
   "metadata": {
    "tags": []
   },
   "outputs": [],
   "source": [
    "def concatenar(*palabras, sep='/'):\n",
    "    for p in palabras:\n",
    "        print(p)\n",
    "    print(10 * '-')\n",
    "    return sep.join(palabras)"
   ]
  },
  {
   "cell_type": "code",
   "execution_count": 27,
   "metadata": {
    "tags": []
   },
   "outputs": [
    {
     "name": "stdout",
     "output_type": "stream",
     "text": [
      "Crusaders\n",
      "Hurricanes\n",
      "Jaguares\n",
      "Brumbies\n",
      "----------\n"
     ]
    },
    {
     "data": {
      "text/plain": [
       "'Crusaders/Hurricanes/Jaguares/Brumbies'"
      ]
     },
     "execution_count": 27,
     "metadata": {},
     "output_type": "execute_result"
    }
   ],
   "source": [
    "concatenar('Crusaders', 'Hurricanes', 'Jaguares', 'Brumbies')"
   ]
  },
  {
   "cell_type": "code",
   "execution_count": 28,
   "metadata": {
    "tags": []
   },
   "outputs": [
    {
     "name": "stdout",
     "output_type": "stream",
     "text": [
      "Crusaders\n",
      "Jaguares\n",
      "----------\n"
     ]
    },
    {
     "data": {
      "text/plain": [
       "'Crusaders vs Jaguares'"
      ]
     },
     "execution_count": 28,
     "metadata": {},
     "output_type": "execute_result"
    }
   ],
   "source": [
    "concatenar('Crusaders', 'Jaguares', sep=' vs ')"
   ]
  },
  {
   "cell_type": "markdown",
   "metadata": {},
   "source": [
    "El siguiente ejemplo muestra cómo utilizar un número variable de argumentos, tanto posicionales como con nombre:"
   ]
  },
  {
   "cell_type": "code",
   "execution_count": 29,
   "metadata": {
    "tags": []
   },
   "outputs": [],
   "source": [
    "def variable_args(*args, **kwargs):\n",
    "    print('Argumentos posicionales:', args)\n",
    "    print('Argumentos con nombre:', kwargs)"
   ]
  },
  {
   "cell_type": "code",
   "execution_count": 30,
   "metadata": {
    "tags": []
   },
   "outputs": [
    {
     "name": "stdout",
     "output_type": "stream",
     "text": [
      "Argumentos posicionales: ('uno', 'dos')\n",
      "Argumentos con nombre: {'x': 1, 'y': 2, 'z': 3}\n"
     ]
    }
   ],
   "source": [
    "variable_args('uno', 'dos', x=1, y=2, z=3)"
   ]
  },
  {
   "cell_type": "code",
   "execution_count": 31,
   "metadata": {
    "tags": []
   },
   "outputs": [
    {
     "name": "stdout",
     "output_type": "stream",
     "text": [
      "Argumentos posicionales: ('uno', 'dos', 'tres')\n",
      "Argumentos con nombre: {'x': 1, 'z': 3}\n"
     ]
    }
   ],
   "source": [
    "variable_args('uno', 'dos', 'tres', x=1, z=3)"
   ]
  },
  {
   "cell_type": "markdown",
   "metadata": {},
   "source": [
    "Al definir funciones con argumentos variables posicionales y con nombre, **siempre** deben ir primero los posicionales (`*args` antes que `*kwargs`).\n",
    "\n",
    "A veces ocurre que una función espera recibir argumentos que ya los tenemos en una tupla o lista, por lo que necesitamos *desempaquetarlos* al pasarlos a la función. Para ello podemos utilizar `*` en la llamada a la función. Por ejemplo, la función `range(inicio, fin)` requiere como argumentos dos parámetros. Si ya tenemos esos valores en una lista, podemos *desempaquetarlos* del siguiente modo:"
   ]
  },
  {
   "cell_type": "code",
   "execution_count": 32,
   "metadata": {
    "tags": []
   },
   "outputs": [
    {
     "data": {
      "text/plain": [
       "[10, 11, 12, 13, 14, 15, 16, 17, 18, 19]"
      ]
     },
     "execution_count": 32,
     "metadata": {},
     "output_type": "execute_result"
    }
   ],
   "source": [
    "args = [10, 20]\n",
    "list(range(*args))"
   ]
  },
  {
   "cell_type": "markdown",
   "metadata": {},
   "source": [
    "## Funciones lambda"
   ]
  },
  {
   "cell_type": "markdown",
   "metadata": {},
   "source": [
    "Pyhton permite definir pequeñas funciones sin nombre, con la palabra reservada **lambda**. Estas funciones solo permiten una sola instrucción, y suelen ser útiles como argumentos de otras funciones. Por ejemplo:"
   ]
  },
  {
   "cell_type": "code",
   "execution_count": 33,
   "metadata": {
    "tags": []
   },
   "outputs": [],
   "source": [
    "f1 = lambda x: x**2"
   ]
  },
  {
   "cell_type": "markdown",
   "metadata": {},
   "source": [
    "es equivalente a:"
   ]
  },
  {
   "cell_type": "code",
   "execution_count": 34,
   "metadata": {
    "tags": []
   },
   "outputs": [],
   "source": [
    "def f2(x):\n",
    "    return x**2"
   ]
  },
  {
   "cell_type": "code",
   "execution_count": 35,
   "metadata": {
    "tags": []
   },
   "outputs": [
    {
     "data": {
      "text/plain": [
       "(4, 4)"
      ]
     },
     "execution_count": 35,
     "metadata": {},
     "output_type": "execute_result"
    }
   ],
   "source": [
    "f1(2), f2(2)"
   ]
  },
  {
   "cell_type": "markdown",
   "metadata": {},
   "source": [
    "Un caso típico de uso de funciones lambda es cuando las utilizamos como argumento de otra función:"
   ]
  },
  {
   "cell_type": "code",
   "execution_count": 36,
   "metadata": {
    "tags": []
   },
   "outputs": [
    {
     "data": {
      "text/plain": [
       "[-27, -8, -1, 0, 1, 8, 27]"
      ]
     },
     "execution_count": 36,
     "metadata": {},
     "output_type": "execute_result"
    }
   ],
   "source": [
    "list(map(lambda x: x**3, range(-3,4)))"
   ]
  }
 ],
 "metadata": {
  "kernelspec": {
   "display_name": "Python 3 (ipykernel)",
   "language": "python",
   "name": "python3"
  },
  "language_info": {
   "codemirror_mode": {
    "name": "ipython",
    "version": 3
   },
   "file_extension": ".py",
   "mimetype": "text/x-python",
   "name": "python",
   "nbconvert_exporter": "python",
   "pygments_lexer": "ipython3",
   "version": "3.8.16"
  }
 },
 "nbformat": 4,
 "nbformat_minor": 4
}
