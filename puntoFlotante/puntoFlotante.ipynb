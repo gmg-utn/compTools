{
 "cells": [
  {
   "cell_type": "markdown",
   "metadata": {},
   "source": [
    "# Aritmética de punto flotante\n",
    "\n",
    "Ejecutar este documento en forma dinámica: [![Open In Colab](https://colab.research.google.com/assets/colab-badge.svg)](https://colab.research.google.com/github/gmg-utn/compTools/blob/master/puntoFlotante/puntoFlotante.ipynb) "
   ]
  },
  {
   "cell_type": "markdown",
   "metadata": {},
   "source": [
    "## Números enteros y de punto flotante\n",
    "\n",
    "Vamos a hacer una cuenta simple:"
   ]
  },
  {
   "cell_type": "code",
   "execution_count": 1,
   "metadata": {},
   "outputs": [
    {
     "data": {
      "text/plain": [
       "5.551115123125783e-17"
      ]
     },
     "execution_count": 1,
     "metadata": {},
     "output_type": "execute_result"
    }
   ],
   "source": [
    "0.1 + 0.1 + 0.1 - 0.3"
   ]
  },
  {
   "cell_type": "markdown",
   "metadata": {},
   "source": [
    "En la matemática que aprendimos en la escuela, $a + a + a - 3 a = 0$, pero cuando ejecutamos la instrucción de arriba el valor obtenido **no es cero** (aunque es muy pequeño).\n",
    "\n",
    "Esto no es un error de Python, sino que ocurre debido a la representación interna que hacen las computadoras de los números que hace que no haya forma de representar **exactamente** valores como `0.1`. Toda la información almacenada en una computadora debe ser representada en formato [binario](https://es.wikipedia.org/wiki/Sistema_binario), que consiste solo en ceros y unos (por ejemplo 1729 $\\mapsto$ 11011000001). Cada cero o uno se denomina un **bit**, y dado $N$ bits, se pueden representar todos los enteros en el rango $[0, 2^{N-1}]$, donde el $-1$ se debe a que el primer bit se reserva para definir si un número es positivo o negativo.\n",
    "\n",
    "Sin embargo, dado un número fijo de bits, es imposible representar exactamente un número arbitrario. Por lo tanto, si tenemos un número aleatorio, a menos que el número sea exactamente divisible por dos, la conversión entre el número aleatorio y la representación binaria en bits conduce a una pérdida de precisión, lo que se conoce como **error de redondeo**.\n",
    "\n",
    "Cuando trabajamos con números en una computadora hay básicamente dos tipos de números a considerar:\n",
    "\n",
    "- **Enteros** (1, 2, 4, -3114, ...). Son los denominados **números de punto fijo**, donde el término punto fijo significa que hay un número fijo de lugares decimales en el número (que es cero para los enteros). Estos números pueden representarse exactamente en una computadora.\n",
    "\n",
    "- **_Doubles/Floats_** (3.141, 0.21, -0.1, ...). Estos son [**números de punto flotante**](https://es.wikipedia.org/wiki/Coma_flotante) que consisten en el equivalente binario de la notación científica $c = 2.99792458 \\times 10^8$. Los *doubles* (números de precisión doble) son números de punto flotante que se escriben utilizando 64 bits, y en general solo son precisos hasta la posición decimal 15 o 16. Los *floats* (o números de precisión simple) usan 32 bits, y tienen 6 o 7 lugares decimales precisos. Cualquier aplicación científica seria siempre requiere una combinación de números enteros y doubles.\n",
    "\n",
    "Veamos algunos ejemplos más de operaciones aritméticas simples:"
   ]
  },
  {
   "cell_type": "code",
   "execution_count": 2,
   "metadata": {},
   "outputs": [
    {
     "data": {
      "text/plain": [
       "7.000000000000001"
      ]
     },
     "execution_count": 2,
     "metadata": {},
     "output_type": "execute_result"
    }
   ],
   "source": [
    "7 + 0.000000000000001"
   ]
  },
  {
   "cell_type": "code",
   "execution_count": 3,
   "metadata": {},
   "outputs": [
    {
     "data": {
      "text/plain": [
       "7.0"
      ]
     },
     "execution_count": 3,
     "metadata": {},
     "output_type": "execute_result"
    }
   ],
   "source": [
    "7 + 0.0000000000000001"
   ]
  },
  {
   "cell_type": "code",
   "execution_count": 4,
   "metadata": {},
   "outputs": [
    {
     "data": {
      "text/plain": [
       "0.30000000000000004"
      ]
     },
     "execution_count": 4,
     "metadata": {},
     "output_type": "execute_result"
    }
   ],
   "source": [
    "0.1 + 0.2"
   ]
  },
  {
   "cell_type": "markdown",
   "metadata": {},
   "source": [
    "Estos últimos ejemplos muestran claramente que las computadoras no almacenan números decimales (de punto flotante) exactamente. La pérdida de precisión en los números de punto flotante pueden caracterizarse por la **precisión de la máquina** $\\epsilon_{\\text{m}}$, que se define como el menor número positivo tal que:\n",
    "$$ 1_{\\text{c}} + \\epsilon_{\\text{m}} \\neq 1_{\\text{c}} $$\n",
    "donde el subíndice en $1_{\\text{c}}$ nos recuerda que es un número en su representación computacional. Por lo tanto, para cualquier número arbitrario $N$, su relación con su equivalente en punto flotante está dada por\n",
    "$$ N_{\\text{c}} = N \\pm \\epsilon, \\forall |\\epsilon| < \\epsilon_{\\text{m}} $$\n",
    "\n",
    "**Para recordar**: todo número decimal de doble precisión que no sea divisible por dos tendrá un error en el 15avo lugar decimal. Esto puede conducir a errores en las soluciones numéricas si no tenemos esto en cuenta.\n"
   ]
  },
  {
   "cell_type": "markdown",
   "metadata": {},
   "source": [
    "## Punto flotante decimal\n",
    "\n",
    "Dado que la memoria de las computadoras es limitada, no es posible almacenar números con precisión infinita. Por lo tanto, de algún modo es necesario realizar un corte en la secuencia de dígitos que representa un números real. Esto es algo que hacemos rutinariamente en todos nuestros cálculos. Al número $1/2$ lo podemos representar **exactamente** como `0.5`, pero al número $1/3$ podemos representarlo, con **precisión** creciente, como:\n",
    "\n",
    "|     |\n",
    "| :--- |\n",
    "|`0.3`|\n",
    "|`0.33`|\n",
    "|`0.333`|\n",
    "|`0.3333`|\n",
    "|`0.33333`|\n",
    "|`...`|\n",
    "\n",
    "La representación de punto flotante es una forma de notación científica usada en las computadoras con la cual se pueden representar números reales extremadamente grandes y pequeños de una manera muy eficiente y compacta, y con la que se pueden realizar operaciones aritméticas. El estándar actual para la representación en coma flotante es el [IEEE 754](https://es.wikipedia.org/wiki/IEEE_coma_flotante).\n",
    "\n",
    "Esta representación consiste en descomponer un número en tres partes, de la siguiente forma:\n",
    "\n",
    "$$r = (-1)^s c \\; b^e$$\n",
    "\n",
    "donde $r$ es el número que queremos representar, $s$ es el signo, $c$ es la mantisa, $b$ es la base de representación (10: decimal, 2: binario, 16: hexadecimal) y $e$ es el exponente. Por ejemplo:\n",
    "\n",
    "\\begin{align*}\n",
    "s &= 0 \\\\\n",
    "c &= 31415926 \\\\\n",
    "b &= 10 \\\\\n",
    "e &= -7 \\\\\n",
    "r &= (-1)^0 31415926 \\times 10^{(-7)} = 3.1415926\n",
    "\\end{align*}\n",
    "\n",
    "Este formato satisface los siguientes requisitos:\n",
    "\n",
    "- Puede representar números de órdenes de magnitud enormemente dispares (limitado por la longitud del exponente).\n",
    "- Proporciona la misma precisión relativa para todos los órdenes (limitado por la longitud de la mantisa).\n",
    "- Permite cálculos entre magnitudes: multiplicar un número muy grande y uno muy pequeño conserva la precisión de ambos en el resultado.\n",
    "\n",
    "Los números de punto flotante decimales se expresan normalmente en notación científica con un punto explícito siempre entre el primer y el segundo dígitos. El exponente o bien se escribe explícitamente incluyendo la base, o se usa una e (o E) para separarlo de la mantisa."
   ]
  },
  {
   "cell_type": "markdown",
   "metadata": {},
   "source": [
    "## Punto flotante binario\n",
    "\n",
    "Las computadoras utilizan el mismo formato pero binario, es decir, $b = 2$. Los formatos más utilizados son de 32 o 64 bits en total (4 u 8 bytes):\n",
    "\n",
    "|Precisión | Bits | Bits significativos | Bits del exponente | Número más pequeño | Número más grande |\n",
    "| --- | --- | --- | --- | --- | --- |\n",
    "|Simple | 32 | 23 + 1 signo | 8 | `~1.2e-38` | `~3.4e38` |\n",
    "|Doble | 64 | 52 + 1 signo | 11 | `~5.0e-324` | `~1.8e308` |\n",
    "\n",
    "Algunas características:\n",
    "\n",
    "- En la secuencia de bits, el primero es el del signo, luego el exponente y finalmente la mantisa.\n",
    "- El exponente no tiene signo, en su lugar se le resta un desplazamiento (*bias*) (127 para simple y 1023 para doble precisión). Esto, junto con la secuencia de bits, permite que los números de punto flotante se puedan comparar y ordenar correctamente incluso cuando se interpretan como enteros: $r = (-1)^s \\, c \\, b^{(e - E)}$, con $E$ denotando el *bias*.\n",
    "- Se asume que el bit más significativo de la mantisa es 1 y se omite, excepto para casos especiales.\n",
    "- Hay valores diferentes para cero positivo y cero negativo. Estos difieren en el bit del signo, mientras que todos los demás son 0. Deben ser considerados iguales aunque sus secuencias de bits sean diferentes.\n",
    "- Hay valores especiales no numéricos (NaN, *not a number* en inglés) en los que los bits del exponente son todos `1` y los de la mantisa no son todos `0`. Estos valores representan el resultado de algunas operaciones indefinidas (como multiplicar 0 por infinito, operaciones que involucren NaN, o casos específicos). Incluso valores NaN con idéntica secuencia de bits no deben ser considerados iguales.\n"
   ]
  },
  {
   "cell_type": "markdown",
   "metadata": {},
   "source": [
    "### Repaso (?): conversión de decimal a binario\n",
    "\n",
    "Para convertir un número decimal `n`, por ejemplo `2.71728` a binario con una cierta cantidad `k` de dígitos (por ejemplo 4), se deben seguir los pasos a continuación:\n",
    "\n",
    "1- Convertir la parte entera de `n` en el binario equivalente:\n",
    "    1. Dividir el número decimal por 2 y guadar el resto en una lista.\n",
    "    1. Dividir el cociente por 2.\n",
    "    1. Repetir el paso B hasta que el cociente sea 0.\n",
    "    1. El número binario equivalente resulta de la lista del paso A en orden inverso.\n",
    "    \n",
    "Divisor | Cociente | Resto\n",
    "--- | --- | ---\n",
    "2 | 1 | 0\n",
    "1 | 0 | 1\n",
    "\n",
    "$$2_{10} = 10_{2}$$\n",
    "\n",
    "2- Convertir la parte fraccionaria de `n` en el binario equivalente:\n",
    "    1. Multiplicar la parte fraccionaria decimal por 2.\n",
    "    1. La parte entera del resultado de A es el primer dígito de la parte fraccionaria binaria.\n",
    "    1. Repetir el paso 1 usando solo la parte fraccional del número y luego el paso B, hasta obtener los `k` dígitos.\n",
    "    \n",
    "| Fracción decimal | x 2 | Parte entera del resultado |\n",
    "| --- | --- | --- |\n",
    "| 0.71728 | 1.43456 | 1 |\n",
    "| 0.43456 | 0.86912 | 0 |\n",
    "| 0.86912 | 1.73824 | 1 |\n",
    "| 0.73824 | 1.47648 | 1 |\n",
    "\n",
    "$$0.71728_{10} = 1011_{2} $$\n",
    "\n",
    "3- Concatenar la parte entera binaria con la fraccionaria binaria:\n",
    "\n",
    "$$2.71728_{10} = 10.1011_{2}$$\n",
    "\n",
    "Podemos hacer un script que realice el cálculo por nosotros:"
   ]
  },
  {
   "cell_type": "code",
   "execution_count": 5,
   "metadata": {},
   "outputs": [],
   "source": [
    "def dec2bin(n, k):\n",
    "    binario = ''\n",
    "    entero = int(n)\n",
    "    fraccional = n - entero\n",
    "    # Convertimos la parte entera a su formato binario\n",
    "    while(entero):\n",
    "        resto = entero % 2\n",
    "        binario += str(resto)\n",
    "        entero //= 2\n",
    "    binario = binario[::-1]\n",
    "    binario += '.'\n",
    "    # Convertimos la parte fraccional a su formato binario\n",
    "    while(k):\n",
    "        fraccional *= 2\n",
    "        fraccional_bit = int(fraccional)\n",
    "        if fraccional_bit == 1:\n",
    "            fraccional -= fraccional_bit\n",
    "            binario += '1'\n",
    "        else:\n",
    "            binario += '0'\n",
    "        k -= 1\n",
    "    return(binario)"
   ]
  },
  {
   "cell_type": "code",
   "execution_count": 6,
   "metadata": {},
   "outputs": [
    {
     "data": {
      "text/plain": [
       "'10.1011'"
      ]
     },
     "execution_count": 6,
     "metadata": {},
     "output_type": "execute_result"
    }
   ],
   "source": [
    "dec2bin(2.71728,4)"
   ]
  },
  {
   "cell_type": "markdown",
   "metadata": {},
   "source": [
    "Para volver de binario a decimal, la operación es simple. Por ejemplo, si queremos llevar el número $110.001_b$ a decimal:\n",
    "\n",
    "\n",
    "\\begin{align*}\n",
    "110.001_b &= 1 \\, 2^2 +  1 \\, 2^1 + 0 \\, 2^0 + 0 \\, 2^{-1} + 0 \\, 2^{-2} + 1 \\, 2^{-3} \\\\\n",
    "          &= 1 \\, 4 + 1 \\, 2 + 0 \\, 1 + \\frac{0}{2} + \\frac{0}{4} + \\frac{1}{8} \\\\\n",
    "          &= 6 + \\frac{1}{8} = 6.125\n",
    "\\end{align*}\n",
    "\n",
    "Podemos también hacer un script que transforme de binario a decimal, dando como entrada una string que representa el número binario:"
   ]
  },
  {
   "cell_type": "code",
   "execution_count": 7,
   "metadata": {},
   "outputs": [],
   "source": [
    "def bin2dec(s):\n",
    "    if not '.' in s:\n",
    "        be, bd = s, ''\n",
    "    else:\n",
    "        be, bd = s.split('.')        \n",
    "    d = 0\n",
    "    print(be,bd)\n",
    "    for e in range(len(be)):\n",
    "        d += int(be[-(e + 1)]) * 2**(e)\n",
    "    for e in range(len(bd)):\n",
    "        d += int(bd[e]) * 2**(-(e + 1))\n",
    "    return(d)"
   ]
  },
  {
   "cell_type": "code",
   "execution_count": 8,
   "metadata": {},
   "outputs": [
    {
     "name": "stdout",
     "output_type": "stream",
     "text": [
      "110 001\n"
     ]
    },
    {
     "data": {
      "text/plain": [
       "6.125"
      ]
     },
     "execution_count": 8,
     "metadata": {},
     "output_type": "execute_result"
    }
   ],
   "source": [
    "bin2dec('110.001')"
   ]
  },
  {
   "cell_type": "markdown",
   "metadata": {},
   "source": [
    "¿Qué sucede cuando queremos volver a decimal el número $10.1011_b$? ¿Por qué ocurre esto?"
   ]
  },
  {
   "cell_type": "markdown",
   "metadata": {},
   "source": [
    "### Número decimal a representación binaria IEEE\n",
    "\n",
    "Para convertir un número decimal a punto flotante IEEE hay que seguir los siguientes pasos:\n",
    "\n",
    "1. Escribir el número en binario\n",
    "2. Normalizar el número\n",
    "3. Encontrar la mantisa y el exponente\n",
    "4. Escribir el número como punto flotante binario IEEE\n",
    "\n",
    "Ejemplo: convertir $2.25_{10}$ a punto flotante binario IEEE de precisión simple (32 bits)."
   ]
  },
  {
   "cell_type": "code",
   "execution_count": 9,
   "metadata": {},
   "outputs": [
    {
     "data": {
      "text/plain": [
       "'10.01000000'"
      ]
     },
     "execution_count": 9,
     "metadata": {},
     "output_type": "execute_result"
    }
   ],
   "source": [
    "dec2bin(2.25,8)"
   ]
  },
  {
   "cell_type": "markdown",
   "metadata": {},
   "source": [
    "Para normalizar $10.01000000_2$ hay que multiplicar por $2^1$. La mantisa entonces es `001 0000 0000 0000 0000 0000` (7 + 8 + 8 = 23), recordando que se asume que hay un 1 a la izquierda del punto decimal ya que el valor está normalizado. \n",
    "\n",
    "Para hallar el exponente debemos recordar que en representación de 32 bits, el *bias* es 127, por lo que el exponente en la representación IEEE es $e - 127 = 1 \\Rightarrow e = 128$, que convertido a binario es:"
   ]
  },
  {
   "cell_type": "code",
   "execution_count": 10,
   "metadata": {},
   "outputs": [
    {
     "data": {
      "text/plain": [
       "'10000000.'"
      ]
     },
     "execution_count": 10,
     "metadata": {},
     "output_type": "execute_result"
    }
   ],
   "source": [
    "dec2bin(128,0)"
   ]
  },
  {
   "cell_type": "markdown",
   "metadata": {},
   "source": [
    "Finalmente, la representación en punto flotante binario IEEE resulta:\n",
    "\n",
    "```\n",
    "s e         c\n",
    "0 10000000 (1)001 0000 0000 0000 0000\n",
    "```\n",
    "o directamente:\n",
    "```\n",
    "0100000000010000000000000000\n",
    "```\n"
   ]
  },
  {
   "cell_type": "markdown",
   "metadata": {},
   "source": [
    "### Representación binaria IEEE a decimal\n",
    "\n",
    "Para realizar la conversión inversa hay que recorrer el camino inverso al de la sección anterior, esto es, reconocer la mantisa y el exponente, convertir a decimal las expresiones binarias y realizar la aritmética necesaria. Por ejemplo, dado el binario siguiente (de 32 bits):\n",
    "``` \n",
    "0 10000001 10000000000000000000000\n",
    "``` \n",
    "obtener su representación decimal.\n",
    "\n",
    "Dado que el primer bit es 0, determinamos que el número es positivo. Los siguientes ocho bits representan el exponente en formato binario, por lo que debemos convertirlo a entero:"
   ]
  },
  {
   "cell_type": "code",
   "execution_count": 11,
   "metadata": {},
   "outputs": [
    {
     "name": "stdout",
     "output_type": "stream",
     "text": [
      "10000001 \n"
     ]
    },
    {
     "data": {
      "text/plain": [
       "129"
      ]
     },
     "execution_count": 11,
     "metadata": {},
     "output_type": "execute_result"
    }
   ],
   "source": [
    "bin2dec('10000001')"
   ]
  },
  {
   "cell_type": "markdown",
   "metadata": {},
   "source": [
    "Dado que el *bias* en 32 bits es 127, el correspondiente exponente es $129 - 127 = 2$. La mantisa es $0.1 = 2^{-1} = 0.5$, con lo que el decimal equivalente es:\n",
    "\n",
    "$$ +1.5 \\; 2^{2} = +6.0 $$"
   ]
  },
  {
   "cell_type": "markdown",
   "metadata": {},
   "source": [
    "\n",
    "## Errores\n",
    "\n",
    "En el transcurso del tratamiento matemático de datos debemos tratar con el problema de los errores. Existen cuatro formas en que se introducen errores en los cálculos.\n",
    "\n",
    "1. Error inherente. Estos errores provienen desde el principio en los datos originales y están fuera del alcance del control de cálculo. Pueden deberse, por ejemplo, de las incertezas inherentes al proceso de medición.\n",
    "2. Error de truncamiento. Se producen como resultado de reemplazar un proceso infinito por uno finito, tal como sucede cuando consideramos solo los primeros términos de una expansión en serie de Taylor.\n",
    "3. Error de redondeo. Estos errores provienen de la representación con precisión finita de los números en una computadora (de este error nos ocuparemos aquí).\n",
    "4. Error por equivocación. Este error es causado por realizar una operación aritmética incorrectamente.\n",
    "\n",
    "Los primeros tres errores son **inevitables**, por lo que el \"problema de los errores\" no consiste en evitarlos, sino en controlar su magnitud con el propósito de obtener un resultado final lo más preciso posible. Este proceso se denomina **control de error** y consiste en estimar la propagación de los errores a través de un cómputo. Por ejemplo, queremos asegurarnos que los resultados de realizar una operación aritmética entre dos números (que intrínsecamente ya tienen un error), estén dentro de límites tolerables. Además, este error en cálculos subsecuentes también debe mantenerse bajo control.\n",
    "\n",
    "El error por equivocación es evitable, por lo que no debe ocurrir y por lo tanto no lo consideraremos en este curso."
   ]
  },
  {
   "cell_type": "markdown",
   "metadata": {},
   "source": [
    "### Error de redondeo\n",
    "\n",
    "Un número en representación entera es exacto, y por lo tanto la aritmética entre números enteros también es exacta con dos salvedades: (1) el resultado no está por afuera del rango de representación de enteros (usualmente con signo), y (2) la división se interpreta generando también un entero, y descartando todo resto (también entero).\n",
    "\n",
    "Diferentes patrones de bits pueden representar el mismo número en punto flotante. Si usamos una representación binaria, por ejemplo, una mantisa con los bits más significativos nulos puede ser *desplazada a izquierda*, es decir, multiplicado por una potencia de 2, siempre que el exponente sea disminuido por la misma cantidad. Los patrones de bits que están tan desplazados a izquierda como se pueda, se dicen que están **normalizados**. Casi todas las computadoras siempre producen resultados normalizados, dado que no se quiere desperdiciar bits para las mantisas y por lo tanto ganar en precisión en la representación. Dado que el bit de mayor orden de una matisa normalizada (en representación binaria) es **siempre** 1, algunas computadoras ni siquiera almacenan este bit, ofreciendo entonces un bit extra de significancia.\n",
    "\n",
    "La aritmética entre números en representación de punto flotante no es exacta, aún si los operandos lo son. Por ejemplo, la suma de dos números en punto flotante se realiza primero desplazando a derecha (dividiendo por dos) la mantisa del número menor (en magnitud), y incrementando simultáneamente el exponente, hasta que los dos operandos tengan el mismo exponente. Los bits menos significativos se pierden debido a este desplazamiento. Si los dos operandos difieren mucho en sus magnitudes, el operando menor es reemplazado efectivamente por cero, dado que es completamente desplazado a derecha.\n",
    "\n",
    "Por ejemplo:"
   ]
  },
  {
   "cell_type": "code",
   "execution_count": 12,
   "metadata": {},
   "outputs": [
    {
     "data": {
      "text/plain": [
       "80000.0"
      ]
     },
     "execution_count": 12,
     "metadata": {},
     "output_type": "execute_result"
    }
   ],
   "source": [
    "a = 80000\n",
    "b = 1.43E-12\n",
    "a + b"
   ]
  },
  {
   "cell_type": "markdown",
   "metadata": {},
   "source": [
    "Veamos cómo sucede esto analizando las representaciones de números, y la suma, en punto flotante decimal IEEE (no usamos los del ejemplo anterior ya que la suma fue calculada con representación de 64 bits, y por comodidad vamos a usar 32).\n",
    "\n",
    "Haremos $4 + 10^{-7}$. Primero encontraremos su representación binaria IEEE:"
   ]
  },
  {
   "cell_type": "code",
   "execution_count": 13,
   "metadata": {},
   "outputs": [
    {
     "name": "stdout",
     "output_type": "stream",
     "text": [
      "100.\n",
      ".00000000000000000000000110101101\n"
     ]
    }
   ],
   "source": [
    "print(dec2bin(4, 0))\n",
    "print(dec2bin(1.e-7,32))"
   ]
  },
  {
   "cell_type": "markdown",
   "metadata": {},
   "source": [
    "Estos números se representan (con el bit más significativo de normalización explícito):\n",
    "\n",
    "``` \n",
    "   4 = 0 10000001 1000 0000 0000 0000 0000 0000\n",
    "1e-7 = 0 10010111 1101 0110 1000 0000 0000 0000\n",
    "     = 0 10000001 0000 0000 0000 0000 0000 0000 (con el mismo exponente que 4)\n",
    "```\n"
   ]
  },
  {
   "cell_type": "markdown",
   "metadata": {},
   "source": [
    "El desplazamiento hacia un exponente común es necesario para que dos números puedan sumarse. Vemos entonces que todas las cifras significativas se pierden en la representación de $10^{-7}$, por lo que al sumar $4 + 10^{-7}$ obtenemos $4$, aún cuando podemos representar $10^{-7}$ en forma precisa.\n",
    "\n",
    "El número más chico (en magnitud) en representación de punto flotante que, cuando se suma al número $1.0$ en punto flotante, produce un punto flotante diferente de $1.0$ se denomina **precisión de la máquina** $\\epsilon_m$. En precisión simple tiene un valor cercano a $1.19 \\times 10^{-7}$, mientras que para saber cuál es el valor de la máquina que ejecuta este código (usalmente en doble precisión o 64 bits), podemos usar:"
   ]
  },
  {
   "cell_type": "code",
   "execution_count": 14,
   "metadata": {},
   "outputs": [
    {
     "name": "stdout",
     "output_type": "stream",
     "text": [
      "sys.float_info(max=1.7976931348623157e+308, max_exp=1024, max_10_exp=308, min=2.2250738585072014e-308, min_exp=-1021, min_10_exp=-307, dig=15, mant_dig=53, epsilon=2.220446049250313e-16, radix=2, rounds=1)\n"
     ]
    }
   ],
   "source": [
    "import sys\n",
    "print(sys.float_info)"
   ]
  },
  {
   "cell_type": "markdown",
   "metadata": {},
   "source": [
    "Vemos aquí que $\\epsilon_m = 2.220446... \\times 10^{-16}$. En cierto modo, $\\epsilon_m$ es la precisión relativa con la cual se pueden representar números en punto flotante, correspondiente a un cambio de $1$ en el bit menos significativo de la mantisa. Se puede interpretar esto como que cualquier operación aritmética entre números de punto flotante introducen un error fraccional adicional de al meno $\\epsilon_m$. Éste es el **error de redondeo**.\n",
    "\n",
    "Es importante notar que $\\epsilon_m$ no es el número de punto flotante más chico que puede representar la computadora. Ése número depende de cuántos bits hay en el exponente, mientras que $\\epsilon_m$ depende de cuántos bits hay en la mantisa.\n",
    "\n",
    "Al realizar cálculos repetidos, el error de redondeo se acumula. Si en un determinado cómputo realizamos $N$ de tales operaciones aritméticas, un cálculo optimista nos daría un error de redondeo total del orden de $\\sqrt{N} \\epsilon_m$, si los errores de redondeo se distribuyen aleatoriamente hacia arriba y hacia abajo (la raíz cuadrada proviene de un caminante aleatorio). Sin embargo, esta estimación puede empeorar significativamente por dos razones:\n",
    "\n",
    "1. Ocurre frecuentemente que por las regularidades del cálculo, o por las características de la computadora, los errores de redondeo se acumulan preferentemente en una dirección, y en este caso el error total será del orden de $\\sqrt{N} \\epsilon_m$.\n",
    "\n",
    "2. Algunas operaciones pueden incrementar significativamente el error de redondeo en operaciones únicas. Esto puede, generalmente, suceder cuando se realiza la resta de dos números muy cercanos, dando un resultado cuyos únicos bits significativos son unos pocos de orden bajo, en los que los operandos difieren. Podría pensarse que tal substracción casual es poco probable, pero no siempre es así. Algunas expresiones matemáticas magnifican la probabilidad de ocurrencia en forma notable. Por ejemplo, en la solución de una ecuación cuadrática:\n",
    "$$ x = \\frac{-b + \\sqrt{b^2 -4 a c}}{2 a}$$\n",
    "la suma se convierte susceptible de que haya un error de redondeo importante siembre que $b > 0$ y $|ac| \\ll b^2$."
   ]
  },
  {
   "cell_type": "markdown",
   "metadata": {},
   "source": [
    "### Propagación y error de comparación\n",
    "\n",
    "La aritmética de punto flotante no es exacta. Valores como $0.1$ no pueden representarse en forma precisa usando puntos flotantes binarios IEEE, y la precisión limitada de los números de punto flotante significa que pequeños cambios en el orden de las operaciones o en la precisión de los resultados intermedios puede cambiar el resultado. Esto significa que comparar dos `float`s para ver si son iguales (o distintos) no es generalmente lo que buscamos. Por ejemplo:"
   ]
  },
  {
   "cell_type": "code",
   "execution_count": 15,
   "metadata": {},
   "outputs": [
    {
     "name": "stdout",
     "output_type": "stream",
     "text": [
      "0.9999999999999999 1.0\n",
      "False\n"
     ]
    }
   ],
   "source": [
    "f = 0.1\n",
    "suma = 0.0\n",
    "for i in range(10):\n",
    "    suma += f\n",
    "prod = f * 10\n",
    "print(suma, prod)\n",
    "print(suma == prod)"
   ]
  },
  {
   "cell_type": "markdown",
   "metadata": {},
   "source": [
    "Es sencillo ver lo que sucede aquí. Comenzamos con `f` que es una aproximación a $0.1$. Luego sumamos `f` diez veces, con un error de redondeo en cada paso, por lo que hay mucho espacio para que el error se incremente. Por otra parte, `prod` realiza una sola operación sobre `f`, por lo que hay menos oportunidades de incrementar el error de redondeo. Además ocurre que la conversión de $0.1$ a `f` redondea hacia arriba, mientras que la multiplicación por diez redondea hacia abajo, y algunas veces dos redondeos producen un acierto. Por lo tanto en `prod` tenemos la respuesta correcta por las razones equivocadas. O tal vez la respuesta equivocada, ya que no es realmente diez multiplicado por `0.1`.\n",
    "\n",
    "Dado entonces que las representaciones de los puntos flotantes son solo aproximadas, al comparar dos valores es necesario verificar si están **suficientemente** cerca. \n",
    "\n",
    "Una estrategia muy utilizada son las **comparaciones con épsilon**. Por ejemplo:"
   ]
  },
  {
   "cell_type": "code",
   "execution_count": 16,
   "metadata": {},
   "outputs": [
    {
     "data": {
      "text/plain": [
       "True"
      ]
     },
     "execution_count": 16,
     "metadata": {},
     "output_type": "execute_result"
    }
   ],
   "source": [
    "epsilon = 1E-12\n",
    "abs(suma - prod) < epsilon"
   ]
  },
  {
   "cell_type": "markdown",
   "metadata": {},
   "source": [
    "Podríamos estar tentados de usar $\\epsilon_m$, lo cual funcionaría perfectamente para números de magnitud del orden de $1$, pero esto no sería suficiente al comparar números que sean órdenes de magnitud menores.\n",
    "\n",
    "Esto se puede subsanar comparando con un épsilon relativo. Para ello hay que evaluar la diferencia entre dos números, y comparar esta difrencia con sus magnitudes. Con el propósito de obtener resultados consistentes, siempre se debe comparar la diferencia con el mayor de los dos números:"
   ]
  },
  {
   "cell_type": "code",
   "execution_count": 17,
   "metadata": {},
   "outputs": [
    {
     "data": {
      "text/plain": [
       "False"
      ]
     },
     "execution_count": 17,
     "metadata": {},
     "output_type": "execute_result"
    }
   ],
   "source": [
    "def casiIgual(a, b, maxDifRel = 2.22E-16): \n",
    "    A = abs(a)\n",
    "    B = abs(b)\n",
    "    dif = abs(a - b)\n",
    "    mayor = max(A, B)\n",
    "    if dif < mayor * maxDifRel:\n",
    "        return True\n",
    "    else:\n",
    "        return False\n",
    "casiIgual(1.00001E-18, 1.000001E-18)"
   ]
  },
  {
   "cell_type": "markdown",
   "metadata": {},
   "source": [
    "Aún comparando con un épsilon relativo, hay casos donde este criterio falla, y aparecen entonces criterios más sofiticados realizando comparaciones en representación binaria de punto flotante IEEE. Se puede leer más sobre esto [aquí](https://randomascii.wordpress.com/2012/02/25/comparing-floating-point-numbers-2012-edition/). "
   ]
  },
  {
   "cell_type": "markdown",
   "metadata": {},
   "source": [
    "### Consideraciones finales\n",
    "\n",
    "Por lo general los errores de redondeo son muy pequeños cuando se trabaja con doble precisión y operaciones aisladas. Sin embargo hay situaciones donde pueden aparecer problemas con operaciones simples o al acumularse en cálculos repetidos. \n",
    "\n",
    "Hay que tener en cuenta las siguientes consideraciones:\n",
    "\n",
    "1. La multiplicación y la división son operaciones \"seguras\"\n",
    "2. La suma y la resta son peligrosas, ya que cuando los operandos son de órdenes de magnitud diferentes, los dígitos del más pequeño se pierden.\n",
    "3. Esta pérdida de dígitos menos significativos puede ser inocua (cuando los dígitos perdidos también son insignificantes para el resultado final), o catastrófica (cuando el error se acumula y afecta al resultado en forma importante).\n",
    "4. Cuantas más operaciones se realice en un cálculo (especialmente con los métodos iterativos), más atención hay que darle a este problema.\n",
    "5. Un método de cálculo puede ser **estable** (tiende a reducir los errores de redondeo) o **inestable** (los errores de redondeo se amplifican). Suele haber soluciones estables o inestables a un problema.\n",
    "\n",
    "El problema de la estabilidad numérica de los algoritmos se estudia en el área de la matemática denominada **análisis numérico**."
   ]
  },
  {
   "cell_type": "markdown",
   "metadata": {},
   "source": [
    "---\n",
    "## Lecturas sugeridas\n",
    "\n",
    "Este notebook fue preparado a partir de las siguientes fuentes:\n",
    "\n",
    "- [Lo que todo programador debería saber sobre aritmética de punto flotante](http://puntoflotante.org/).\n",
    "- [What Every Computer Scientist Should Know About Floating-Point Arithmetic](https://docs.oracle.com/cd/E19957-01/806-3568/ncg_goldberg.html).\n",
    "- [The Python tutorial: 15 - Floating Point Arithmetic: Issues and Limitations](https://docs.python.org/3/tutorial/floatingpoint.html)."
   ]
  }
 ],
 "metadata": {
  "kernelspec": {
   "display_name": "Python 3 (ipykernel)",
   "language": "python",
   "name": "python3"
  },
  "language_info": {
   "codemirror_mode": {
    "name": "ipython",
    "version": 3
   },
   "file_extension": ".py",
   "mimetype": "text/x-python",
   "name": "python",
   "nbconvert_exporter": "python",
   "pygments_lexer": "ipython3",
   "version": "3.8.16"
  }
 },
 "nbformat": 4,
 "nbformat_minor": 4
}
