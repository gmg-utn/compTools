{
 "cells": [
  {
   "cell_type": "markdown",
   "metadata": {},
   "source": [
    "# Control de flujo\n",
    "\n",
    "Ejecutar este documento en forma dinámica:[![Binder](https://mybinder.org/badge_logo.svg)](https://mybinder.org/v2/gh/gmg-utn/compTools/master?filepath=controlFlujo/controlFlujo.ipynb)"
   ]
  },
  {
   "cell_type": "markdown",
   "metadata": {},
   "source": [
    "Para implementar un algoritmo en un programa, suele ser necesario realizar operaciones que alteran el flujo secuencial de un programa. Estas alteraciones se dividen principalmente en:\n",
    "\n",
    "- Bifurcaciones: según alguna condición, ejecutar un bloque de instrucciones u otro.\n",
    "- Repeticiones: ejecutar repetidamente un bloque de código hasta que se verifique una condición.\n",
    "\n",
    "En este notebook exploraremos bifurcaciones y repeticiones con `if`/`elif`/`else` y `for`/`while`, así como la evaluación de condiciones."
   ]
  },
  {
   "cell_type": "markdown",
   "metadata": {},
   "source": [
    "## `if`/`elif`/`else`\n",
    "\n",
    "En un script de Python, la instrucción `if` es la forma de decidir la ejecución **condicional** de una instrucción o bloque de código, basado en la evaluación de una expresión. En su forma más simple, la sintaxis es:\n",
    "\n",
    "```python\n",
    "if <expresión>:\n",
    "    <instrucción>\n",
    "```\n",
    "\n",
    "Aquí, `<expresión>` es una expresión que debe ser evaluada en un contexto booleano, tal como se mostró en [Variables y tipos de datos](https://nbviewer.jupyter.org/github/manuxch/intro2prog/blob/master/variables_tipos/variablesTipos.ipynb#Evaluaci%C3%B3n-de-verdadero-o-falso). `<instrucción>` debe ser una instrucción válida de Python, que debe estar **indentada** (anglicismo que proviene de la palabra inglesa *indentation*, y que en español se utiliza como **sangrado** y que significa mover un bloque de texto hacia la derecha insertando espacios o tabuladores).\n",
    "\n",
    "Si `<expresión>` es evaluada como verdadera (`True`), se ejecuta `<instrucción>`, mientras que si es falsa (`False`), `<instrucción>` no se ejecuta. Notar que es obligatorio utilizar `:` luego de `<expresión>`. Veamos algunos ejemplos."
   ]
  },
  {
   "cell_type": "code",
   "execution_count": 1,
   "metadata": {},
   "outputs": [],
   "source": [
    "x = 0\n",
    "y = 4"
   ]
  },
  {
   "cell_type": "code",
   "execution_count": 2,
   "metadata": {},
   "outputs": [
    {
     "name": "stdout",
     "output_type": "stream",
     "text": [
      "Si\n"
     ]
    }
   ],
   "source": [
    "if x < y:\n",
    "    print('Si')"
   ]
  },
  {
   "cell_type": "code",
   "execution_count": 3,
   "metadata": {},
   "outputs": [],
   "source": [
    "if y < x:\n",
    "    print('No')"
   ]
  },
  {
   "cell_type": "code",
   "execution_count": 4,
   "metadata": {},
   "outputs": [],
   "source": [
    "if x:\n",
    "    print('x')"
   ]
  },
  {
   "cell_type": "code",
   "execution_count": 5,
   "metadata": {},
   "outputs": [
    {
     "name": "stdout",
     "output_type": "stream",
     "text": [
      "y\n"
     ]
    }
   ],
   "source": [
    "if y:\n",
    "    print('y')"
   ]
  },
  {
   "cell_type": "code",
   "execution_count": 6,
   "metadata": {},
   "outputs": [
    {
     "name": "stdout",
     "output_type": "stream",
     "text": [
      "alguno\n"
     ]
    }
   ],
   "source": [
    "if x or y:\n",
    "    print('alguno')"
   ]
  },
  {
   "cell_type": "code",
   "execution_count": 7,
   "metadata": {},
   "outputs": [],
   "source": [
    "if x and y:\n",
    "    print('ninguno')"
   ]
  },
  {
   "cell_type": "code",
   "execution_count": 8,
   "metadata": {},
   "outputs": [
    {
     "name": "stdout",
     "output_type": "stream",
     "text": [
      "color\n"
     ]
    }
   ],
   "source": [
    "if 'azul' in ['rojo', 'verde', 'azul']:\n",
    "    print('color')"
   ]
  },
  {
   "cell_type": "code",
   "execution_count": 10,
   "metadata": {},
   "outputs": [],
   "source": [
    "if 'blanco' in ['rojo', 'verde', 'azul']:\n",
    "    print('nada')"
   ]
  },
  {
   "cell_type": "markdown",
   "metadata": {},
   "source": [
    "En estos ejemplos solo utilizamos una única instrucción a ejecutar si la condición evalúa a `True`. Es posible ejecutar condicionalmente un conjunto de intrucciones, o bloque de código, manteniendo cada instrucción perteneciente al bloque con la misma indentación. Es decir, la indentación **define** un bloque de código.\n",
    "\n",
    "En el caso de una instrucción `if` con múltiples instrucciones, la sintaxis es:\n",
    "\n",
    "```python\n",
    "if <expresión>:\n",
    "    <instrucción-1>\n",
    "    <instrucción-2>\n",
    "    ...\n",
    "    <instrucción-n>\n",
    "<instrucción_siguiente>\n",
    "```\n",
    "\n",
    "Aquí, todas las instrucciones desde la 1 a la n pertenecen al mismo bloque de código, y son ejecutadas secuencialmente si `<expresión>` evalúa a `True`. Al finalizar la ejecución del bloque, el programa sigue su flujo ejecutando `<instrucción_siguiente>`, que ya no pertenece al bloque al no estar al mismo nivel de indentación. En caso que `<expresión>` evalúe a `False`, el bloque no se ejecuta y el programa pasa directamente a la ejecución de `<intrucción_siguiente>`. Por ejemplo:"
   ]
  },
  {
   "cell_type": "code",
   "execution_count": 15,
   "metadata": {},
   "outputs": [
    {
     "name": "stdout",
     "output_type": "stream",
     "text": [
      "0 5\n",
      "5\n"
     ]
    }
   ],
   "source": [
    "print(x,y)\n",
    "if x:  # Cambiar x por y luego de la primera ejecución\n",
    "    y = y + 1\n",
    "    print(x,y)\n",
    "print(x + y)"
   ]
  },
  {
   "cell_type": "markdown",
   "metadata": {},
   "source": [
    "En algunas situaciones, lo que se necesita es evaluar una condición y ejecutar un bloque de código si la condición es `True`, y **otro** bloque de código si la condición es `False`. Esto se logra con la cláusula `else`:\n",
    "\n",
    "```python\n",
    "if <expresión>:\n",
    "    <bloque_1>\n",
    "else:\n",
    "    <bloque_2>\n",
    "```\n",
    "\n",
    "Si `<expresión>` es `True`, el primer bloque `<bloque_1>` se ejecuta y no el segundo, y si `<expresión>` es `False`, entonces `<bloque_1>` no se ejecuta y se ejecuta `<bloque_2>`. Por supuesto, ambos bloques de código quedan definidos por su indentación. Veamos un ejemplo:"
   ]
  },
  {
   "cell_type": "code",
   "execution_count": 18,
   "metadata": {},
   "outputs": [
    {
     "name": "stdout",
     "output_type": "stream",
     "text": [
      "x es mayor o igual a 20\n",
      "x es grande\n"
     ]
    }
   ],
   "source": [
    "x = 30\n",
    "if x < 20:\n",
    "    print('x es menor que 20')\n",
    "    print('x es pequeño')\n",
    "else:\n",
    "    print('x es mayor o igual a 20')\n",
    "    print('x es grande')"
   ]
  },
  {
   "cell_type": "markdown",
   "metadata": {},
   "source": [
    "Python ofrece una sintaxis para una ejecución ramificada basada en varias alternativas, utilizando la cláusula `elif` (una forma abreviada de `else if`). Python evalúa cada `<expresión>` y ejecuta el bloque de código correspondiente a la primera expresión que resulta `True`. Si ninguna de las expresiones es verdadera, y se especifica una cláusula `else`, entonces se ejecuta el bloque correspondiente (la cláusula `else` es opcional, solo puede haber una y ubicada al final):"
   ]
  },
  {
   "cell_type": "code",
   "execution_count": 27,
   "metadata": {},
   "outputs": [
    {
     "name": "stdout",
     "output_type": "stream",
     "text": [
      "1\n"
     ]
    }
   ],
   "source": [
    "a = 1\n",
    "if a == 1:\n",
    "    print(1)\n",
    "elif a == 2:\n",
    "    print(2)\n",
    "elif a == 3:\n",
    "    print(3)\n",
    "else:\n",
    "    print('a > 3')"
   ]
  },
  {
   "cell_type": "markdown",
   "metadata": {},
   "source": [
    "## Expresiones condicionales\n",
    "\n",
    "Python permite una estructura denominada **expresión condicional** (referida también como operador condicional u operador ternario), cuya forma más simple tiene la siguiente sintaxis:\n",
    "\n",
    "```python\n",
    "<expresión_1> if <expresión_condicional> else <expresión_2>\n",
    "```\n",
    "\n",
    "Este `if` es diferente al anterior dado que no resulta en un estructura de control que dirige el flujo de la ejecución de un programa, sino que actúa más como un operador que define una expresión. En el ejemplo anterior, primero se evalúa `<expresión_condicional>`. Si es `True`, la expresión evalúa a `<expresión_1>`, y si es `False` a `<expresión_2>`. Hay que tener en cuenta que el orden no es obvio: primero se evalúa la expresión del medio, y según el resultado se devuelve una de las expresiones de los extremos:"
   ]
  },
  {
   "cell_type": "code",
   "execution_count": 31,
   "metadata": {},
   "outputs": [
    {
     "name": "stdout",
     "output_type": "stream",
     "text": [
      "Vamos a el bar\n"
     ]
    }
   ],
   "source": [
    "llueve = True\n",
    "print('Vamos a', 'la playa' if not llueve else 'el bar')"
   ]
  },
  {
   "cell_type": "markdown",
   "metadata": {},
   "source": [
    "Las expresiones condicionales pueden reemplazarse por un `if`/`else`:"
   ]
  },
  {
   "cell_type": "code",
   "execution_count": 32,
   "metadata": {},
   "outputs": [
    {
     "name": "stdout",
     "output_type": "stream",
     "text": [
      "7\n"
     ]
    }
   ],
   "source": [
    "a, b = 3, 7\n",
    "if a > b:\n",
    "    m = a\n",
    "else:\n",
    "    m = b\n",
    "print(m)"
   ]
  },
  {
   "cell_type": "markdown",
   "metadata": {},
   "source": [
    "Pero una expresión condicional es más corta y más **expresiva**:"
   ]
  },
  {
   "cell_type": "code",
   "execution_count": 34,
   "metadata": {},
   "outputs": [
    {
     "name": "stdout",
     "output_type": "stream",
     "text": [
      "7\n"
     ]
    }
   ],
   "source": [
    "a, b = 7, 3\n",
    "m = a if a > b else b\n",
    "print(m)"
   ]
  },
  {
   "cell_type": "markdown",
   "metadata": {},
   "source": [
    "## Iteraciones con `for`\n",
    "\n",
    "**Iterar** significa ejecutar el mismo bloque de código reiteradamente, potencialmente muchas veces. Una estructura de programación que implementa iteraciones se denomina **bucle** (o *loop*).\n",
    "\n",
    "En programación existen dos tipos de iteración: la definida o la indefinda.\n",
    "\n",
    "La **iteración definida** consiste en la ejecución de un bloque de código un número establecido de veces, explícitamente definido cuando el se inicia el bucle.\n",
    "\n",
    "En una **iteración indefinida**, el número de veces que se ejecutará el bloque no está explícitamente definido de antemano, sino que el bloque se ejecuta repetidamente hasta que alguna condición se satisfaga (o eventualmente la repetición puede no finalizar nunca).\n",
    "\n",
    "En Python, la sentencia `for` itera sobre los elementos de cualquier secuencia (una lista, tupla o string), en el mismo orden en que aparecen en la secuencia. Por ejemplo:"
   ]
  },
  {
   "cell_type": "code",
   "execution_count": 39,
   "metadata": {},
   "outputs": [
    {
     "name": "stdout",
     "output_type": "stream",
     "text": [
      "destornillador 14\n",
      "pinza 5\n",
      "martillo 8\n"
     ]
    }
   ],
   "source": [
    "herramientas = ['destornillador', 'pinza', 'martillo']\n",
    "for h in herramientas:\n",
    "    print(h, len(h))"
   ]
  },
  {
   "cell_type": "markdown",
   "metadata": {},
   "source": [
    "Si en el bucle es necesario modificar la secuencia sobre la que se itera (por ejemplo, eliminar un elemento), es recomendable hacer primero una copia. Iterar sobre una secuencia no hace una copia, pero utilizando la notación de rebanado sí:"
   ]
  },
  {
   "cell_type": "code",
   "execution_count": 40,
   "metadata": {},
   "outputs": [
    {
     "data": {
      "text/plain": [
       "['martillo', 'destornillador', 'destornillador', 'pinza', 'martillo']"
      ]
     },
     "execution_count": 40,
     "metadata": {},
     "output_type": "execute_result"
    }
   ],
   "source": [
    "for h in herramientas[:]:\n",
    "    if len(h) > 7:\n",
    "        herramientas.insert(0, h)\n",
    "herramientas"
   ]
  },
  {
   "cell_type": "markdown",
   "metadata": {},
   "source": [
    "Al hacer esto sin copiar primero la lista, por ejemplo \n",
    "```python\n",
    "for h in herramientas:\n",
    "    ...\n",
    "```\n",
    "el programa intentaría crear una lista infinita, insertando `martillo` una y otra vez:"
   ]
  },
  {
   "cell_type": "code",
   "execution_count": 41,
   "metadata": {},
   "outputs": [
    {
     "ename": "KeyboardInterrupt",
     "evalue": "",
     "output_type": "error",
     "traceback": [
      "\u001b[0;31m---------------------------------------------------------------------------\u001b[0m",
      "\u001b[0;31mKeyboardInterrupt\u001b[0m                         Traceback (most recent call last)",
      "\u001b[0;32m<ipython-input-41-7dc34c08c0c3>\u001b[0m in \u001b[0;36m<module>\u001b[0;34m\u001b[0m\n\u001b[1;32m      1\u001b[0m \u001b[0;32mfor\u001b[0m \u001b[0mh\u001b[0m \u001b[0;32min\u001b[0m \u001b[0mherramientas\u001b[0m\u001b[0;34m:\u001b[0m\u001b[0;34m\u001b[0m\u001b[0;34m\u001b[0m\u001b[0m\n\u001b[1;32m      2\u001b[0m     \u001b[0;32mif\u001b[0m \u001b[0mlen\u001b[0m\u001b[0;34m(\u001b[0m\u001b[0mh\u001b[0m\u001b[0;34m)\u001b[0m \u001b[0;34m>\u001b[0m \u001b[0;36m7\u001b[0m\u001b[0;34m:\u001b[0m\u001b[0;34m\u001b[0m\u001b[0;34m\u001b[0m\u001b[0m\n\u001b[0;32m----> 3\u001b[0;31m         \u001b[0mherramientas\u001b[0m\u001b[0;34m.\u001b[0m\u001b[0minsert\u001b[0m\u001b[0;34m(\u001b[0m\u001b[0;36m0\u001b[0m\u001b[0;34m,\u001b[0m \u001b[0mh\u001b[0m\u001b[0;34m)\u001b[0m\u001b[0;34m\u001b[0m\u001b[0;34m\u001b[0m\u001b[0m\n\u001b[0m\u001b[1;32m      4\u001b[0m \u001b[0mherramientas\u001b[0m\u001b[0;34m\u001b[0m\u001b[0;34m\u001b[0m\u001b[0m\n",
      "\u001b[0;31mKeyboardInterrupt\u001b[0m: "
     ]
    }
   ],
   "source": [
    "for h in herramientas:\n",
    "    if len(h) > 7:\n",
    "        herramientas.insert(0, h)\n",
    "herramientas"
   ]
  },
  {
   "cell_type": "markdown",
   "metadata": {},
   "source": [
    "Los bucles pueden **anidarse** de modo de producir iteraciones dentro de iteraciones:"
   ]
  },
  {
   "cell_type": "code",
   "execution_count": 45,
   "metadata": {},
   "outputs": [
    {
     "name": "stdout",
     "output_type": "stream",
     "text": [
      "destornillador\n",
      "d-e-s-t-o-r-n-i-l-l-a-d-o-r-\n",
      "pinza\n",
      "p-i-n-z-a-\n",
      "martillo\n",
      "m-a-r-t-i-l-l-o-\n"
     ]
    }
   ],
   "source": [
    "herramientas = ['destornillador', 'pinza', 'martillo']\n",
    "for h in herramientas:\n",
    "    print(h)\n",
    "    palabra = ''\n",
    "    for l in h:\n",
    "        palabra += l + '-'\n",
    "    print(palabra)"
   ]
  },
  {
   "cell_type": "markdown",
   "metadata": {},
   "source": [
    "Para iterar sobre una secuencia de números, Python provee la función `range()`, que genera progresiones aritméticas:"
   ]
  },
  {
   "cell_type": "code",
   "execution_count": 46,
   "metadata": {},
   "outputs": [
    {
     "name": "stdout",
     "output_type": "stream",
     "text": [
      "0\n",
      "1\n",
      "2\n",
      "3\n",
      "4\n"
     ]
    }
   ],
   "source": [
    "for i in range(5):\n",
    "    print(i)"
   ]
  },
  {
   "cell_type": "markdown",
   "metadata": {},
   "source": [
    "help(range)"
   ]
  },
  {
   "cell_type": "markdown",
   "metadata": {},
   "source": [
    "La sintaxis de esta función es `range(inicio, fin, paso)`, donde `inicio`, `fin` y `paso` son enteros (`inicio` y `paso` son opcionales, con valores por defecto 0 y 1 respectivamente). El valor de `fin` nunca es parte de la secuencia. Ejemplos:"
   ]
  },
  {
   "cell_type": "code",
   "execution_count": 50,
   "metadata": {},
   "outputs": [
    {
     "name": "stdout",
     "output_type": "stream",
     "text": [
      "3\n",
      "5\n",
      "7\n",
      "9\n"
     ]
    }
   ],
   "source": [
    "for i in range(3, 10, 2):\n",
    "    print(i)"
   ]
  },
  {
   "cell_type": "markdown",
   "metadata": {},
   "source": [
    "Es posible iterar sobre los índices de una secuencia, combinando `range` y `len`:"
   ]
  },
  {
   "cell_type": "code",
   "execution_count": 52,
   "metadata": {},
   "outputs": [
    {
     "name": "stdout",
     "output_type": "stream",
     "text": [
      "0 destornillador\n",
      "1 pinza\n",
      "2 martillo\n"
     ]
    }
   ],
   "source": [
    "for i in range(len(herramientas)):\n",
    "    print (i, herramientas[i])"
   ]
  },
  {
   "cell_type": "markdown",
   "metadata": {},
   "source": [
    "sin emabrgo, en muchos casos es mejor utilizar `enumerate()`, que devuelve el índice de la posición del elemento de la lista junto con su valor:"
   ]
  },
  {
   "cell_type": "code",
   "execution_count": 53,
   "metadata": {},
   "outputs": [
    {
     "name": "stdout",
     "output_type": "stream",
     "text": [
      "0 destornillador\n",
      "1 pinza\n",
      "2 martillo\n"
     ]
    }
   ],
   "source": [
    "for i, h in enumerate(herramientas):\n",
    "    print(i,h)"
   ]
  },
  {
   "cell_type": "markdown",
   "metadata": {},
   "source": [
    "Es posible iterar sobre dos secuencias al mismo tiempo, emparejando sus valores con la función `zip`:"
   ]
  },
  {
   "cell_type": "code",
   "execution_count": 60,
   "metadata": {},
   "outputs": [
    {
     "name": "stdout",
     "output_type": "stream",
     "text": [
      "¿Cuál es tu nombre? - Nicasio\n",
      "¿Cuál es tu interno? - 221\n",
      "¿Cuál es tu función? - ingeniero\n"
     ]
    }
   ],
   "source": [
    "preguntas = ['nombre', 'interno', 'función']\n",
    "respuestas = ['Nicasio', 221, 'ingeniero']\n",
    "for p, r in zip(preguntas, respuestas):\n",
    "    print('¿Cuál es tu {0}? - {1}'.format(p,r))"
   ]
  },
  {
   "cell_type": "markdown",
   "metadata": {},
   "source": [
    "En el caso de iteración sobre diccionarios, el método`items()` devuelve la clave y su valor correspondiente:"
   ]
  },
  {
   "cell_type": "code",
   "execution_count": 58,
   "metadata": {},
   "outputs": [
    {
     "name": "stdout",
     "output_type": "stream",
     "text": [
      "Tenemos 2000 de clavos\n",
      "Tenemos 1200 de tuercas\n",
      "Tenemos 45 de tornillos\n"
     ]
    }
   ],
   "source": [
    "stock = {'clavos': 2000, 'tuercas': 1200, 'tornillos': 45}\n",
    "for k, v in stock.items():\n",
    "    print('Tenemos {1} de {0}'.format(k, v))"
   ]
  },
  {
   "cell_type": "markdown",
   "metadata": {},
   "source": [
    "## Iteraciones con `while`\n",
    "\n",
    "En Python pueden generarse iteraciones indefinidas por medio de la instrucción `while`. La sintaxis es:\n",
    "\n",
    "```python\n",
    "while <expresión>:\n",
    "    <bloque de código>\n",
    "```\n",
    "\n",
    "Cuando aparece un bucle `while`, se evalúa `<expresión>` en un contexto booleano. Generalmente esta expresión involucra una o más variables incializadas previamente y que luego son modificadas en alguna instrucciones del bloque de código a iterar (generalmente denominado **cuerpo** del bucle). Si la evaluación resulta `True`, el cuerpo es ejecutado, y luego `<expresión>` es evaluada nuevamente. Este proceso continua mientras la expresión evaluada sea verdadera. Cuando devuelve `False`, el programa continua con la primera instrucción que sigue al cuerpo del bucle.\n",
    "\n",
    "Ejemplo:"
   ]
  },
  {
   "cell_type": "code",
   "execution_count": 61,
   "metadata": {},
   "outputs": [
    {
     "name": "stdout",
     "output_type": "stream",
     "text": [
      "5\n",
      "4\n",
      "3\n",
      "2\n",
      "1\n"
     ]
    }
   ],
   "source": [
    "n = 5\n",
    "while n > 0:\n",
    "    print(n)\n",
    "    n -= 1"
   ]
  },
  {
   "cell_type": "markdown",
   "metadata": {},
   "source": [
    "Notar que la expresión que controla el bucle es lo primero que se evalúa, y si inicialmente es falsa no se ejecuta el cuerpo del bucle (ejecutar el código anterior con un valor de `n` que haga falsa la evaluación)."
   ]
  },
  {
   "cell_type": "markdown",
   "metadata": {},
   "source": [
    "La condición que regula un `while` funciona con todo lo que devuelva un `True` o `False`, por ejemplo se puede usar una lista como en el siguiente ejemplo:"
   ]
  },
  {
   "cell_type": "code",
   "execution_count": 62,
   "metadata": {},
   "outputs": [
    {
     "name": "stdout",
     "output_type": "stream",
     "text": [
      "Tres\n",
      "Dos\n",
      "Uno\n"
     ]
    }
   ],
   "source": [
    "a = ['Uno', 'Dos', 'Tres']\n",
    "while a:\n",
    "    print(a.pop(-1))"
   ]
  },
  {
   "cell_type": "markdown",
   "metadata": {},
   "source": [
    "Python permite utilizar la cláusula opcional `else` al final de un bucle `while`. La sintaxis es la siguiente:\n",
    "\n",
    "```python\n",
    "while <expresión>:\n",
    "    <bloque_de_código>\n",
    "else:\n",
    "    <instrucciones_adicionales>\n",
    "```\n",
    "\n",
    "Las `<instrucciones_adicionales>` se ejecutan cuando finaliza el bucle, siempre que la salida del bucle sea porque la expresión que lo controla evalúa a `False`. (Veremos un poco más abajo que es posible \"escapar\" del bucle con una instrucción `break`, y en ese caso no se ejecutan las `<instrucciones_adicionales>`). Por ejemplo:"
   ]
  },
  {
   "cell_type": "code",
   "execution_count": 64,
   "metadata": {},
   "outputs": [
    {
     "name": "stdout",
     "output_type": "stream",
     "text": [
      "5\n",
      "4\n",
      "3\n",
      "2\n",
      "1\n",
      "Bucle finalizado\n"
     ]
    }
   ],
   "source": [
    "a = 5\n",
    "while a > 0:\n",
    "    print(a)\n",
    "    a -= 1\n",
    "else:\n",
    "    print('Bucle finalizado')"
   ]
  },
  {
   "cell_type": "markdown",
   "metadata": {},
   "source": [
    "## Interrupciones de iteraciones\n",
    "\n",
    "En los ejemplos que vimos hasta ahora, las iteraciones se repiten mientras la condición que evalúa el bucle sea verdadera (o mientras haya elementos para iterar en el caso de `for`). Python provee dos *keywords* que permite terminar una iteración prematuramente:\n",
    "\n",
    "- `break` inmediatamente finaliza el bucle, y el programa continua con la instrucción siguiente a la del cuerpo del loop.\n",
    "- `continue` finaliza inmediatamente la iteración en curso, y vuelve a evaluar la condición de finalización.\n",
    "\n",
    "Veamos algunos ejemplos:"
   ]
  },
  {
   "cell_type": "code",
   "execution_count": 65,
   "metadata": {},
   "outputs": [
    {
     "name": "stdout",
     "output_type": "stream",
     "text": [
      "4\n",
      "3\n",
      "Bucle finalizado\n"
     ]
    }
   ],
   "source": [
    "n = 5\n",
    "while n > 0:\n",
    "    n -= 1\n",
    "    if n == 2:\n",
    "        break\n",
    "    print(n)\n",
    "print('Bucle finalizado')"
   ]
  },
  {
   "cell_type": "code",
   "execution_count": 66,
   "metadata": {},
   "outputs": [
    {
     "name": "stdout",
     "output_type": "stream",
     "text": [
      "4\n",
      "3\n",
      "1\n",
      "0\n",
      "Bucle finalizado\n"
     ]
    }
   ],
   "source": [
    "n = 5\n",
    "while n > 0:\n",
    "    n -= 1\n",
    "    if n == 2:\n",
    "        continue\n",
    "    print(n)\n",
    "print('Bucle finalizado')"
   ]
  },
  {
   "cell_type": "markdown",
   "metadata": {},
   "source": [
    "Combinando los ejemplos anteriores, podemos ver en qué casos un `else` de un bucle con `while` no se ejecuta:"
   ]
  },
  {
   "cell_type": "code",
   "execution_count": 67,
   "metadata": {},
   "outputs": [
    {
     "name": "stdout",
     "output_type": "stream",
     "text": [
      "4\n",
      "3\n",
      "2\n"
     ]
    }
   ],
   "source": [
    "n = 5\n",
    "while n > 0:\n",
    "    n -= 1\n",
    "    print(n)\n",
    "    if n == 2:\n",
    "        break\n",
    "else:\n",
    "     print('Bucle finalizado')"
   ]
  },
  {
   "cell_type": "code",
   "execution_count": 69,
   "metadata": {},
   "outputs": [
    {
     "name": "stdout",
     "output_type": "stream",
     "text": [
      "destornillador\n",
      "pinza\n",
      "Tenemos pinza!\n"
     ]
    }
   ],
   "source": [
    "herramientas = ['destornillador', 'pinza', 'martillo']\n",
    "for h in herramientas:\n",
    "    print(h)\n",
    "    if h == 'pinza':\n",
    "        print('Tenemos pinza!')\n",
    "        break"
   ]
  },
  {
   "cell_type": "markdown",
   "metadata": {},
   "source": [
    "`break` permite también escapar de **bucles infinitos**. Tales bucles se producen cuando la condición de evaluación siempre es verdadera:\n",
    "\n",
    "```python\n",
    "while True:\n",
    "    print('nada')\n",
    "```\n",
    "\n",
    "Este código se ejecutará para siempre imprimiendo `nada` en la pantalla. En este contexto, \"para siempre\" significa hasta que lo cortemos con `Ctrl C` o se termine el suministro eléctrico. Pareciera poco práctico generar un bucle infinito, pero puede ser útil cuando queremos que algo se ejecute mientras controlamos la finalización con un `break`. Por ejemplo:"
   ]
  },
  {
   "cell_type": "code",
   "execution_count": 70,
   "metadata": {},
   "outputs": [
    {
     "name": "stdout",
     "output_type": "stream",
     "text": [
      "cuatro\n",
      "tres\n",
      "dos\n",
      "uno\n"
     ]
    }
   ],
   "source": [
    "a = ['uno', 'dos', 'tres', 'cuatro']\n",
    "while True:\n",
    "    if not a:\n",
    "        break\n",
    "    print(a.pop())"
   ]
  },
  {
   "cell_type": "markdown",
   "metadata": {},
   "source": [
    "## Comprensiones de listas\n",
    "\n",
    "Una manera muy práctica de iterar al tiempo en que se genera una lista es lo que se denomina **comprensión de listas**:"
   ]
  },
  {
   "cell_type": "code",
   "execution_count": 71,
   "metadata": {},
   "outputs": [
    {
     "data": {
      "text/plain": [
       "[0, 1, 4, 9]"
      ]
     },
     "execution_count": 71,
     "metadata": {},
     "output_type": "execute_result"
    }
   ],
   "source": [
    "[i**2 for i in range(4)]"
   ]
  },
  {
   "cell_type": "code",
   "execution_count": null,
   "metadata": {},
   "outputs": [],
   "source": []
  }
 ],
 "metadata": {
  "kernelspec": {
   "display_name": "Python 3",
   "language": "python",
   "name": "python3"
  },
  "language_info": {
   "codemirror_mode": {
    "name": "ipython",
    "version": 3
   },
   "file_extension": ".py",
   "mimetype": "text/x-python",
   "name": "python",
   "nbconvert_exporter": "python",
   "pygments_lexer": "ipython3",
   "version": "3.7.5rc1"
  }
 },
 "nbformat": 4,
 "nbformat_minor": 2
}
