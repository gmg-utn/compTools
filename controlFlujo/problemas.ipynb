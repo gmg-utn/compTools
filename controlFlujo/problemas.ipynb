{
 "cells": [
  {
   "cell_type": "markdown",
   "metadata": {},
   "source": [
    "# Problemas\n",
    "\n",
    "Ejecutar este documento en forma dinámica: [![Open In Colab](https://colab.research.google.com/assets/colab-badge.svg)](https://colab.research.google.com/github/gmg-utn/compTools/blob/master/controlFlujo/problemas.ipynb)"
   ]
  },
  {
   "cell_type": "markdown",
   "metadata": {},
   "source": [
    "Para realizar algunos ejercicios realizaremos entradas desde el teclado, indicando al usuario lo que se pide ingresar. Para ello haremos uso de la instrucción `input`, a la que se le pasa una string como argumento y espera a que se ingrese una string desde el teclado (finalizando con la tecla Enter). Por ejemplo:"
   ]
  },
  {
   "cell_type": "code",
   "execution_count": null,
   "metadata": {
    "tags": []
   },
   "outputs": [],
   "source": [
    "nombre = input('¿Cuál es tu nombre? ')\n",
    "print('¡Hola {:s}!'.format(nombre))"
   ]
  },
  {
   "cell_type": "markdown",
   "metadata": {},
   "source": [
    "## Problema 1\n",
    "\n",
    "Reemplazar `___` en el código siguiente para evaluar la entrada desde el teclado."
   ]
  },
  {
   "cell_type": "code",
   "execution_count": null,
   "metadata": {
    "tags": []
   },
   "outputs": [],
   "source": [
    "days = int(input(\"¿Cuántos días hay en un año bisiesto? \"))\n",
    "if ___ == 366:\n",
    "    print(\"Aprobaste el examen.\")\n",
    "print(\"¡Felicitaciones!\")"
   ]
  },
  {
   "cell_type": "markdown",
   "metadata": {},
   "source": [
    "## Problema 2\n",
    "\n",
    "Reemplazar `___` en el código siguiente para evaluar la entrada desde el teclado."
   ]
  },
  {
   "cell_type": "code",
   "execution_count": null,
   "metadata": {},
   "outputs": [],
   "source": [
    "respuesta = input('¿Python es un lenguaje interpretado? Si o No >> ').lower()\n",
    "\n",
    "if respuesta ___ 'si':\n",
    "    print('Respuesta correcta.')\n",
    "___ :\n",
    "    print('Respuesta incorrecta.')\n",
    "print('Gracias.') "
   ]
  },
  {
   "cell_type": "markdown",
   "metadata": {},
   "source": [
    "## Problema 3\n",
    "\n",
    "Reemplazar `___` en el código siguiente de modo que lo que imprime tenga sentido. En este ejemplo usaremos la instrucción `assert` para determinar si la respuesta es correcta o se produjo un error."
   ]
  },
  {
   "cell_type": "code",
   "execution_count": null,
   "metadata": {},
   "outputs": [],
   "source": [
    "nombre = 'Juan Pablo'\n",
    "\n",
    "if ____:\n",
    "    print('El nombre \"{}\" tiene más de 20 caracteres'.format(nombre))\n",
    "    descripcion = 'largo'\n",
    "elif ____:\n",
    "    print('El nombre  \"{}\" tiene más de 15 caracteres'.format(nombre))\n",
    "    descripcion = 'medio largo'\n",
    "elif ____:\n",
    "    print('El nombre  \"{}\" tiene más de 10 caracteres'.format(nombre))\n",
    "    descripcion = 'medio largo'\n",
    "elif ____:\n",
    "    print('El nombre  \"{}\" tiene 8, 9 o 10 caracteres'.format(nombre))\n",
    "    descripcion = 'medio corto'\n",
    "else:\n",
    "    print('El nombre  \"{}\" es un nombre corto'.format(nombre))\n",
    "    descripcion = 'corto'\n",
    "\n",
    "assert descripcion == 'medio corto'"
   ]
  },
  {
   "cell_type": "markdown",
   "metadata": {},
   "source": [
    "## Problema 4\n",
    "\n",
    "Escribir un programa para convertir temperaturas de celsius a fahrenheit y viceversa. La conversión es:\n",
    "\n",
    "$$ \\frac{c}{5} = \\frac{f - 32}{9} $$\n",
    "\n",
    "donde $c$ es la temperatura en celsius y $f$ en fahrenheit. La salida esperada es:\n",
    "```\n",
    "60 C es 140 F\n",
    "45 F es 7 C\n",
    "```"
   ]
  },
  {
   "cell_type": "code",
   "execution_count": null,
   "metadata": {},
   "outputs": [],
   "source": [
    "# Tu código:\n"
   ]
  },
  {
   "cell_type": "markdown",
   "metadata": {},
   "source": [
    "## Problema 5\n",
    "\n",
    "Reemplazar `___` en el código siguiente para obtener una lista con las palabras en mayúsculas."
   ]
  },
  {
   "cell_type": "code",
   "execution_count": null,
   "metadata": {},
   "outputs": [],
   "source": [
    "palabras = ['PYHTON', 'JUAN', 'quESo', 'pAn', 'PABLO', '123']\n",
    "palabras_mayusculas = []\n",
    "for ___ in palabras:\n",
    "    if ___.isupper():\n",
    "        palabras_mayusculas.append(___)\n",
    "\n",
    "assert palabras_mayusculas = ['PYHTON', 'JUAN', 'PABLO']"
   ]
  },
  {
   "cell_type": "markdown",
   "metadata": {},
   "source": [
    "## Problema 6\n",
    "\n",
    "Calcular la suma de valores en `mi_dict`."
   ]
  },
  {
   "cell_type": "code",
   "execution_count": null,
   "metadata": {},
   "outputs": [],
   "source": [
    "mi_dict = dict(val1=44, val2=55, val3=1, val4=1)\n",
    "\n",
    "# Tu código:\n",
    "suma_valores = \n",
    "\n",
    "assert suma_valores == 101"
   ]
  },
  {
   "cell_type": "markdown",
   "metadata": {},
   "source": [
    "## Problema 7\n",
    "\n",
    "Crear una lista de strings basada en una lista de números con la siguientes reglas:\n",
    "\n",
    "- Si el número es múltiplo de 5 e impar, la string debe ser 'cinco impar'\n",
    "- Si el número es un múltiplo de 5 y par, la string debe ser 'cinco par'\n",
    "- Si el número es impar, la string es 'impar'\n",
    "- Si el número es par, la string es 'par'"
   ]
  },
  {
   "cell_type": "code",
   "execution_count": null,
   "metadata": {},
   "outputs": [],
   "source": [
    "numeros = [1, 3, 4, 6, 81, 80, 100, 95]\n",
    "\n",
    "# Tu código:\n",
    "mi_lista = \n",
    "\n",
    "assert mi_lista == ['impar', 'impar', 'par', 'par', 'impar', 'cinco par', 'cinco par', 'cinco impar']"
   ]
  },
  {
   "cell_type": "markdown",
   "metadata": {},
   "source": [
    "## Problema 8\n",
    "\n",
    "Escribir un código que genere la salida siguiente, utilizando `for` anidados:\n",
    "```\n",
    "* \n",
    "* * \n",
    "* * * \n",
    "* * * * \n",
    "* * * * * \n",
    "* * * * \n",
    "* * * \n",
    "* * \n",
    "*\n",
    "```"
   ]
  },
  {
   "cell_type": "code",
   "execution_count": null,
   "metadata": {},
   "outputs": [],
   "source": [
    "# Tu código:\n"
   ]
  },
  {
   "cell_type": "markdown",
   "metadata": {},
   "source": [
    "## Problema 9\n",
    "\n",
    "Escribir un código que imprima todos los números entre 0 y 10, excepto el 3 y el 7. Usar la instrucción `continue`."
   ]
  },
  {
   "cell_type": "code",
   "execution_count": null,
   "metadata": {},
   "outputs": [],
   "source": [
    "# Tu código:\n"
   ]
  },
  {
   "cell_type": "markdown",
   "metadata": {},
   "source": [
    "## Problema 10\n",
    "\n",
    "Escribir un código que imprima la secuencia de Fibonacci entre 0 y 50, usando para ello la instrucción `while`.\n",
    "\n",
    "**Nota**: La secuencia de Fibonacci son los números:\n",
    "```\n",
    "0, 1, 1, 2, 3, 4, 8, 13, ...\n",
    "```\n",
    "Tal que cada número es la suma de los dos anteriores. La salida esperada es:\n",
    "```\n",
    "0, 1, 1, 2, 3, 4, 8, 13, 21, 34\n",
    "```"
   ]
  },
  {
   "cell_type": "code",
   "execution_count": null,
   "metadata": {},
   "outputs": [],
   "source": [
    "# Tu código:\n",
    "\n"
   ]
  },
  {
   "cell_type": "markdown",
   "metadata": {},
   "source": [
    "## Problema 11\n",
    "\n",
    "Reemplazar `___` en el código siguiente para generar una lista con la longitud de las palabras en `frase`. Utilizar comprensión de listas."
   ]
  },
  {
   "cell_type": "code",
   "execution_count": null,
   "metadata": {},
   "outputs": [],
   "source": [
    "frase = 'He pasado una tarde estupenda, pero no ha sido ésta'\n",
    "palabras = frase.split()\n",
    "longitudes = [___]\n",
    "print(palabras)\n",
    "print(longitudes)\n",
    "\n",
    "assert longitudes == [2, 6, 3, 5, 10, 4, 2, 2, 4, 4]"
   ]
  },
  {
   "cell_type": "markdown",
   "metadata": {},
   "source": [
    "## Problema 12\n",
    "\n",
    "Repetir el problema anterior pero incoporando la longitud solo si la palabra no es `no`."
   ]
  },
  {
   "cell_type": "code",
   "execution_count": null,
   "metadata": {},
   "outputs": [],
   "source": [
    "frase = 'He pasado una tarde estupenda, pero no ha sido ésta'\n",
    "palabras = frase.split()\n",
    "longitudes = [___]\n",
    "print(palabras)\n",
    "print(longitudes)\n",
    "\n",
    "assert longitudes == [2, 6, 3, 5, 10, 4, 2, 4, 4]"
   ]
  }
 ],
 "metadata": {
  "kernelspec": {
   "display_name": "Python 3 (ipykernel)",
   "language": "python",
   "name": "python3"
  },
  "language_info": {
   "codemirror_mode": {
    "name": "ipython",
    "version": 3
   },
   "file_extension": ".py",
   "mimetype": "text/x-python",
   "name": "python",
   "nbconvert_exporter": "python",
   "pygments_lexer": "ipython3",
   "version": "3.8.16"
  }
 },
 "nbformat": 4,
 "nbformat_minor": 4
}
