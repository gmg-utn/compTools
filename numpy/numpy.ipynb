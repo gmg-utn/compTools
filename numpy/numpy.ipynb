{
 "cells": [
  {
   "cell_type": "markdown",
   "metadata": {},
   "source": [
    "# NumPy\n",
    "\n",
    "Ejecutar este documento en forma dinámica: [![Binder](https://mybinder.org/badge_logo.svg)](https://mybinder.org/v2/gh/gmg-utn/compTools/master?filepath=numpy/numpy.ipynb)"
   ]
  },
  {
   "cell_type": "markdown",
   "metadata": {},
   "source": [
    "## Introducción\n",
    "\n",
    "NumPy es un paquete de **_Scipy_**. Comentaremos brevemente cómo está compuesto Scipy para que se comprenda la potencialidad y el contexto de esta herramienta. Luego profundizaremos en NumPy.\n",
    "\n",
    "[Scipy](https://www.scipy.org/) es un acrónimo de \"Scientific Computing Tools for Python\" y se basa en los siguientes paquetes:\n",
    "\n",
    "- Python.\n",
    "\n",
    "- [NumPy](http://www.numpy.org/), diseñado para computación científica es su paquete principal para cálculo numérico. Define arreglos numéricos, matrices y operaciones básicas con éstos.\n",
    "\n",
    "- La [librería Scipy](https://www.scipy.org/scipylib/index.html), es una colección de algoritmos numéricos que incluyen: procesamiento de señales, optimización, estadística, procesamiento de imágenes, etc.\n",
    "\n",
    "- [Matplotlib](https://matplotlib.org/), paquete para visualización con calidad de publicación. Existen otros paquetes para visualización (una introducción en [GMGcode](https://github.com/manuxch/GMGCode)).\n",
    "\n",
    "También incluye otros paquetes especializados. Algunos de ellos son:\n",
    "\n",
    "- [pandas](https://pandas.pydata.org/), provee herramientas para el manejo sencillo de datos y estructuras de datos.\n",
    "\n",
    "- [SymPy](http://www.sympy.org/), para cálculo algebráico y matemática simbólica.\n",
    "\n",
    "- [scikit-image](http://scikit-image.org/) es una colección de algoritmos para procesamiento de imágenes.\n",
    "\n",
    "- [h5py](http://www.h5py.org/) manejo de datos en formato [HDF5](https://en.wikipedia.org/wiki/Hierarchical_Data_Format).\n"
   ]
  },
  {
   "cell_type": "markdown",
   "metadata": {},
   "source": [
    "## Ahora si, NumPy\n",
    "\n",
    "### Instalación\n",
    "Primero se debe _instalar_, para esto ver las instrucciones [aquí](https://scipy.org/install.html). Es recomendable hacerlo directamente de repositorios debian, ubuntu, etc. de tal manera que se instalen correctamente las dependencias. Como [ya lo hemos mencionado](https://nbviewer.jupyter.org/github/manuxch/intro2prog/blob/master/intro/intro.ipynb), existen distribuciones de Python que instalan por defecto todas las herramientas necesarias (ejemplo: Anaconda).\n",
    "\n",
    "### Aspectos básicos\n",
    "El objeto principal de NumPy es un arreglo multidimensional homogéneo. Es una tabla de elementos (números del mismo tipo) indexados como una tupla de enteros positivos.\n",
    "Por ejemplo:"
   ]
  },
  {
   "cell_type": "code",
   "execution_count": null,
   "metadata": {},
   "outputs": [],
   "source": [
    "import numpy as np #importo numpy y lo denomino np\n",
    "a = np.array([(1.5,2,3), (4,5,6)])\n",
    "print(a)"
   ]
  },
  {
   "cell_type": "markdown",
   "metadata": {},
   "source": [
    "Lo primero que hicimos fue importar el módulo NumPy como una variable de nombre _np_, esta es una variable del tipo módulo (<type 'module'>). A esta variable la usaremos para llamar todas las funciones y objetos que tiene NumPy. En el ejemplo anterior accedimos a la clase array (se llama ndarray) como _np.array_. \n",
    "\n",
    "En NumPy se denomina _axes_ a las dimensiones. En la variable _a_ hemos guardado un arreglo que tiene dos ejes (axes), el primero tiene longitud 2 y el segundo 3.\n",
    "\n",
    "La clase _ndarray_ tiene varios atributos. Algunos de ellos son:"
   ]
  },
  {
   "cell_type": "code",
   "execution_count": null,
   "metadata": {},
   "outputs": [],
   "source": [
    "#ndarray.ndim\n",
    "ndimensiones = a.ndim\n",
    "print('Tiene dos axes:',ndimensiones)\n",
    "\n",
    "#ndarray.shape\n",
    "forma = a.shape\n",
    "print('Indica la dimensión de cada eje en una tupla:',forma)\n",
    "print(type(forma))\n",
    "forma[1]#Se puede acceder al valor de cada elemento de la tupla.\n",
    "\n",
    "#ndarray.size\n",
    "tamanio = a.size\n",
    "print('Cantidad de elementos que puede almacenar:',tamanio)\n",
    "\n",
    "#ndarray.dtype\n",
    "print('Tipo de dato dentro del arreglo \"a\":',a.dtype)\n",
    "b = np.array([0,1,2])\n",
    "print('Tipo de dato dentro del arreglo \"b\":',b.dtype)\n",
    "a[1][2]"
   ]
  },
  {
   "cell_type": "markdown",
   "metadata": {},
   "source": [
    "### Crear un arreglo\n",
    "\n",
    "Existen varias formas de crear un arreglo NumPy:\n",
    "\n",
    "1. Como hicimos antes, Python list o tuplas.\n",
    "2. Usando funciones específicas de NumPy (ejemplos: _arange_, _linspace_, etc.).\n",
    "3. Leer datos desde un archivo.\n",
    "\n",
    "\n",
    "#### 1. Escribiendo los valores, desde listas o tuplas\n",
    "\n",
    "Debe remarcarse que en los arreglos el tipo de elemento se determina cuando se crea el arreglo. En el ejemplo, _a_ es float64 porque puse algún número con coma, y _b_ es int64 porque los puse sin coma. También se puede especificar de la siguiente manera:"
   ]
  },
  {
   "cell_type": "code",
   "execution_count": null,
   "metadata": {},
   "outputs": [],
   "source": [
    "c = np.array([(2.+1.j,1),(0+2.j,1-1j)],dtype=complex)\n",
    "print('c =\\n',c)\n",
    "print('Parte real:\\n',c.real)\n",
    "print('Parte imaginaria:\\n',c.imag)\n",
    "c.imag.dtype"
   ]
  },
  {
   "cell_type": "markdown",
   "metadata": {},
   "source": [
    "Algunos tipos de datos comunes son: int, float, complex, bool, object, etc.\n",
    "Además, podemos definir el tamaño (cantindad de bits) con: int64, int16, float128, complex128.\n",
    "\n",
    "Otra cosa que se puede hacer es convertir una lista a un NumPy array:"
   ]
  },
  {
   "cell_type": "code",
   "execution_count": null,
   "metadata": {},
   "outputs": [],
   "source": [
    "d = [2.1, 2.4, 2.3, 1.9]\n",
    "dnp = np.asarray(d)\n",
    "print('\"d\" es tipo:',type(d))\n",
    "print('\"dnp\" es tipo:',type(dnp))\n",
    "print(dnp.mean()) #método de la clase ndarray que calcula el promedio"
   ]
  },
  {
   "cell_type": "markdown",
   "metadata": {},
   "source": [
    "Otro ejemplo convirtiendo una lista (esta puede servir cuando debo cargar muchos datos):"
   ]
  },
  {
   "cell_type": "code",
   "execution_count": null,
   "metadata": {},
   "outputs": [],
   "source": [
    "e = []#inicializo una lista vacía\n",
    "for n in range(0,30,5):\n",
    "    e.append(n)\n",
    "    \n",
    "print(e)\n",
    "print(type(e))\n",
    "enp = np.asarray(e)\n",
    "print(type(enp))\n",
    "print(enp.shape)"
   ]
  },
  {
   "cell_type": "markdown",
   "metadata": {},
   "source": [
    "#### 2. Utilizando funciones de NumPy\n",
    "Cuando debo escribir muchos números o inicializar un arreglo grande es conveniente usar funciones que tiene NumPy. \n",
    "\n",
    "- Ejemplos de creación de vectores:"
   ]
  },
  {
   "cell_type": "code",
   "execution_count": null,
   "metadata": {},
   "outputs": [],
   "source": [
    "#Función arange (pariente de range), cuidado el límite superior no está incluido\n",
    "x = np.arange(0.0, 10.0, 0.5) # argumentos: start, stop, step\n",
    "\n",
    "#Función linspace, ambos límites están incluidos\n",
    "y = np.linspace(0, 10, 25)\n",
    "\n",
    "#Función logspace\n",
    "pot1, pot2 = 2, 6\n",
    "z = np.logspace(pot1, pot2, 5)#Aquí debo poner las potencias (10^pot1 10^pot2), puedo agregar también la base \"base=e\"\n",
    "print(z)"
   ]
  },
  {
   "cell_type": "markdown",
   "metadata": {},
   "source": [
    "- Ejemplos de creación de matrices:\n",
    "\n",
    "Matrices de todos ceros o todos unos:"
   ]
  },
  {
   "cell_type": "code",
   "execution_count": null,
   "metadata": {},
   "outputs": [],
   "source": [
    "Ceros = np.zeros((2,2))\n",
    "print(Ceros)\n",
    "Unos = np.ones((3,3))\n",
    "print(Unos)\n",
    "Unosvec = np.ones(5)\n",
    "print(Unosvec)"
   ]
  },
  {
   "cell_type": "markdown",
   "metadata": {},
   "source": [
    "También se pueden crear matrices/vectores copiando el tamaño de una matriz/vector determinado. Por ejemplo, si quisieramos un arreglo del tamaño del vector de _a_:"
   ]
  },
  {
   "cell_type": "code",
   "execution_count": null,
   "metadata": {},
   "outputs": [],
   "source": [
    "Ceros_como_a = np.zeros_like(a)\n",
    "print(Ceros_como_a)\n",
    "Unos_como_a = np.ones_like(a)\n",
    "print(Unos_como_a)\n"
   ]
  },
  {
   "cell_type": "markdown",
   "metadata": {},
   "source": [
    "Matrices diagonales:"
   ]
  },
  {
   "cell_type": "code",
   "execution_count": null,
   "metadata": {},
   "outputs": [],
   "source": [
    "#ndarray.diag\n",
    "A = np.diag([1,2,3])\n",
    "print(A)"
   ]
  },
  {
   "cell_type": "markdown",
   "metadata": {},
   "source": [
    "También se pueden crear otros tipos de matrices diagonales:"
   ]
  },
  {
   "cell_type": "code",
   "execution_count": null,
   "metadata": {},
   "outputs": [],
   "source": [
    "np.diag([1,2,3], k=-1) "
   ]
  },
  {
   "cell_type": "markdown",
   "metadata": {},
   "source": [
    "También se pueden crear matrices o vectores aleatorios, para eso hay que utilizar la función random. Por ejemplo:"
   ]
  },
  {
   "cell_type": "code",
   "execution_count": null,
   "metadata": {},
   "outputs": [],
   "source": [
    "Aruido = np.random.rand(5,5)\n",
    "print(Aruido)"
   ]
  },
  {
   "cell_type": "markdown",
   "metadata": {},
   "source": [
    "Note que en el ejemplo anterior llamamos la clase random que tiene un método llamado rand que genera números aleatorios en el intervalo (0,1) con una distribución aproximadamente Uniforme. El algoritmo utiliza el generador Mersenne Twister. Con una distribución Normal Estandar (media cero y varianza uno):"
   ]
  },
  {
   "cell_type": "code",
   "execution_count": null,
   "metadata": {},
   "outputs": [],
   "source": [
    "k = np.random.randn(40)\n",
    "print(k)\n",
    "print('Media muestral:',k.mean())\n",
    "print('Varianza muestral:',(k.std())**2)"
   ]
  },
  {
   "cell_type": "markdown",
   "metadata": {},
   "source": [
    "como se ve, calculamos media y varianza muestrales y dan parecidas a las poblacionales."
   ]
  },
  {
   "cell_type": "markdown",
   "metadata": {},
   "source": [
    "#### 3. Leer datos desde un archivo\n",
    "Existen diferentes funciones para hacerlo:\n",
    "\n",
    "a) Cargar un archivo de texto con loadtxt\n",
    "\n",
    "b) Formato Numpy\n",
    "\n",
    "a) Comenzaremos cargando un tipo de archivo del tipo .csv (comma separated value). En este tipo de archivo los datos están en columnas separadas por coma. La función de NumPy [loadtxt](https://docs.scipy.org/doc/numpy/reference/generated/numpy.loadtxt.html) carga directamente las columnas y las guarda un arreglos. Para ejemplificar tomaremos datos de un ensayo de tracción de una probeta de fundición de sección rectangular con dimensiones 4,8 mm $\\times$ 16,9 mm. "
   ]
  },
  {
   "cell_type": "code",
   "execution_count": null,
   "metadata": {},
   "outputs": [],
   "source": [
    "!head datos.dat #funciona en jupyter, en consola sólo head file.\n",
    "F,L = np.loadtxt('datos.dat', usecols=(0,1),comments='#',delimiter=',', unpack=True)\n",
    "epsilon = 100.*(L-L[0])/L[0] #Normalizando la deformación en %\n",
    "A0 = 4.8e-3*16.9e-3 #Sección \n",
    "sigma = F/(A0*1e6) #Obteniendo el esfuerzo en MPa"
   ]
  },
  {
   "cell_type": "markdown",
   "metadata": {},
   "source": [
    "Note que la función tiene como argumentos que columnas selecciono, con qué caracter comienzan los comentarios, cuál es el separador de los datos (en este caso coma). Se puede utilizar una función un poco más sofisticada que permite operar cuando faltan datos se llama [genfromtxt](https://docs.scipy.org/doc/numpy/reference/generated/numpy.genfromtxt.html). Podemos dibujar los datos utilizando matplotlib de la siguiente forma:"
   ]
  },
  {
   "cell_type": "code",
   "execution_count": null,
   "metadata": {},
   "outputs": [],
   "source": [
    "%matplotlib inline\n",
    "import matplotlib.pyplot as plt\n",
    "fig, ax = plt.subplots(figsize=(6,6))\n",
    "ax.plot(epsilon,sigma,'-o')\n",
    "ax.axis('tight')\n",
    "ax.set_title('Ensayo de tracción de pieza de fundición')\n",
    "ax.set_xlabel(r'$\\varepsilon$ %')\n",
    "ax.set_ylabel(r'$\\sigma$ [MPa]');"
   ]
  },
  {
   "cell_type": "markdown",
   "metadata": {},
   "source": [
    "b) También se puede cargar un archivo del formato específico de NumPy. Para esto, primero vamos a salvar un archivo con ese formato y luego lo cargaremos."
   ]
  },
  {
   "cell_type": "code",
   "execution_count": null,
   "metadata": {},
   "outputs": [],
   "source": [
    "np.save(\"vectorAleatorio.npy\", k)\n",
    "!file vectorAleatorio.npy"
   ]
  },
  {
   "cell_type": "markdown",
   "metadata": {},
   "source": [
    "Ahora lo cargamos:"
   ]
  },
  {
   "cell_type": "code",
   "execution_count": null,
   "metadata": {},
   "outputs": [],
   "source": [
    "vecAleatorio = np.load(\"vectorAleatorio.npy\")"
   ]
  },
  {
   "cell_type": "markdown",
   "metadata": {},
   "source": [
    "También lo podemos graficar."
   ]
  },
  {
   "cell_type": "code",
   "execution_count": null,
   "metadata": {},
   "outputs": [],
   "source": [
    "fig, ax = plt.subplots(figsize=(6,6))\n",
    "ax.plot(vecAleatorio,'-^',label= 'Distribución Normal')\n",
    "ax.axis('tight')\n",
    "ax.set_title('Vector aleatorio Normal')\n",
    "ax.set_xlabel('Índice')\n",
    "ax.set_ylabel('Valor')\n",
    "plt.legend(framealpha=0.5,loc=2);"
   ]
  },
  {
   "cell_type": "markdown",
   "metadata": {},
   "source": [
    "### Manipulación de arreglos\n",
    "#### Acceso mediante índices\n",
    "Si tomamos el vector anterior, podemos acceder a cada elemento mediante corchetes y el índice, por ejemplo:"
   ]
  },
  {
   "cell_type": "code",
   "execution_count": null,
   "metadata": {},
   "outputs": [],
   "source": [
    "vecAleatorio[8]"
   ]
  },
  {
   "cell_type": "markdown",
   "metadata": {},
   "source": [
    "Si en cambio es una matriz como la que definimos antes _M_:"
   ]
  },
  {
   "cell_type": "code",
   "execution_count": null,
   "metadata": {},
   "outputs": [],
   "source": [
    "M = np.random.rand(5,5)\n",
    "print(M)\n",
    "print(M[0,0])\n",
    "print(M[0][0])#Es equivalente a la notación anterior\n",
    "print(M[0,1])"
   ]
  },
  {
   "cell_type": "markdown",
   "metadata": {},
   "source": [
    "O podríamos mostrar una fila:"
   ]
  },
  {
   "cell_type": "code",
   "execution_count": null,
   "metadata": {},
   "outputs": [],
   "source": [
    "print(M[4])\n",
    "M[4].shape"
   ]
  },
  {
   "cell_type": "markdown",
   "metadata": {},
   "source": [
    "Una forma un poco más correcta es:"
   ]
  },
  {
   "cell_type": "code",
   "execution_count": null,
   "metadata": {},
   "outputs": [],
   "source": [
    "M[4,:]#Fila"
   ]
  },
  {
   "cell_type": "markdown",
   "metadata": {},
   "source": [
    "Para una columna:"
   ]
  },
  {
   "cell_type": "code",
   "execution_count": null,
   "metadata": {},
   "outputs": [],
   "source": [
    "M[:,0]#Columna"
   ]
  },
  {
   "cell_type": "markdown",
   "metadata": {},
   "source": [
    "Se pueden asignar valores a determinados elementos o conjunto de elementos (filas, columnas o parte de ellas)."
   ]
  },
  {
   "cell_type": "code",
   "execution_count": null,
   "metadata": {},
   "outputs": [],
   "source": [
    "M[1,1] = 100.0#Al índice 1,1\n",
    "print('M:\\n',M)\n",
    "M[:,0] = 0.0#Agrego ceros a toda la primer columna\n",
    "print('M:\\n',M)\n",
    "M[2:4,3] = -10.0#Cambiar los elementos del tercero al quinto de la cuarta columna\n",
    "print('M:\\n',M)"
   ]
  },
  {
   "cell_type": "markdown",
   "metadata": {},
   "source": [
    "#### Rebanado\n",
    "Con vectores podemos hacer lo siguiente:"
   ]
  },
  {
   "cell_type": "code",
   "execution_count": null,
   "metadata": {},
   "outputs": [],
   "source": [
    "a = np.arange(10)\n",
    "print('Original a:',a)\n",
    "a[2:9:3] # [start:end:step]\n"
   ]
  },
  {
   "cell_type": "code",
   "execution_count": null,
   "metadata": {},
   "outputs": [],
   "source": [
    "a[:5]#El último no está incluido"
   ]
  },
  {
   "cell_type": "code",
   "execution_count": null,
   "metadata": {},
   "outputs": [],
   "source": [
    "a[3:]"
   ]
  },
  {
   "cell_type": "code",
   "execution_count": null,
   "metadata": {},
   "outputs": [],
   "source": [
    "a[-1]#Último elemento"
   ]
  },
  {
   "cell_type": "code",
   "execution_count": null,
   "metadata": {},
   "outputs": [],
   "source": [
    "a[::-1]#Invierto"
   ]
  },
  {
   "cell_type": "code",
   "execution_count": null,
   "metadata": {},
   "outputs": [],
   "source": [
    "a[::-2]#Invierto y remuestreo"
   ]
  },
  {
   "cell_type": "code",
   "execution_count": null,
   "metadata": {},
   "outputs": [],
   "source": [
    "a[-3:]#Últimos tres elementos"
   ]
  },
  {
   "cell_type": "markdown",
   "metadata": {},
   "source": [
    "Para matrices, más o menos similar:"
   ]
  },
  {
   "cell_type": "code",
   "execution_count": null,
   "metadata": {},
   "outputs": [],
   "source": [
    "A = np.array([[n+m*10 for n in range(5)] for m in range(5)])\n",
    "A"
   ]
  },
  {
   "cell_type": "code",
   "execution_count": null,
   "metadata": {},
   "outputs": [],
   "source": [
    "A[::2, ::2]"
   ]
  },
  {
   "cell_type": "markdown",
   "metadata": {},
   "source": [
    "#### Indexado Fancy\n",
    "Se denomina indexado fancy cuando un arreglo o una lista se utiliza en lugar de un índice. Algunos ejemplos de este tipo de indexado:"
   ]
  },
  {
   "cell_type": "code",
   "execution_count": null,
   "metadata": {},
   "outputs": [],
   "source": [
    "indices_filas = [2, 3]#Tercer y cuarta fila\n",
    "A[indices_filas]"
   ]
  },
  {
   "cell_type": "code",
   "execution_count": null,
   "metadata": {},
   "outputs": [],
   "source": [
    "indices_columnas= [1, -1]#Segunda columna y última\n",
    "A[:,indices_columnas]"
   ]
  },
  {
   "cell_type": "markdown",
   "metadata": {},
   "source": [
    "También se puede enmascarar algunos elementos con variables booleanas:"
   ]
  },
  {
   "cell_type": "code",
   "execution_count": null,
   "metadata": {},
   "outputs": [],
   "source": [
    "b = np.array([n for n in range(5)])\n",
    "b"
   ]
  },
  {
   "cell_type": "code",
   "execution_count": null,
   "metadata": {},
   "outputs": [],
   "source": [
    "mascara = np.array([True, False, True, False, False])\n",
    "b[mascara]"
   ]
  },
  {
   "cell_type": "markdown",
   "metadata": {},
   "source": [
    "Mejor que pasarle a mano estas variables se pueden utilizar inecuaciones:"
   ]
  },
  {
   "cell_type": "code",
   "execution_count": null,
   "metadata": {},
   "outputs": [],
   "source": [
    "mascara = b < 2\n",
    "b[mascara]"
   ]
  },
  {
   "cell_type": "code",
   "execution_count": null,
   "metadata": {},
   "outputs": [],
   "source": [
    "c = np.array([n for n in range(20)])\n",
    "print(c)\n",
    "mascara = (c < 10) & (c % 2 == 0) #Menores que diez divisibles por dos\n",
    "c[mascara]"
   ]
  },
  {
   "cell_type": "markdown",
   "metadata": {},
   "source": [
    "### Operaciones por elemento\n",
    "#### Aritméticas\n",
    "Suma con un escalar:"
   ]
  },
  {
   "cell_type": "code",
   "execution_count": null,
   "metadata": {},
   "outputs": [],
   "source": [
    "A+100"
   ]
  },
  {
   "cell_type": "markdown",
   "metadata": {},
   "source": [
    "Suma de elemento a elemento:"
   ]
  },
  {
   "cell_type": "code",
   "execution_count": null,
   "metadata": {},
   "outputs": [],
   "source": [
    "A+A"
   ]
  },
  {
   "cell_type": "markdown",
   "metadata": {},
   "source": [
    "Producto elemento a elemento (cuidado no es producto de matrices):"
   ]
  },
  {
   "cell_type": "code",
   "execution_count": null,
   "metadata": {},
   "outputs": [],
   "source": [
    "A*A"
   ]
  },
  {
   "cell_type": "markdown",
   "metadata": {},
   "source": [
    "Para multiplicar matrices se usar [matmul](https://docs.scipy.org/doc/numpy/reference/generated/numpy.matmul.html#numpy.matmul)):"
   ]
  },
  {
   "cell_type": "code",
   "execution_count": null,
   "metadata": {},
   "outputs": [],
   "source": [
    "B = np.eye(2)\n",
    "print(B)\n",
    "C = np.ones((2, 2)) * 2\n",
    "print(C)\n",
    "np.matmul(B,C)"
   ]
  },
  {
   "cell_type": "markdown",
   "metadata": {},
   "source": [
    "Para comparar elementos se pueden utilizar <, >, ==, etc.:"
   ]
  },
  {
   "cell_type": "code",
   "execution_count": null,
   "metadata": {},
   "outputs": [],
   "source": [
    "a = np.array([1, 2, 3, 4])\n",
    "b = np.array([4, 2, 2, 4])\n",
    "a==b"
   ]
  },
  {
   "cell_type": "markdown",
   "metadata": {},
   "source": [
    "También se puede comparar el arreglo completo:"
   ]
  },
  {
   "cell_type": "code",
   "execution_count": null,
   "metadata": {},
   "outputs": [],
   "source": [
    "np.array_equal(a,b)"
   ]
  },
  {
   "cell_type": "code",
   "execution_count": null,
   "metadata": {},
   "outputs": [],
   "source": [
    "np.array_equal(a,a)"
   ]
  },
  {
   "cell_type": "markdown",
   "metadata": {},
   "source": [
    "También existen otras operaciones lógicas como logical_or y logical_and para esto los arreglos deben ser booleanos:"
   ]
  },
  {
   "cell_type": "code",
   "execution_count": null,
   "metadata": {},
   "outputs": [],
   "source": [
    "a = np.array([1, 1, 0, 0], dtype=bool)\n",
    "b = np.array([1, 0, 1, 0], dtype=bool)\n",
    "np.logical_or(a, b)"
   ]
  },
  {
   "cell_type": "markdown",
   "metadata": {},
   "source": [
    "#### Funciones\n",
    "Existen varias funciones implementadas en numpy. Trigonométricas, estadísticas (ya vimos mean(), std()), etc."
   ]
  },
  {
   "cell_type": "code",
   "execution_count": null,
   "metadata": {},
   "outputs": [],
   "source": [
    "t = np.linspace(0., 10., 100)\n",
    "f = 0.5 #Frecuencia 0.5 Hz\n",
    "y = np.sin(2*np.pi*f*t)\n",
    "fig, ax = plt.subplots(figsize=(6,6))\n",
    "ax.plot(t,y)\n",
    "ax.axis('tight')\n",
    "ax.set_title('Función trigonométricas')\n",
    "ax.set_xlabel('tiempo [s]')\n",
    "ax.set_ylabel('y');"
   ]
  },
  {
   "cell_type": "markdown",
   "metadata": {},
   "source": [
    "Algunas operaciones conocidas como reducciones:"
   ]
  },
  {
   "cell_type": "code",
   "execution_count": null,
   "metadata": {},
   "outputs": [],
   "source": [
    "x = np.array([1, 2, 3, 4])\n",
    "x.sum()#también funciona np.sum(x)"
   ]
  },
  {
   "cell_type": "markdown",
   "metadata": {},
   "source": [
    "Se pueden sumar los diferentes ejes:"
   ]
  },
  {
   "cell_type": "code",
   "execution_count": null,
   "metadata": {},
   "outputs": [],
   "source": [
    "a = np.array([[1.0, 2.0], [3.0, 4.0]])\n",
    "print('Matriz original:\\n',a)\n",
    "print('Por columnas:\\n',a.sum(axis=0))\n",
    "print('Por filas:\\n',a.sum(axis=1))"
   ]
  },
  {
   "cell_type": "markdown",
   "metadata": {},
   "source": [
    "Otro tipo de funciones y reducciones (también se pueden hacer por eje):"
   ]
  },
  {
   "cell_type": "code",
   "execution_count": null,
   "metadata": {},
   "outputs": [],
   "source": [
    "a.min(axis=0)"
   ]
  },
  {
   "cell_type": "code",
   "execution_count": null,
   "metadata": {},
   "outputs": [],
   "source": [
    "x = np.array([10, 20, 8, 9])\n",
    "x.argmin()"
   ]
  },
  {
   "cell_type": "markdown",
   "metadata": {},
   "source": [
    "Operaciones lógicas y comparaciones:"
   ]
  },
  {
   "cell_type": "code",
   "execution_count": null,
   "metadata": {},
   "outputs": [],
   "source": [
    "np.any(x==8)"
   ]
  },
  {
   "cell_type": "code",
   "execution_count": null,
   "metadata": {},
   "outputs": [],
   "source": [
    "np.all(x==8)"
   ]
  },
  {
   "cell_type": "markdown",
   "metadata": {},
   "source": [
    "Se puede manipular la forma de un arreglo. Aquí van unas funciones útiles.\n",
    "\n",
    "Aplanamiento:"
   ]
  },
  {
   "cell_type": "code",
   "execution_count": null,
   "metadata": {},
   "outputs": [],
   "source": [
    "a = np.array([[1, 2, 3], [4, 5, 6]])\n",
    "a.ravel()"
   ]
  },
  {
   "cell_type": "markdown",
   "metadata": {},
   "source": [
    "Reshape:"
   ]
  },
  {
   "cell_type": "code",
   "execution_count": null,
   "metadata": {},
   "outputs": [],
   "source": [
    "b = a.ravel()\n",
    "b = b.reshape((2, 3))\n",
    "b"
   ]
  },
  {
   "cell_type": "markdown",
   "metadata": {},
   "source": [
    "Algunas cosas más raras:"
   ]
  },
  {
   "cell_type": "code",
   "execution_count": null,
   "metadata": {},
   "outputs": [],
   "source": [
    "a = np.arange(4*3*2).reshape(4, 3, 2)\n",
    "a"
   ]
  },
  {
   "cell_type": "markdown",
   "metadata": {},
   "source": [
    "Se puede ordenar:"
   ]
  },
  {
   "cell_type": "code",
   "execution_count": null,
   "metadata": {},
   "outputs": [],
   "source": [
    "a = np.array([[4, 3, 5], [1, 2, 1]])\n",
    "b = np.sort(a, axis=1)\n",
    "b"
   ]
  },
  {
   "cell_type": "markdown",
   "metadata": {},
   "source": [
    "#### Álgebra lineal\n",
    "También se pueden realizar algunos cálculos de __*álgebra lineal*__. Para esto se deben acceder a algunas funciones de [np.linalg](https://docs.scipy.org/doc/numpy/reference/routines.linalg.html). Aquí un ejemplo:\n",
    "\n",
    "$Ax = b$"
   ]
  },
  {
   "cell_type": "code",
   "execution_count": null,
   "metadata": {},
   "outputs": [],
   "source": [
    "A = np.array([[1.0, 2.0], [3.0, 4.0]])\n",
    "print('Matriz original:\\n',A)\n",
    "print('Matriz transpuesta:\\n',A.transpose())#También funciona A.T\n",
    "print('Inversa de la Matriz:\\n',np.linalg.inv(A))\n",
    "print('Verificamos:\\n',np.matmul(A,np.linalg.inv(A)))\n",
    "b = np.array([[5.], [7.]])\n",
    "print('Solución del sistema lineal (despejamos x):\\n',np.linalg.solve(A, b))"
   ]
  },
  {
   "cell_type": "markdown",
   "metadata": {},
   "source": [
    "#### Histogramas\n",
    "Se pueden construir histogramas muy facilmente con ayuda de matplotlib. Un ejemplo de un histograma de una variable aleatoria con distribución Normal."
   ]
  },
  {
   "cell_type": "code",
   "execution_count": null,
   "metadata": {},
   "outputs": [],
   "source": [
    "mu, sigma = 2, 0.5\n",
    "v = np.random.normal(mu,sigma,10000)\n",
    "plt.hist(v, bins=50, density=1);"
   ]
  },
  {
   "cell_type": "code",
   "execution_count": null,
   "metadata": {},
   "outputs": [],
   "source": [
    "(n, bins) = np.histogram(v, bins=50, density=True)  # Con la versión de NumPy\n",
    "plt.plot(.5*(bins[1:]+bins[:-1]), n);"
   ]
  },
  {
   "cell_type": "markdown",
   "metadata": {},
   "source": [
    "#### Interpolación (fitting)\n",
    "Con NumPy también podemos realizar una interpolación con polinomios y otras funciones. Continuaremos con el ejemplo del ensayo de tracción y estimaremos el módulo de elasticidad. Utilizaremos la función [polyfit](https://docs.scipy.org/doc/numpy/reference/generated/numpy.polyfit.html)."
   ]
  },
  {
   "cell_type": "code",
   "execution_count": null,
   "metadata": {},
   "outputs": [],
   "source": [
    "F,L = np.loadtxt('datos.dat', usecols=(0,1),comments='#',delimiter=',', unpack=True)\n",
    "epsilon = 100.*(L-L[0])/L[0] #Normalizando la deformación en %\n",
    "A0 = 4.8e-3*16.9e-3 #Sección \n",
    "sigma = F/(A0*1e6) #Obteniendo el esfuerzo en MPa\n",
    "fig, ax = plt.subplots(figsize=(6,6))\n",
    "ax.plot(epsilon,sigma,'o')\n",
    "ax.axis('tight')\n",
    "ax.set_title('Ensayo de tracción de pieza de fundición')\n",
    "ax.set_xlabel(r'$\\varepsilon$ %')\n",
    "ax.set_ylabel(r'$\\sigma$ [MPa]')\n",
    "p = np.polyfit(epsilon[:5], sigma[:5], 1)\n",
    "sigma_est = np.polyval(p, np.arange(-0.5,.2,0.01))\n",
    "ax.plot(np.arange(-0.5,.2,0.01),sigma_est,'r');\n",
    "ax.set_xlim(0,1)\n",
    "print('Módulo de elasticidad E =',p[1]/(100*1e-3),' GPa')"
   ]
  },
  {
   "cell_type": "code",
   "execution_count": null,
   "metadata": {},
   "outputs": [],
   "source": []
  }
 ],
 "metadata": {
  "kernelspec": {
   "display_name": "Python 3",
   "language": "python",
   "name": "python3"
  },
  "language_info": {
   "codemirror_mode": {
    "name": "ipython",
    "version": 3
   },
   "file_extension": ".py",
   "mimetype": "text/x-python",
   "name": "python",
   "nbconvert_exporter": "python",
   "pygments_lexer": "ipython3",
   "version": "3.7.5rc1"
  }
 },
 "nbformat": 4,
 "nbformat_minor": 2
}
